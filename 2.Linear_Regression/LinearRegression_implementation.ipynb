{
 "cells": [
  {
   "cell_type": "code",
   "execution_count": 1,
   "metadata": {},
   "outputs": [],
   "source": [
    "import numpy as np\n",
    "from sklearn.datasets import load_boston,make_regression\n",
    "from sklearn.model_selection import train_test_split"
   ]
  },
  {
   "cell_type": "code",
   "execution_count": 2,
   "metadata": {},
   "outputs": [
    {
     "name": "stderr",
     "output_type": "stream",
     "text": [
      "c:\\Users\\Armaan\\anaconda3\\lib\\site-packages\\sklearn\\utils\\deprecation.py:87: FutureWarning: Function load_boston is deprecated; `load_boston` is deprecated in 1.0 and will be removed in 1.2.\n",
      "\n",
      "    The Boston housing prices dataset has an ethical problem. You can refer to\n",
      "    the documentation of this function for further details.\n",
      "\n",
      "    The scikit-learn maintainers therefore strongly discourage the use of this\n",
      "    dataset unless the purpose of the code is to study and educate about\n",
      "    ethical issues in data science and machine learning.\n",
      "\n",
      "    In this special case, you can fetch the dataset from the original\n",
      "    source::\n",
      "\n",
      "        import pandas as pd\n",
      "        import numpy as np\n",
      "\n",
      "\n",
      "        data_url = \"http://lib.stat.cmu.edu/datasets/boston\"\n",
      "        raw_df = pd.read_csv(data_url, sep=\"\\s+\", skiprows=22, header=None)\n",
      "        data = np.hstack([raw_df.values[::2, :], raw_df.values[1::2, :2]])\n",
      "        target = raw_df.values[1::2, 2]\n",
      "\n",
      "    Alternative datasets include the California housing dataset (i.e.\n",
      "    :func:`~sklearn.datasets.fetch_california_housing`) and the Ames housing\n",
      "    dataset. You can load the datasets as follows::\n",
      "\n",
      "        from sklearn.datasets import fetch_california_housing\n",
      "        housing = fetch_california_housing()\n",
      "\n",
      "    for the California housing dataset and::\n",
      "\n",
      "        from sklearn.datasets import fetch_openml\n",
      "        housing = fetch_openml(name=\"house_prices\", as_frame=True)\n",
      "\n",
      "    for the Ames housing dataset.\n",
      "    \n",
      "  warnings.warn(msg, category=FutureWarning)\n"
     ]
    }
   ],
   "source": [
    "boston=load_boston()\n",
    "x=boston.data\n",
    "y=boston.target"
   ]
  },
  {
   "cell_type": "code",
   "execution_count": 3,
   "metadata": {},
   "outputs": [],
   "source": [
    "x,y=make_regression(n_samples=100,n_features=1,noise=20,random_state=4)"
   ]
  },
  {
   "cell_type": "code",
   "execution_count": 4,
   "metadata": {},
   "outputs": [
    {
     "name": "stdout",
     "output_type": "stream",
     "text": [
      ".. _boston_dataset:\n",
      "\n",
      "Boston house prices dataset\n",
      "---------------------------\n",
      "\n",
      "**Data Set Characteristics:**  \n",
      "\n",
      "    :Number of Instances: 506 \n",
      "\n",
      "    :Number of Attributes: 13 numeric/categorical predictive. Median Value (attribute 14) is usually the target.\n",
      "\n",
      "    :Attribute Information (in order):\n",
      "        - CRIM     per capita crime rate by town\n",
      "        - ZN       proportion of residential land zoned for lots over 25,000 sq.ft.\n",
      "        - INDUS    proportion of non-retail business acres per town\n",
      "        - CHAS     Charles River dummy variable (= 1 if tract bounds river; 0 otherwise)\n",
      "        - NOX      nitric oxides concentration (parts per 10 million)\n",
      "        - RM       average number of rooms per dwelling\n",
      "        - AGE      proportion of owner-occupied units built prior to 1940\n",
      "        - DIS      weighted distances to five Boston employment centres\n",
      "        - RAD      index of accessibility to radial highways\n",
      "        - TAX      full-value property-tax rate per $10,000\n",
      "        - PTRATIO  pupil-teacher ratio by town\n",
      "        - B        1000(Bk - 0.63)^2 where Bk is the proportion of black people by town\n",
      "        - LSTAT    % lower status of the population\n",
      "        - MEDV     Median value of owner-occupied homes in $1000's\n",
      "\n",
      "    :Missing Attribute Values: None\n",
      "\n",
      "    :Creator: Harrison, D. and Rubinfeld, D.L.\n",
      "\n",
      "This is a copy of UCI ML housing dataset.\n",
      "https://archive.ics.uci.edu/ml/machine-learning-databases/housing/\n",
      "\n",
      "\n",
      "This dataset was taken from the StatLib library which is maintained at Carnegie Mellon University.\n",
      "\n",
      "The Boston house-price data of Harrison, D. and Rubinfeld, D.L. 'Hedonic\n",
      "prices and the demand for clean air', J. Environ. Economics & Management,\n",
      "vol.5, 81-102, 1978.   Used in Belsley, Kuh & Welsch, 'Regression diagnostics\n",
      "...', Wiley, 1980.   N.B. Various transformations are used in the table on\n",
      "pages 244-261 of the latter.\n",
      "\n",
      "The Boston house-price data has been used in many machine learning papers that address regression\n",
      "problems.   \n",
      "     \n",
      ".. topic:: References\n",
      "\n",
      "   - Belsley, Kuh & Welsch, 'Regression diagnostics: Identifying Influential Data and Sources of Collinearity', Wiley, 1980. 244-261.\n",
      "   - Quinlan,R. (1993). Combining Instance-Based and Model-Based Learning. In Proceedings on the Tenth International Conference of Machine Learning, 236-243, University of Massachusetts, Amherst. Morgan Kaufmann.\n",
      "\n"
     ]
    }
   ],
   "source": [
    "print(boston.DESCR)"
   ]
  },
  {
   "cell_type": "code",
   "execution_count": 5,
   "metadata": {},
   "outputs": [],
   "source": [
    "x_train,x_test,y_train,y_test=train_test_split(x,y,random_state=0)"
   ]
  },
  {
   "cell_type": "code",
   "execution_count": 6,
   "metadata": {},
   "outputs": [],
   "source": [
    "def cost(x1,y,w,b):\n",
    "    cost=0\n",
    "    M=len(x1)\n",
    "    for i in range(M):\n",
    "        cost+=(1/M)*((y[i]-np.dot(x1[i].T,w)-b)**2)\n",
    "    return cost"
   ]
  },
  {
   "cell_type": "code",
   "execution_count": 7,
   "metadata": {},
   "outputs": [],
   "source": [
    "def stepgradient(xi,y,lr,w,b):\n",
    "    M,N=xi.shape\n",
    "    wn=np.zeros(N)\n",
    "    bn=0\n",
    "    for i in range(M):\n",
    "        for j in range(N):\n",
    "            wn[j]+=(-2/M)*(y[i]-np.sum(np.dot(xi[i].T,w))-bn)*(xi[i][j])\n",
    "            bn+=(-2/M)*(y[i]-np.sum(np.dot(xi[i].T,w))-bn)\n",
    "    w_new=w+lr*wn\n",
    "    b_new=b+lr*bn\n",
    "    return w_new,b_new"
   ]
  },
  {
   "cell_type": "code",
   "execution_count": 8,
   "metadata": {},
   "outputs": [],
   "source": [
    "def gradientdescent(x_train,y,lr,itr):\n",
    "    w=np.zeros(x_train.shape[1])\n",
    "    b=0\n",
    "    for i in range(itr):\n",
    "        w,b=stepgradient(x_train,y,lr,w,b)\n",
    "        print(\" Cost=\",cost(x_train,y,w,b))\n",
    "    return w,b"
   ]
  },
  {
   "cell_type": "code",
   "execution_count": 9,
   "metadata": {},
   "outputs": [],
   "source": [
    "def fit(x_train,y_train,lr,itr):\n",
    "    n_samples,n_features=x_train.shape\n",
    "    weights=np.zeros(n_features)\n",
    "    bias=0\n",
    "    for i in range(itr):\n",
    "        y_predict=np.dot(x_train,weights)+bias\n",
    "        dw=(-2/n_samples)*np.dot(x_train.T,(y_train-y_predict))\n",
    "        db=(-2/n_samples)*np.sum(y_train-y_predict)\n",
    "        weights=weights-lr*dw\n",
    "        bias=bias-lr*db\n",
    "        print(\"cost=\",cost(x_train,y_train,weights,bias))\n",
    "        weights,bias=gradientdescent(x_train,y_train,lr,itr)\n",
    "    return weights,bias"
   ]
  },
  {
   "cell_type": "code",
   "execution_count": 10,
   "metadata": {},
   "outputs": [],
   "source": [
    "def predict(x,w,b):\n",
    "    y_pred=np.dot(x,w)+b\n",
    "    return y_pred"
   ]
  },
  {
   "cell_type": "code",
   "execution_count": 11,
   "metadata": {},
   "outputs": [],
   "source": [
    "def mse(y_pred,y_test):\n",
    "    return np.mean((y_test-y_pred)**2)"
   ]
  },
  {
   "cell_type": "code",
   "execution_count": 12,
   "metadata": {},
   "outputs": [
    {
     "name": "stdout",
     "output_type": "stream",
     "text": [
      "cost= 3808.943336170967\n",
      "cost= 2568.684841123736\n",
      "cost= 1768.8730253255494\n",
      "cost= 1252.5190147981036\n",
      "cost= 918.7948464487749\n",
      "cost= 702.8696417592345\n",
      "cost= 563.011155383819\n",
      "cost= 472.32574846503957\n",
      "cost= 413.4628686393532\n",
      "cost= 375.2162780002478\n",
      "cost= 350.3401989636246\n",
      "cost= 334.1445152457539\n",
      "cost= 323.590095059501\n",
      "cost= 316.70553403558677\n",
      "cost= 312.2107016558603\n",
      "cost= 309.2734961446294\n",
      "cost= 307.3524992489398\n",
      "cost= 306.0950856262999\n",
      "cost= 305.2713718332876\n",
      "cost= 304.73135337494017\n",
      "cost= 304.37706056987787\n",
      "cost= 304.14445242650265\n",
      "cost= 303.991631152567\n",
      "cost= 303.8911634153006\n",
      "cost= 303.8250726041834\n",
      "cost= 303.78157001041296\n",
      "cost= 303.75291919262827\n",
      "cost= 303.73403948983844\n",
      "cost= 303.7215920998956\n",
      "cost= 303.7133814882096\n",
      "cost= 303.7079630240789\n",
      "cost= 303.70438560265086\n",
      "cost= 303.70202269194226\n",
      "cost= 303.7004613490979\n",
      "cost= 303.6994292679998\n",
      "cost= 303.69874679552777\n",
      "cost= 303.6982953516441\n",
      "cost= 303.69799663347084\n",
      "cost= 303.697798913276\n",
      "cost= 303.69766800576815\n",
      "cost= 303.69758131053914\n",
      "cost= 303.69752388087574\n",
      "cost= 303.6974858285318\n",
      "cost= 303.69746060972153\n",
      "cost= 303.6974438926552\n",
      "cost= 303.69743280901514\n",
      "cost= 303.69742545902943\n",
      "cost= 303.6974205841102\n",
      "cost= 303.69741735025485\n",
      "cost= 303.69741520468995\n",
      "cost= 303.6974137809637\n",
      "cost= 303.697412836095\n",
      "cost= 303.69741220894406\n",
      "cost= 303.69741179262513\n",
      "cost= 303.6974115162305\n",
      "cost= 303.6974113327122\n",
      "cost= 303.69741121084877\n",
      "cost= 303.6974111299193\n",
      "cost= 303.69741107616903\n",
      "cost= 303.6974110404673\n",
      "cost= 303.6974110167519\n",
      "cost= 303.69741100099725\n",
      "cost= 303.69741099053084\n",
      "cost= 303.6974109835766\n",
      "cost= 303.697410978956\n",
      "cost= 303.6974109758857\n",
      "cost= 303.6974109738453\n",
      "cost= 303.69741097248965\n",
      "cost= 303.6974109715886\n",
      "cost= 303.6974109709898\n",
      "cost= 303.69741097059165\n",
      "cost= 303.6974109703271\n",
      "cost= 303.6974109701514\n",
      "cost= 303.6974109700344\n",
      "cost= 303.6974109699569\n",
      "cost= 303.69741096990515\n",
      "cost= 303.69741096987065\n",
      "cost= 303.6974109698479\n",
      "cost= 303.6974109698328\n",
      "cost= 303.69741096982267\n",
      "cost= 303.69741096981596\n",
      "cost= 303.69741096981153\n",
      "cost= 303.6974109698086\n",
      "cost= 303.69741096980664\n",
      "cost= 303.69741096980533\n",
      "cost= 303.69741096980437\n",
      "cost= 303.6974109698038\n",
      "cost= 303.6974109698034\n",
      "cost= 303.69741096980323\n",
      "cost= 303.6974109698031\n",
      "cost= 303.69741096980306\n",
      "cost= 303.69741096980283\n",
      "cost= 303.6974109698027\n",
      "cost= 303.6974109698028\n",
      "cost= 303.6974109698028\n",
      "cost= 303.6974109698026\n",
      "cost= 303.6974109698027\n",
      "cost= 303.6974109698028\n",
      "cost= 303.6974109698027\n",
      "cost= 303.6974109698028\n",
      " Cost= 8097.906326069495\n",
      " Cost= 11533.439276647097\n",
      " Cost= 16515.576865674313\n",
      " Cost= 23724.442117908304\n",
      " Cost= 34133.526094638764\n",
      " Cost= 49134.88643988633\n",
      " Cost= 70717.4825449073\n",
      " Cost= 101721.13598100274\n",
      " Cost= 146198.10894054658\n",
      " Cost= 209927.811209901\n",
      " Cost= 301149.3720964307\n",
      " Cost= 431604.15735485055\n",
      " Cost= 618019.199147518\n",
      " Cost= 884217.8123330217\n",
      " Cost= 1264122.3224503337\n",
      " Cost= 1806025.6838032282\n",
      " Cost= 2578667.833084246\n",
      " Cost= 3679878.8320841137\n",
      " Cost= 5248872.539200679\n",
      " Cost= 7483732.009771313\n",
      " Cost= 10666278.361863587\n",
      " Cost= 15197439.942208717\n",
      " Cost= 21647554.16023019\n",
      " Cost= 30827905.10163102\n",
      " Cost= 43892460.30016245\n",
      " Cost= 62482553.03508048\n",
      " Cost= 88932636.04598114\n",
      " Cost= 126562882.38706313\n",
      " Cost= 180095287.3923723\n",
      " Cost= 256245394.84359312\n",
      " Cost= 364563767.848456\n",
      " Cost= 518632605.6982874\n",
      " Cost= 737767389.7934264\n",
      " Cost= 1049436695.6501573\n",
      " Cost= 1492703256.1323035\n",
      " Cost= 2123117268.7138052\n",
      " Cost= 3019674826.2178674\n",
      " Cost= 4294712995.9429126\n",
      " Cost= 6107980869.605881\n",
      " Cost= 8686648919.683168\n",
      " Cost= 12353762729.474432\n",
      " Cost= 17568704760.56932\n",
      " Cost= 24984731737.119625\n",
      " Cost= 35530793813.665794\n",
      " Cost= 50527882791.40296\n",
      " Cost= 71854481127.17717\n",
      " Cost= 102181832942.52765\n",
      " Cost= 145308502851.6938\n",
      " Cost= 206636123371.34933\n",
      " Cost= 293845914315.00653\n",
      " Cost= 417860702501.61615\n",
      " Cost= 594212926493.9922\n",
      " Cost= 844989957089.4563\n",
      " Cost= 1201600367910.1858\n",
      " Cost= 1708707607051.4949\n",
      " Cost= 2429823727180.9873\n",
      " Cost= 3455263738755.092\n",
      " Cost= 4913456797609.108\n",
      " Cost= 6987030851101.695\n",
      " Cost= 9935685199108.576\n",
      " Cost= 14128715550436.492\n",
      " Cost= 20091265041909.543\n",
      " Cost= 28570093738394.65\n",
      " Cost= 40627103642689.99\n",
      " Cost= 57772332366943.6\n",
      " Cost= 82153071704446.81\n",
      " Cost= 116822796468377.38\n",
      " Cost= 166123584465814.1\n",
      " Cost= 236229922195573.1\n",
      " Cost= 335922002934538.3\n",
      " Cost= 477685365685386.3\n",
      " Cost= 679274594645378.1\n",
      " Cost= 965936918160508.9\n",
      " Cost= 1373574192458695.2\n",
      " Cost= 1953239279500469.8\n",
      " Cost= 2777529948848531.5\n",
      " Cost= 3949681080847765.0\n",
      " Cost= 5616493885768693.0\n",
      " Cost= 7986721404437477.0\n",
      " Cost= 1.1357212904818688e+16\n",
      " Cost= 1.615009151918521e+16\n",
      " Cost= 2.296562127814367e+16\n",
      " Cost= 3.2657384650044816e+16\n",
      " Cost= 4.643918587934275e+16\n",
      " Cost= 6.603706878117698e+16\n",
      " Cost= 9.390548781898907e+16\n",
      " Cost= 1.3353470589897187e+17\n",
      " Cost= 1.8988791761998976e+17\n",
      " Cost= 2.7002284363435024e+17\n",
      " Cost= 3.839756450799034e+17\n",
      " Cost= 5.4601786021324595e+17\n",
      " Cost= 7.764437829637178e+17\n",
      " Cost= 1.1041121360855967e+18\n",
      " Cost= 1.570060360026576e+18\n",
      " Cost= 2.232644173855011e+18\n",
      " Cost= 3.1748460908442767e+18\n",
      " Cost= 4.5146682128762383e+18\n",
      " Cost= 6.419910905297582e+18\n",
      " Cost= 9.129188244932447e+18\n",
      " Cost= 1.2981812232262291e+19\n"
     ]
    }
   ],
   "source": [
    "w,b=fit(x_train,y_train,lr=.1,itr=100)"
   ]
  },
  {
   "cell_type": "code",
   "execution_count": 13,
   "metadata": {},
   "outputs": [
    {
     "name": "stdout",
     "output_type": "stream",
     "text": [
      "1.0496407978738549e+19\n"
     ]
    }
   ],
   "source": [
    "y_pred=predict(x_test,w,b)\n",
    "print(mse(y_pred,y_test))"
   ]
  },
  {
   "cell_type": "code",
   "execution_count": 14,
   "metadata": {},
   "outputs": [
    {
     "data": {
      "text/plain": [
       "array([-3.13831529e+09, -4.10301558e+09, -4.49066365e+09,  4.68002257e+09,\n",
       "       -2.44877494e+09, -2.15487142e+09, -6.43359910e+09, -1.88335934e+09,\n",
       "       -4.35991345e+09, -2.44876473e+09,  7.65710756e+08, -4.52776013e+08,\n",
       "       -2.77031674e+09, -1.07020682e+09, -3.99003073e+09, -2.33359270e+09,\n",
       "        2.43601295e+09,  6.44784433e+09, -2.04548001e+09,  2.39330933e+09,\n",
       "       -1.17986576e+09,  4.94192075e+08, -1.47670123e+09, -3.03159790e+09,\n",
       "        3.41593664e+09])"
      ]
     },
     "execution_count": 14,
     "metadata": {},
     "output_type": "execute_result"
    }
   ],
   "source": [
    "y_pred"
   ]
  },
  {
   "cell_type": "code",
   "execution_count": 15,
   "metadata": {},
   "outputs": [
    {
     "data": {
      "text/plain": [
       "array([  24.13154879,   64.66264562,   63.15463302, -158.28468928,\n",
       "          9.55981705,   24.2973507 ,  141.46769811,   41.12497399,\n",
       "         52.1696979 ,   34.44108322,  -56.55140067,  -12.46435171,\n",
       "         19.1701073 ,   31.80766772,   53.81362958,    0.98036703,\n",
       "       -101.89829601, -181.34840044,    9.20267903,  -95.34105851,\n",
       "         -3.80893607,  -21.4183161 ,    6.05472009,   28.14443518,\n",
       "        -97.2027103 ])"
      ]
     },
     "execution_count": 15,
     "metadata": {},
     "output_type": "execute_result"
    }
   ],
   "source": [
    "y_test"
   ]
  },
  {
   "cell_type": "code",
   "execution_count": 16,
   "metadata": {},
   "outputs": [],
   "source": [
    "def score(y_predict,y_true):\n",
    "    y_mean=np.mean(y_true)\n",
    "    return 1-(np.sum((y_true-y_predict)**2))/(np.sum((y_true-y_mean)**2))"
   ]
  },
  {
   "cell_type": "code",
   "execution_count": 17,
   "metadata": {},
   "outputs": [
    {
     "name": "stdout",
     "output_type": "stream",
     "text": [
      "-2013757192735778.2\n"
     ]
    }
   ],
   "source": [
    "print(score(y_pred,y_test))"
   ]
  },
  {
   "cell_type": "code",
   "execution_count": 18,
   "metadata": {},
   "outputs": [
    {
     "data": {
      "text/plain": [
       "array([ 6,  9, 12])"
      ]
     },
     "execution_count": 18,
     "metadata": {},
     "output_type": "execute_result"
    }
   ],
   "source": []
  }
 ],
 "metadata": {
  "kernelspec": {
   "display_name": "Python 3.9.12 ('base')",
   "language": "python",
   "name": "python3"
  },
  "language_info": {
   "codemirror_mode": {
    "name": "ipython",
    "version": 3
   },
   "file_extension": ".py",
   "mimetype": "text/x-python",
   "name": "python",
   "nbconvert_exporter": "python",
   "pygments_lexer": "ipython3",
   "version": "3.9.16"
  },
  "orig_nbformat": 4,
  "vscode": {
   "interpreter": {
    "hash": "c19b36fe549fe2dce1ac32d0dd317d0a363043eb1c14a547f46436cb05190cdf"
   }
  }
 },
 "nbformat": 4,
 "nbformat_minor": 2
}
