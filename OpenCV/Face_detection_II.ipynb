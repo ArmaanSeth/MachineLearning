{
 "cells": [
  {
   "attachments": {},
   "cell_type": "markdown",
   "metadata": {},
   "source": [
    "Face detection of largest face"
   ]
  },
  {
   "cell_type": "code",
   "execution_count": 1,
   "metadata": {},
   "outputs": [],
   "source": [
    "import numpy as np\n",
    "import cv2"
   ]
  },
  {
   "cell_type": "code",
   "execution_count": 3,
   "metadata": {},
   "outputs": [
    {
     "ename": "KeyboardInterrupt",
     "evalue": "",
     "output_type": "error",
     "traceback": [
      "\u001b[1;31m---------------------------------------------------------------------------\u001b[0m",
      "\u001b[1;31mKeyboardInterrupt\u001b[0m                         Traceback (most recent call last)",
      "\u001b[1;32mc:\\Users\\Armaan\\OneDrive\\Desktop\\Workspace\\Machine_Learning\\OpenCV\\Face_detection_II.ipynb Cell 3\u001b[0m in \u001b[0;36m9\n\u001b[0;32m      <a href='vscode-notebook-cell:/c%3A/Users/Armaan/OneDrive/Desktop/Workspace/Machine_Learning/OpenCV/Face_detection_II.ipynb#W2sZmlsZQ%3D%3D?line=5'>6</a>\u001b[0m file_name\u001b[39m=\u001b[39m\u001b[39minput\u001b[39m(\u001b[39m\"\u001b[39m\u001b[39mEnter the name of the person:\u001b[39m\u001b[39m\"\u001b[39m)\n\u001b[0;32m      <a href='vscode-notebook-cell:/c%3A/Users/Armaan/OneDrive/Desktop/Workspace/Machine_Learning/OpenCV/Face_detection_II.ipynb#W2sZmlsZQ%3D%3D?line=6'>7</a>\u001b[0m \u001b[39mwhile\u001b[39;00m \u001b[39mTrue\u001b[39;00m:\n\u001b[1;32m----> <a href='vscode-notebook-cell:/c%3A/Users/Armaan/OneDrive/Desktop/Workspace/Machine_Learning/OpenCV/Face_detection_II.ipynb#W2sZmlsZQ%3D%3D?line=8'>9</a>\u001b[0m     ret,frame\u001b[39m=\u001b[39mcap\u001b[39m.\u001b[39mread()\n\u001b[0;32m     <a href='vscode-notebook-cell:/c%3A/Users/Armaan/OneDrive/Desktop/Workspace/Machine_Learning/OpenCV/Face_detection_II.ipynb#W2sZmlsZQ%3D%3D?line=9'>10</a>\u001b[0m     \u001b[39mif\u001b[39;00m ret\u001b[39m==\u001b[39m\u001b[39mFalse\u001b[39;00m:\n\u001b[0;32m     <a href='vscode-notebook-cell:/c%3A/Users/Armaan/OneDrive/Desktop/Workspace/Machine_Learning/OpenCV/Face_detection_II.ipynb#W2sZmlsZQ%3D%3D?line=10'>11</a>\u001b[0m         \u001b[39mcontinue\u001b[39;00m\n",
      "\u001b[1;31mKeyboardInterrupt\u001b[0m: "
     ]
    }
   ],
   "source": [
    "cap=cv2.VideoCapture(0)\n",
    "face_cascade=cv2.CascadeClassifier(\"C:\\\\Users\\\\Armaan\\\\OneDrive\\\\Desktop\\\\WORKSPACE\\\\Datasets\\\\haarcascade_frontalface_default\\\\haarcascade_frontalface_default.xml\")\n",
    "skip=0\n",
    "face_data=[]\n",
    "dataset_path='C:\\\\Users\\\\Armaan\\\\OneDrive\\\\Desktop\\\\WORKSPACE\\\\Datasets\\\\Face_data\\\\'\n",
    "file_name=input(\"Enter the name of the person:\")\n",
    "while True:\n",
    "\n",
    "    ret,frame=cap.read()\n",
    "    if ret==False:\n",
    "        continue\n",
    "\n",
    "    gray_frame=cv2.cvtColor(frame,cv2.COLOR_BGR2GRAY)\n",
    "\n",
    "    faces=face_cascade.detectMultiScale(frame,1.3,5)\n",
    "    faces=sorted(faces,key=lambda f:f[2]*f[3])\n",
    "  #  face_section=[]\n",
    "\n",
    "    for (x,y,w,h) in faces[-1:]:\n",
    "        \n",
    "        offset=10\n",
    "        face_section=frame[y-offset:y+h+offset,x-offset:x+w+offset]\n",
    "        face_section=cv2.resize(face_section,(100,100))\n",
    "        cv2.rectangle(frame,(x,y),(x+w,y+h),(0,255,255),2)\n",
    "        if(skip%10==0):\n",
    "            face_data.append(face_section)\n",
    "            print(len(face_data))\n",
    "    \n",
    "    skip+=1\n",
    "    \n",
    "    cv2.imshow(\"Frame\",frame)\n",
    "    cv2.imshow(\"Face_section\",face_section)\n",
    "    \n",
    "    key_pressed=cv2.waitKey(1)&0xFF\n",
    "    if key_pressed==ord('q'):\n",
    "        break; \n",
    "\n",
    "face_data=np.asarray(face_data)\n",
    "face_data=face_data.reshape((face_data.shape[0],-1))\n",
    "np.save(dataset_path+file_name+'.npy',face_data)    \n",
    "print(\"Data successfully saved at \"+dataset_path)\n",
    "cap.release()\n",
    "cv2.destroyAllWindows()"
   ]
  }
 ],
 "metadata": {
  "kernelspec": {
   "display_name": "base",
   "language": "python",
   "name": "python3"
  },
  "language_info": {
   "codemirror_mode": {
    "name": "ipython",
    "version": 3
   },
   "file_extension": ".py",
   "mimetype": "text/x-python",
   "name": "python",
   "nbconvert_exporter": "python",
   "pygments_lexer": "ipython3",
   "version": "3.10.11"
  },
  "orig_nbformat": 4,
  "vscode": {
   "interpreter": {
    "hash": "c19b36fe549fe2dce1ac32d0dd317d0a363043eb1c14a547f46436cb05190cdf"
   }
  }
 },
 "nbformat": 4,
 "nbformat_minor": 2
}
