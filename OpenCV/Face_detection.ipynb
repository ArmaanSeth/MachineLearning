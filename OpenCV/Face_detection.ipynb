{
 "cells": [
  {
   "cell_type": "code",
   "execution_count": 1,
   "metadata": {},
   "outputs": [],
   "source": [
    "import cv2"
   ]
  },
  {
   "cell_type": "code",
   "execution_count": 2,
   "metadata": {},
   "outputs": [
    {
     "ename": "error",
     "evalue": "OpenCV(4.8.0) D:\\a\\opencv-python\\opencv-python\\opencv\\modules\\objdetect\\src\\cascadedetect.cpp:1689: error: (-215:Assertion failed) !empty() in function 'cv::CascadeClassifier::detectMultiScale'\n",
     "output_type": "error",
     "traceback": [
      "\u001b[1;31m---------------------------------------------------------------------------\u001b[0m",
      "\u001b[1;31merror\u001b[0m                                     Traceback (most recent call last)",
      "\u001b[1;32mc:\\Users\\Armaan\\OneDrive\\Desktop\\Workspace\\Machine_Learning\\OpenCV\\Face_detection.ipynb Cell 2\u001b[0m in \u001b[0;36m8\n\u001b[0;32m      <a href='vscode-notebook-cell:/c%3A/Users/Armaan/OneDrive/Desktop/Workspace/Machine_Learning/OpenCV/Face_detection.ipynb#W1sZmlsZQ%3D%3D?line=5'>6</a>\u001b[0m \u001b[39mif\u001b[39;00m ret\u001b[39m==\u001b[39m\u001b[39mFalse\u001b[39;00m:\n\u001b[0;32m      <a href='vscode-notebook-cell:/c%3A/Users/Armaan/OneDrive/Desktop/Workspace/Machine_Learning/OpenCV/Face_detection.ipynb#W1sZmlsZQ%3D%3D?line=6'>7</a>\u001b[0m     \u001b[39mcontinue\u001b[39;00m\n\u001b[1;32m----> <a href='vscode-notebook-cell:/c%3A/Users/Armaan/OneDrive/Desktop/Workspace/Machine_Learning/OpenCV/Face_detection.ipynb#W1sZmlsZQ%3D%3D?line=7'>8</a>\u001b[0m faces\u001b[39m=\u001b[39mface_cascade\u001b[39m.\u001b[39mdetectMultiScale(gray_frame,\u001b[39m1.3\u001b[39m,\u001b[39m5\u001b[39m)\n\u001b[0;32m     <a href='vscode-notebook-cell:/c%3A/Users/Armaan/OneDrive/Desktop/Workspace/Machine_Learning/OpenCV/Face_detection.ipynb#W1sZmlsZQ%3D%3D?line=9'>10</a>\u001b[0m \u001b[39mfor\u001b[39;00m (x,y,w,h) \u001b[39min\u001b[39;00m faces:\n\u001b[0;32m     <a href='vscode-notebook-cell:/c%3A/Users/Armaan/OneDrive/Desktop/Workspace/Machine_Learning/OpenCV/Face_detection.ipynb#W1sZmlsZQ%3D%3D?line=10'>11</a>\u001b[0m     cv2\u001b[39m.\u001b[39mrectangle(frame,(x,y),(x\u001b[39m+\u001b[39mw,y\u001b[39m+\u001b[39mh),(\u001b[39m255\u001b[39m,\u001b[39m0\u001b[39m,\u001b[39m0\u001b[39m),\u001b[39m2\u001b[39m)\n",
      "\u001b[1;31merror\u001b[0m: OpenCV(4.8.0) D:\\a\\opencv-python\\opencv-python\\opencv\\modules\\objdetect\\src\\cascadedetect.cpp:1689: error: (-215:Assertion failed) !empty() in function 'cv::CascadeClassifier::detectMultiScale'\n"
     ]
    }
   ],
   "source": [
    "cap=cv2.VideoCapture(0)\n",
    "face_cascade=cv2.CascadeClassifier(\"C:\\\\Users\\\\Armaan\\\\OneDrive\\\\Desktop\\\\WORKSPACE\\\\Datasets\\\\haarcascade_frontalface_default\\\\haarcascade_frontalface_default.xml\")\n",
    "while True:\n",
    "    ret,frame=cap.read()\n",
    "    gray_frame=cv2.cvtColor(frame,cv2.COLOR_BGR2GRAY)\n",
    "    if ret==False:\n",
    "        continue\n",
    "    faces=face_cascade.detectMultiScale(gray_frame,1.3,5)\n",
    "    \n",
    "    for (x,y,w,h) in faces:\n",
    "        cv2.rectangle(frame,(x,y),(x+w,y+h),(255,0,0),2)\n",
    "    cv2.imshow(\"Video\",frame)\n",
    "\n",
    "    key_pressed=cv2.waitKey(1)&0xFF\n",
    "    if(key_pressed==ord('q')):\n",
    "        break\n",
    "cap.release()\n",
    "cv2.destroyAllWindows()\n"
   ]
  }
 ],
 "metadata": {
  "kernelspec": {
   "display_name": "base",
   "language": "python",
   "name": "python3"
  },
  "language_info": {
   "codemirror_mode": {
    "name": "ipython",
    "version": 3
   },
   "file_extension": ".py",
   "mimetype": "text/x-python",
   "name": "python",
   "nbconvert_exporter": "python",
   "pygments_lexer": "ipython3",
   "version": "3.10.11"
  },
  "orig_nbformat": 4,
  "vscode": {
   "interpreter": {
    "hash": "c19b36fe549fe2dce1ac32d0dd317d0a363043eb1c14a547f46436cb05190cdf"
   }
  }
 },
 "nbformat": 4,
 "nbformat_minor": 2
}
