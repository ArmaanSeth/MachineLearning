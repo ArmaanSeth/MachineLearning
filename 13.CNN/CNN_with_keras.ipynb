{
 "cells": [
  {
   "cell_type": "code",
   "execution_count": 139,
   "metadata": {},
   "outputs": [
    {
     "data": {
      "text/plain": [
       "<function tensorflow.python.framework.ops.disable_eager_execution()>"
      ]
     },
     "execution_count": 139,
     "metadata": {},
     "output_type": "execute_result"
    }
   ],
   "source": [
    "from keras.models import Sequential\n",
    "from keras.layers import Dense,Conv2D,MaxPool2D,Dropout,Flatten\n",
    "from keras.datasets import mnist\n",
    "import tensorflow as tf\n",
    "import numpy as np\n",
    "tf.compat.v1.disable_eager_execution"
   ]
  },
  {
   "cell_type": "code",
   "execution_count": 115,
   "metadata": {},
   "outputs": [],
   "source": [
    "(train_images, train_labels), (test_images, test_labels)=mnist.load_data()"
   ]
  },
  {
   "cell_type": "code",
   "execution_count": 142,
   "metadata": {},
   "outputs": [],
   "source": [
    "train_images=tf.cast(train_images,tf.float32)\n",
    "test_images=tf.cast(test_images,tf.float32)"
   ]
  },
  {
   "cell_type": "code",
   "execution_count": 143,
   "metadata": {},
   "outputs": [
    {
     "data": {
      "text/plain": [
       "(TensorShape([60000, 28, 28, 1]),\n",
       " (60000,),\n",
       " TensorShape([10000, 28, 28, 1]),\n",
       " (10000,))"
      ]
     },
     "execution_count": 143,
     "metadata": {},
     "output_type": "execute_result"
    }
   ],
   "source": [
    "train_images.shape,train_labels.shape,test_images.shape,test_labels.shape"
   ]
  },
  {
   "cell_type": "code",
   "execution_count": 145,
   "metadata": {},
   "outputs": [],
   "source": [
    "train_images=tf.reshape(train_images,shape=[-1,28,28,1])\n",
    "test_images=tf.reshape(test_images,shape=[-1,28,28,1])"
   ]
  },
  {
   "cell_type": "code",
   "execution_count": 146,
   "metadata": {},
   "outputs": [
    {
     "data": {
      "text/plain": [
       "(TensorShape([60000, 28, 28, 1]), TensorShape([10000, 28, 28, 1]))"
      ]
     },
     "execution_count": 146,
     "metadata": {},
     "output_type": "execute_result"
    }
   ],
   "source": [
    "train_images.shape,test_images.shape"
   ]
  },
  {
   "cell_type": "code",
   "execution_count": 147,
   "metadata": {},
   "outputs": [],
   "source": [
    "train_label_ohe=np.zeros((train_labels.size,train_labels.max()+1))\n",
    "train_label_ohe[np.arange(train_labels.size),train_labels]=1\n",
    "test_labels_ohe=np.zeros((test_labels.size,test_labels.max()+1))\n",
    "test_labels_ohe[np.arange(test_labels.size),test_labels]=1"
   ]
  },
  {
   "cell_type": "code",
   "execution_count": 148,
   "metadata": {},
   "outputs": [],
   "source": [
    "model=Sequential()"
   ]
  },
  {
   "cell_type": "code",
   "execution_count": 149,
   "metadata": {},
   "outputs": [],
   "source": [
    "conv1=Conv2D(32,kernel_size=(5,5),strides=(1,1),padding=\"same\",activation=\"relu\",use_bias=True,input_shape=(28,28,1))\n",
    "conv2=Conv2D(64,kernel_size=(5,5),strides=(1,1),padding=\"same\",activation=\"relu\",use_bias=True,input_shape=(28,28,1))\n",
    "\n",
    "maxpool=MaxPool2D(pool_size=(2,2),strides=(1,1))\n",
    "\n",
    "dropout=Dropout(0.2)\n",
    "\n",
    "hiddenlayer=Dense(units=1024,activation=\"relu\")\n",
    "outputlayer=Dense(units=10,activation=\"softmax\")"
   ]
  },
  {
   "cell_type": "code",
   "execution_count": 150,
   "metadata": {},
   "outputs": [],
   "source": [
    "model.add(conv1)\n",
    "model.add(maxpool)\n",
    "model.add(conv2)\n",
    "model.add(maxpool)\n",
    "model.add(Flatten())\n",
    "model.add(hiddenlayer)\n",
    "model.add(outputlayer)"
   ]
  },
  {
   "cell_type": "code",
   "execution_count": 151,
   "metadata": {},
   "outputs": [],
   "source": [
    "model.compile(optimizer=\"adam\",loss=\"categorical_crossentropy\",metrics=[\"accuracy\"])"
   ]
  },
  {
   "cell_type": "code",
   "execution_count": 152,
   "metadata": {},
   "outputs": [
    {
     "name": "stdout",
     "output_type": "stream",
     "text": [
      "Model: \"sequential_6\"\n",
      "_________________________________________________________________\n",
      " Layer (type)                Output Shape              Param #   \n",
      "=================================================================\n",
      " conv2d_20 (Conv2D)          (None, 28, 28, 32)        832       \n",
      "                                                                 \n",
      " max_pooling2d_9 (MaxPooling  multiple                 0         \n",
      " 2D)                                                             \n",
      "                                                                 \n",
      " conv2d_21 (Conv2D)          (None, 27, 27, 64)        51264     \n",
      "                                                                 \n",
      " flatten_7 (Flatten)         (None, 43264)             0         \n",
      "                                                                 \n",
      " dense_14 (Dense)            (None, 1024)              44303360  \n",
      "                                                                 \n",
      " dense_15 (Dense)            (None, 10)                10250     \n",
      "                                                                 \n",
      "=================================================================\n",
      "Total params: 44,365,706\n",
      "Trainable params: 44,365,706\n",
      "Non-trainable params: 0\n",
      "_________________________________________________________________\n"
     ]
    }
   ],
   "source": [
    "model.summary()"
   ]
  },
  {
   "cell_type": "code",
   "execution_count": 153,
   "metadata": {},
   "outputs": [
    {
     "name": "stdout",
     "output_type": "stream",
     "text": [
      "Epoch 1/25\n",
      "600/600 [==============================] - 294s 485ms/step - loss: 5.4021 - accuracy: 0.8996 - val_loss: 0.1434 - val_accuracy: 0.9547\n",
      "Epoch 2/25\n",
      "600/600 [==============================] - 286s 477ms/step - loss: 0.0967 - accuracy: 0.9694 - val_loss: 0.1092 - val_accuracy: 0.9680\n",
      "Epoch 3/25\n",
      "600/600 [==============================] - 296s 494ms/step - loss: 0.0592 - accuracy: 0.9808 - val_loss: 0.1115 - val_accuracy: 0.9657\n",
      "Epoch 4/25\n",
      "600/600 [==============================] - 284s 473ms/step - loss: 0.0446 - accuracy: 0.9856 - val_loss: 0.1224 - val_accuracy: 0.9706\n",
      "Epoch 5/25\n",
      "528/600 [=========================>....] - ETA: 33s - loss: 0.0375 - accuracy: 0.9876"
     ]
    }
   ],
   "source": [
    "model.fit(train_images,train_label_ohe,epochs=25,batch_size=100,validation_data=(test_images,test_labels_ohe))"
   ]
  }
 ],
 "metadata": {
  "kernelspec": {
   "display_name": "Python 3.9.12 ('base')",
   "language": "python",
   "name": "python3"
  },
  "language_info": {
   "codemirror_mode": {
    "name": "ipython",
    "version": 3
   },
   "file_extension": ".py",
   "mimetype": "text/x-python",
   "name": "python",
   "nbconvert_exporter": "python",
   "pygments_lexer": "ipython3",
   "version": "3.9.12"
  },
  "orig_nbformat": 4,
  "vscode": {
   "interpreter": {
    "hash": "c19b36fe549fe2dce1ac32d0dd317d0a363043eb1c14a547f46436cb05190cdf"
   }
  }
 },
 "nbformat": 4,
 "nbformat_minor": 2
}
