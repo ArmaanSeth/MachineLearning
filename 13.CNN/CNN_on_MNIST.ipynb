{
 "cells": [
  {
   "cell_type": "code",
   "execution_count": 43,
   "metadata": {},
   "outputs": [],
   "source": [
    "import numpy as np\n",
    "import tensorflow as tf\n",
    "tf.compat.v1.disable_eager_execution()"
   ]
  },
  {
   "cell_type": "code",
   "execution_count": 44,
   "metadata": {},
   "outputs": [],
   "source": [
    "(train_images, train_labels), (test_images, test_labels)=tf.keras.datasets.mnist.load_data()"
   ]
  },
  {
   "cell_type": "code",
   "execution_count": 45,
   "metadata": {},
   "outputs": [],
   "source": [
    "train_images.resize(60000,784)\n",
    "test_images.resize(10000,784)"
   ]
  },
  {
   "cell_type": "code",
   "execution_count": 46,
   "metadata": {},
   "outputs": [],
   "source": [
    "train_labels_ohe=np.zeros((train_labels.size,train_labels.max()+1))\n",
    "train_labels_ohe[np.arange(train_labels.size),train_labels]=1\n",
    "test_labels_ohe=np.zeros((test_labels.size,test_labels.max()+1))\n",
    "test_labels_ohe[np.arange(test_labels.size),test_labels]=1"
   ]
  },
  {
   "cell_type": "code",
   "execution_count": 47,
   "metadata": {},
   "outputs": [],
   "source": [
    "input_width=28\n",
    "input_height=28\n",
    "input_channels=1\n",
    "input_pixels=784\n",
    "\n",
    "n_conv1=32\n",
    "n_conv2=64\n",
    "stride_conv1=1\n",
    "stride_conv2=1\n",
    "conv1_k=5\n",
    "conv2_k=5\n",
    "max_pool1_k=2\n",
    "max_pool2_k=2\n",
    "\n",
    "n_hidden=1024\n",
    "n_out=10\n",
    "\n",
    "input_size_to_hidden=(input_width//(max_pool1_k*max_pool2_k))*(input_height//(max_pool1_k*max_pool2_k))*n_conv2 #// for integer division "
   ]
  },
  {
   "cell_type": "code",
   "execution_count": 48,
   "metadata": {},
   "outputs": [],
   "source": [
    "weights={\n",
    "    \"wc1\":tf.Variable(tf.compat.v1.random_normal([conv1_k,conv1_k,input_channels,n_conv1])),\n",
    "    \"wc2\":tf.Variable(tf.compat.v1.random_normal([conv2_k,conv2_k,n_conv1,n_conv2])),\n",
    "    \"wh1\":tf.Variable(tf.compat.v1.random_normal([input_size_to_hidden,n_hidden])),\n",
    "    \"wo\":tf.Variable(tf.compat.v1.random_normal([n_hidden,n_out]))\n",
    "}\n",
    "biases={\n",
    "    \"bc1\":tf.Variable(tf.compat.v1.random_normal([n_conv1])),\n",
    "    \"bc2\":tf.Variable(tf.compat.v1.random_normal([n_conv2])),\n",
    "    \"bh1\":tf.Variable(tf.compat.v1.random_normal([n_hidden])),\n",
    "    \"bo\":tf.Variable(tf.compat.v1.random_normal([n_out]))\n",
    "}"
   ]
  },
  {
   "cell_type": "code",
   "execution_count": 49,
   "metadata": {},
   "outputs": [],
   "source": [
    "def conv(x,weights,bias,strides=1):\n",
    "    out=tf.nn.conv2d(x,weights,strides=[1,strides,strides,1],padding=\"SAME\")\n",
    "    out=tf.nn.bias_add(out,bias)\n",
    "    out=tf.nn.relu(out)\n",
    "    return out\n",
    "\n",
    "def maxpooling(x,k=2):\n",
    "    return tf.nn.max_pool(x,padding=\"SAME\",ksize=[1,k,k,1],strides=[1,k,k,1])"
   ]
  },
  {
   "cell_type": "code",
   "execution_count": 50,
   "metadata": {},
   "outputs": [],
   "source": [
    "def cnn(x,weights,biases,keep_prob):\n",
    "\n",
    "    x=tf.reshape(x,shape=[-1,input_height,input_width,input_channels])\n",
    "    conv1=conv(x,weights[\"wc1\"],biases[\"bc1\"],stride_conv1)\n",
    "    conv1_pool=maxpooling(conv1,max_pool1_k)\n",
    "\n",
    "    conv2=conv(conv1_pool,weights[\"wc2\"],biases[\"bc2\"],stride_conv2)\n",
    "    conv2_pool=maxpooling(conv2,max_pool2_k)\n",
    "\n",
    "    input_hidden=tf.reshape(conv2_pool,shape=[-1,input_size_to_hidden])\n",
    "    hidden_output_before_activation=tf.add(tf.matmul(input_hidden,weights[\"wh1\"]),biases[\"bh1\"])\n",
    "    hidden_output_before_dropout=tf.nn.relu(hidden_output_before_activation)\n",
    "\n",
    "    hidden_output=tf.nn.dropout(hidden_output_before_dropout,keep_prob)\n",
    "    output=tf.add(tf.matmul(hidden_output,weights[\"wo\"]),biases[\"bo\"])\n",
    "    return output"
   ]
  },
  {
   "cell_type": "code",
   "execution_count": 51,
   "metadata": {},
   "outputs": [],
   "source": [
    "x=tf.compat.v1.placeholder(\"float\",[None,input_pixels])\n",
    "y=tf.compat.v1.placeholder(tf.int32,[None,n_out])\n",
    "keep_prob=tf.compat.v1.placeholder(\"float\")\n",
    "pred=cnn(x,weights,biases,keep_prob)"
   ]
  },
  {
   "cell_type": "code",
   "execution_count": 52,
   "metadata": {},
   "outputs": [],
   "source": [
    "cost=tf.reduce_mean(tf.nn.softmax_cross_entropy_with_logits(logits=pred,labels=y))"
   ]
  },
  {
   "cell_type": "code",
   "execution_count": 53,
   "metadata": {},
   "outputs": [],
   "source": [
    "optimizer=tf.compat.v1.train.AdadeltaOptimizer(learning_rate=0.01)\n",
    "optimize=optimizer.minimize(cost)"
   ]
  },
  {
   "cell_type": "code",
   "execution_count": 54,
   "metadata": {},
   "outputs": [],
   "source": [
    "sess=tf.compat.v1.Session()\n",
    "sess.run(tf.compat.v1.global_variables_initializer())"
   ]
  },
  {
   "cell_type": "code",
   "execution_count": 55,
   "metadata": {},
   "outputs": [
    {
     "name": "stdout",
     "output_type": "stream",
     "text": [
      "17554182002.0\n",
      "16140703222.0\n",
      "14883729552.0\n",
      "13803754534.0\n",
      "12870981409.0\n",
      "12111071721.0\n",
      "11350972661.0\n",
      "10710643861.0\n",
      "10078930614.0\n",
      "9471945080.0\n",
      "8925703836.0\n",
      "8434721400.0\n",
      "7967338709.0\n",
      "7531096457.0\n",
      "7066952120.0\n",
      "6734659559.0\n",
      "6361280507.0\n",
      "6021719654.0\n",
      "5701994545.5\n",
      "5445308559.5\n",
      "5169971302.5\n",
      "4911384278.0\n",
      "4707435746.0\n",
      "4493877029.5\n",
      "4280966842.0\n"
     ]
    }
   ],
   "source": [
    "batch_size=100\n",
    "for k in range(25):\n",
    "    n=int(train_images.shape[0]/batch_size)\n",
    "    total_cost=0\n",
    "    i=0\n",
    "    for j in range(n):\n",
    "        x_=train_images[i:i+batch_size][:]\n",
    "        y_=train_labels_ohe[i:i+batch_size][:]\n",
    "        i+=batch_size\n",
    "        c,_=sess.run([cost,optimize],feed_dict={x:x_,y:y_,keep_prob:0.8})\n",
    "        total_cost+=c\n",
    "    print(total_cost)"
   ]
  },
  {
   "cell_type": "code",
   "execution_count": 56,
   "metadata": {},
   "outputs": [
    {
     "data": {
      "text/plain": [
       "980"
      ]
     },
     "execution_count": 56,
     "metadata": {},
     "output_type": "execute_result"
    }
   ],
   "source": [
    "prediction=tf.argmax(pred,1)\n",
    "correct_labels=tf.argmax(y,1)\n",
    "correct_predictions=tf.equal(prediction,correct_labels)\n",
    "prediction,correct_preds=sess.run([prediction,correct_predictions],feed_dict={x:test_images,y:test_labels_ohe,keep_prob:1})\n",
    "correct_preds.sum()"
   ]
  }
 ],
 "metadata": {
  "kernelspec": {
   "display_name": "Python 3.9.12 ('base')",
   "language": "python",
   "name": "python3"
  },
  "language_info": {
   "codemirror_mode": {
    "name": "ipython",
    "version": 3
   },
   "file_extension": ".py",
   "mimetype": "text/x-python",
   "name": "python",
   "nbconvert_exporter": "python",
   "pygments_lexer": "ipython3",
   "version": "3.9.12"
  },
  "orig_nbformat": 4,
  "vscode": {
   "interpreter": {
    "hash": "c19b36fe549fe2dce1ac32d0dd317d0a363043eb1c14a547f46436cb05190cdf"
   }
  }
 },
 "nbformat": 4,
 "nbformat_minor": 2
}
