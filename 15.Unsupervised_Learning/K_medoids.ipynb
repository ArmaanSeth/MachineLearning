{
 "cells": [
  {
   "cell_type": "code",
   "execution_count": 656,
   "metadata": {},
   "outputs": [],
   "source": [
    "import sys\n",
    "import math\n",
    "import numpy as np\n",
    "import matplotlib.pyplot as plt\n",
    "from sklearn.datasets import make_blobs"
   ]
  },
  {
   "cell_type": "code",
   "execution_count": 657,
   "metadata": {},
   "outputs": [],
   "source": [
    "x,y=make_blobs(n_samples=200,centers=4,cluster_std=.6,random_state=0)\n",
    "#x=np.array([[1,2],[1.5,1.8],[5,8],[8,8],[1,.6],[9,11]])\n",
    "#x=sorted(x , key=lambda k: [k[1], k[0]])\n",
    "#x=np.array(x)"
   ]
  },
  {
   "cell_type": "code",
   "execution_count": 658,
   "metadata": {},
   "outputs": [
    {
     "data": {
      "image/png": "[encoded data removed]",
      "text/plain": [
       "<Figure size 640x480 with 1 Axes>"
      ]
     },
     "metadata": {},
     "output_type": "display_data"
    }
   ],
   "source": [
    "plt.scatter(x[:,0],x[:,1])\n",
    "plt.show()"
   ]
  },
  {
   "cell_type": "code",
   "execution_count": 659,
   "metadata": {},
   "outputs": [],
   "source": [
    "class K_Medoids:\n",
    "\n",
    "    def __init__(self,k=4,max_iter=5):\n",
    "        self.k=k\n",
    "        self.max_iter=max_iter\n",
    "        self.medoids=[]\n",
    "\n",
    "    def score(self,clusters,temp):\n",
    "        score=0\n",
    "        for i in range(self.k):\n",
    "            for point in clusters[i]:\n",
    "                score+=math.sqrt((point[0]-temp[i][0])**2+(point[1]-temp[i][1])**2)\n",
    "        return score\n",
    "\n",
    "    def predict(self,data):\n",
    "        prections=[]\n",
    "        for point in data:\n",
    "            min_distance=sys.maxsize\n",
    "            min_medoid=0\n",
    "            for i in range(self.k):\n",
    "                distance=(point[0]-self.medoids[i][0])**2+(point[1]-self.medoids[i][1])**2\n",
    "                if(distance<min_distance):\n",
    "                    min_distance=distance\n",
    "                    min_medoid=i\n",
    "            prections.append(min_medoid)\n",
    "        return prections\n",
    "\n",
    "    def fit(self,data):\n",
    "        for i in range(self.k):\n",
    "            self.medoids.append(data[i])\n",
    "        for i in range(self.max_iter):\n",
    "            clusters=[]\n",
    "            for j in range(self.k):\n",
    "                clusters.append([])\n",
    "            for point in data:\n",
    "                temp=[]\n",
    "                temp.append(point)\n",
    "                clusters[self.predict(temp)[0]].append(point)\n",
    "            for j in range(self.k):\n",
    "                min_score=sys.maxsize\n",
    "                min_score_point=[]\n",
    "                for point in clusters[j]:\n",
    "                    temp=self.medoids\n",
    "                    temp[j]=point\n",
    "                    score_point=self.score(clusters,temp)\n",
    "                    if(score_point<min_score):\n",
    "                        min_score=score_point\n",
    "                        min_score_point=point\n",
    "                if(min_score_point!=[]):\n",
    "                    self.medoids[j]=min_score_point\n",
    "    #        m_list.append(np.array(self.medoids))           \n",
    "    #    return self.medoids,m_list"
   ]
  },
  {
   "cell_type": "code",
   "execution_count": 660,
   "metadata": {},
   "outputs": [
    {
     "data": {
      "text/plain": [
       "'def score(clusters,medoids,k):\\n    score=0\\n    for i in range(k):\\n        for point in clusters[i]:\\n            score+=math.sqrt((point[0]-medoids[i][0])**2+(point[1]-medoids[i][1])**2)\\n    return score'"
      ]
     },
     "execution_count": 660,
     "metadata": {},
     "output_type": "execute_result"
    }
   ],
   "source": [
    "\"\"\"def score(clusters,medoids,k):\n",
    "    score=0\n",
    "    for i in range(k):\n",
    "        for point in clusters[i]:\n",
    "            score+=math.sqrt((point[0]-medoids[i][0])**2+(point[1]-medoids[i][1])**2)\n",
    "    return score\"\"\""
   ]
  },
  {
   "cell_type": "code",
   "execution_count": 661,
   "metadata": {},
   "outputs": [
    {
     "data": {
      "text/plain": [
       "'def predict(data,medoids,k=2):o\\n    prections=[]\\n    for point in data:\\n        min_distance=sys.maxsize\\n        min_medoid=0\\n        for i in range(k):\\n            distance=(point[0]-medoids[i][0])**2+(point[1]-medoids[i][1])**2\\n            if(distance<min_distance):\\n                min_distance=distance\\n                min_medoid=i\\n        prections.append(min_medoid)\\n    return prections'"
      ]
     },
     "execution_count": 661,
     "metadata": {},
     "output_type": "execute_result"
    }
   ],
   "source": [
    "\"\"\"def predict(data,medoids,k=2):o\n",
    "    prections=[]\n",
    "    for point in data:\n",
    "        min_distance=sys.maxsize\n",
    "        min_medoid=0\n",
    "        for i in range(k):\n",
    "            distance=(point[0]-medoids[i][0])**2+(point[1]-medoids[i][1])**2\n",
    "            if(distance<min_distance):\n",
    "                min_distance=distance\n",
    "                min_medoid=i\n",
    "        prections.append(min_medoid)\n",
    "    return prections\"\"\""
   ]
  },
  {
   "cell_type": "code",
   "execution_count": 662,
   "metadata": {},
   "outputs": [
    {
     "data": {
      "text/plain": [
       "'def fit(data,k=2,max_iter=5):\\n    medoids=[]\\n    m_list=[]\\n    for i in range(len(data)-k,len(data)):\\n        medoids.append(data[i])\\n    print(medoids)\\n    for i in range(max_iter):\\n        clusters=[]\\n        for j in range(k):\\n            clusters.append([])\\n        for point in data:\\n            temp=[]\\n            temp.append(point)\\n            clusters[predict(temp,medoids,k)[0]].append(point)\\n        predictions_=[]\\n        for j in range(k):\\n            min_score=sys.maxsize\\n            min_score_point=[]\\n            for point in clusters[j]:\\n                temp=medoids\\n                temp[j]=point\\n                score_point=score(clusters,temp,k)\\n                if(score_point<min_score):\\n                    min_score=score_point\\n                    min_score_point=point\\n            if(min_score_point!=[]):\\n                medoids[j]=min_score_point\\n        m_list.append(np.array(medoids))           \\n    return medoids,m_list'"
      ]
     },
     "execution_count": 662,
     "metadata": {},
     "output_type": "execute_result"
    }
   ],
   "source": [
    "\"\"\"def fit(data,k=2,max_iter=5):\n",
    "    medoids=[]\n",
    "    m_list=[]\n",
    "    for i in range(len(data)-k,len(data)):\n",
    "        medoids.append(data[i])\n",
    "    print(medoids)\n",
    "    for i in range(max_iter):\n",
    "        clusters=[]\n",
    "        for j in range(k):\n",
    "            clusters.append([])\n",
    "        for point in data:\n",
    "            temp=[]\n",
    "            temp.append(point)\n",
    "            clusters[predict(temp,medoids,k)[0]].append(point)\n",
    "        predictions_=[]\n",
    "        for j in range(k):\n",
    "            min_score=sys.maxsize\n",
    "            min_score_point=[]\n",
    "            for point in clusters[j]:\n",
    "                temp=medoids\n",
    "                temp[j]=point\n",
    "                score_point=score(clusters,temp,k)\n",
    "                if(score_point<min_score):\n",
    "                    min_score=score_point\n",
    "                    min_score_point=point\n",
    "            if(min_score_point!=[]):\n",
    "                medoids[j]=min_score_point\n",
    "        m_list.append(np.array(medoids))           \n",
    "    return medoids,m_list\"\"\""
   ]
  },
  {
   "cell_type": "code",
   "execution_count": 663,
   "metadata": {},
   "outputs": [],
   "source": [
    "k_medoids=K_Medoids(4,5)"
   ]
  },
  {
   "cell_type": "code",
   "execution_count": 664,
   "metadata": {},
   "outputs": [
    {
     "name": "stderr",
     "output_type": "stream",
     "text": [
      "C:\\Users\\Armaan\\AppData\\Local\\Temp\\ipykernel_23272\\237502785.py:49: DeprecationWarning: elementwise comparison failed; this will raise an error in the future.\n",
      "  if(min_score_point!=[]):\n"
     ]
    }
   ],
   "source": [
    "k_medoids.fit(x)"
   ]
  },
  {
   "cell_type": "code",
   "execution_count": 665,
   "metadata": {},
   "outputs": [
    {
     "data": {
      "text/plain": [
       "[0,\n",
       " 1,\n",
       " 2,\n",
       " 3,\n",
       " 0,\n",
       " 2,\n",
       " 1,\n",
       " 2,\n",
       " 2,\n",
       " 2,\n",
       " 2,\n",
       " 0,\n",
       " 1,\n",
       " 1,\n",
       " 0,\n",
       " 2,\n",
       " 3,\n",
       " 3,\n",
       " 3,\n",
       " 0,\n",
       " 3,\n",
       " 1,\n",
       " 0,\n",
       " 1,\n",
       " 0,\n",
       " 0,\n",
       " 3,\n",
       " 0,\n",
       " 0,\n",
       " 2,\n",
       " 3,\n",
       " 2,\n",
       " 1,\n",
       " 0,\n",
       " 1,\n",
       " 2,\n",
       " 1,\n",
       " 2,\n",
       " 2,\n",
       " 3,\n",
       " 3,\n",
       " 3,\n",
       " 3,\n",
       " 2,\n",
       " 0,\n",
       " 1,\n",
       " 2,\n",
       " 3,\n",
       " 3,\n",
       " 2,\n",
       " 3,\n",
       " 1,\n",
       " 1,\n",
       " 3,\n",
       " 2,\n",
       " 3,\n",
       " 1,\n",
       " 0,\n",
       " 2,\n",
       " 0,\n",
       " 3,\n",
       " 2,\n",
       " 0,\n",
       " 2,\n",
       " 3,\n",
       " 2,\n",
       " 0,\n",
       " 3,\n",
       " 1,\n",
       " 1,\n",
       " 0,\n",
       " 0,\n",
       " 2,\n",
       " 2,\n",
       " 1,\n",
       " 3,\n",
       " 1,\n",
       " 1,\n",
       " 0,\n",
       " 0,\n",
       " 3,\n",
       " 2,\n",
       " 0,\n",
       " 1,\n",
       " 1,\n",
       " 2,\n",
       " 2,\n",
       " 0,\n",
       " 1,\n",
       " 1,\n",
       " 3,\n",
       " 3,\n",
       " 3,\n",
       " 2,\n",
       " 2,\n",
       " 0,\n",
       " 1,\n",
       " 3,\n",
       " 2,\n",
       " 2,\n",
       " 3,\n",
       " 0,\n",
       " 0,\n",
       " 3,\n",
       " 3,\n",
       " 1,\n",
       " 2,\n",
       " 0,\n",
       " 0,\n",
       " 2,\n",
       " 3,\n",
       " 1,\n",
       " 1,\n",
       " 0,\n",
       " 0,\n",
       " 2,\n",
       " 1,\n",
       " 1,\n",
       " 3,\n",
       " 2,\n",
       " 3,\n",
       " 1,\n",
       " 2,\n",
       " 0,\n",
       " 2,\n",
       " 1,\n",
       " 2,\n",
       " 1,\n",
       " 0,\n",
       " 2,\n",
       " 1,\n",
       " 0,\n",
       " 1,\n",
       " 3,\n",
       " 3,\n",
       " 1,\n",
       " 3,\n",
       " 3,\n",
       " 0,\n",
       " 3,\n",
       " 0,\n",
       " 1,\n",
       " 0,\n",
       " 0,\n",
       " 1,\n",
       " 0,\n",
       " 2,\n",
       " 0,\n",
       " 1,\n",
       " 3,\n",
       " 3,\n",
       " 3,\n",
       " 2,\n",
       " 1,\n",
       " 0,\n",
       " 2,\n",
       " 3,\n",
       " 1,\n",
       " 3,\n",
       " 0,\n",
       " 3,\n",
       " 0,\n",
       " 0,\n",
       " 1,\n",
       " 1,\n",
       " 3,\n",
       " 2,\n",
       " 0,\n",
       " 0,\n",
       " 1,\n",
       " 0,\n",
       " 2,\n",
       " 1,\n",
       " 3,\n",
       " 3,\n",
       " 3,\n",
       " 2,\n",
       " 2,\n",
       " 1,\n",
       " 2,\n",
       " 1,\n",
       " 0,\n",
       " 2,\n",
       " 0,\n",
       " 2,\n",
       " 1,\n",
       " 1,\n",
       " 3,\n",
       " 2,\n",
       " 3,\n",
       " 0,\n",
       " 0,\n",
       " 2,\n",
       " 3,\n",
       " 1,\n",
       " 1,\n",
       " 1,\n",
       " 2,\n",
       " 3,\n",
       " 0]"
      ]
     },
     "execution_count": 665,
     "metadata": {},
     "output_type": "execute_result"
    }
   ],
   "source": [
    "y=k_medoids.predict(x)\n",
    "y"
   ]
  },
  {
   "cell_type": "code",
   "execution_count": 666,
   "metadata": {},
   "outputs": [
    {
     "data": {
      "image/png": "[encoded data removed]",
      "text/plain": [
       "<Figure size 640x480 with 1 Axes>"
      ]
     },
     "metadata": {},
     "output_type": "display_data"
    }
   ],
   "source": [
    "plt.scatter(x[:,0],x[:,1],c=y)\n",
    "plt.show()"
   ]
  }
 ],
 "metadata": {
  "kernelspec": {
   "display_name": "Python 3.9.12 ('base')",
   "language": "python",
   "name": "python3"
  },
  "language_info": {
   "codemirror_mode": {
    "name": "ipython",
    "version": 3
   },
   "file_extension": ".py",
   "mimetype": "text/x-python",
   "name": "python",
   "nbconvert_exporter": "python",
   "pygments_lexer": "ipython3",
   "version": "3.9.12 (main, Apr  4 2022, 05:22:27) [MSC v.1916 64 bit (AMD64)]"
  },
  "orig_nbformat": 4,
  "vscode": {
   "interpreter": {
    "hash": "c19b36fe549fe2dce1ac32d0dd317d0a363043eb1c14a547f46436cb05190cdf"
   }
  }
 },
 "nbformat": 4,
 "nbformat_minor": 2
}
