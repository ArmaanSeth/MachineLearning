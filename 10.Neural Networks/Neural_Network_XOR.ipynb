{
 "cells": [
  {
   "cell_type": "code",
   "execution_count": null,
   "metadata": {},
   "outputs": [],
   "source": [
    "import numpy as np"
   ]
  },
  {
   "cell_type": "code",
   "execution_count": null,
   "metadata": {},
   "outputs": [],
   "source": [
    "x=np.array([[0,0],[0,1],[1,0],[1,1]])\n",
    "y=np.array([[0],[1],[1],[0]])"
   ]
  },
  {
   "cell_type": "code",
   "execution_count": null,
   "metadata": {},
   "outputs": [],
   "source": [
    "def sigmoid(z):\n",
    "    return 1/(1+np.exp(-z))"
   ]
  },
  {
   "cell_type": "code",
   "execution_count": null,
   "metadata": {},
   "outputs": [],
   "source": [
    "def derivative_sigmoid(z):\n",
    "    return sigmoid(z)*(1-sigmoid(z))"
   ]
  },
  {
   "cell_type": "code",
   "execution_count": null,
   "metadata": {},
   "outputs": [],
   "source": [
    "wo=np.random.random(size=(2,1))\n",
    "bo=np.random.uniform(size=(1,1))\n",
    "\n",
    "wh=np.random.random(size=(2,2))\n",
    "bh=np.random.random(size=(1,2))"
   ]
  },
  {
   "cell_type": "code",
   "execution_count": null,
   "metadata": {},
   "outputs": [],
   "source": [
    "wo,bo,wh,bh"
   ]
  },
  {
   "cell_type": "code",
   "execution_count": null,
   "metadata": {},
   "outputs": [],
   "source": [
    "output0=x\n",
    "lr=0.1"
   ]
  },
  {
   "cell_type": "code",
   "execution_count": null,
   "metadata": {},
   "outputs": [],
   "source": [
    "for _ in range(10000):\n",
    "    # Forward Propagation\n",
    "    \n",
    "    input_hidden_layer=np.dot(output0,wh)+bh\n",
    "    output_hidden_layer=sigmoid(input_hidden_layer)\n",
    "\n",
    "    input_output_layer=np.dot(output_hidden_layer,wo)+bo\n",
    "    output=sigmoid(input_output_layer)\n",
    "\n",
    "    #Back Propagation\n",
    "    first_term_output_layer=output-y\n",
    "    second_term_output_layer=derivative_sigmoid(input_output_layer)\n",
    "    first_two_output_layer=first_term_output_layer*second_term_output_layer\n",
    "\n",
    "    first_term_hidden_layer=first_two_output_layer.dot(wo.T) #np.dot(first_term_output_layer,wo.T) # \n",
    "    second_term_hidden_layer=derivative_sigmoid(input_hidden_layer)\n",
    "    first_two_hidden_layer=first_term_hidden_layer*second_term_hidden_layer\n",
    "\n",
    "    #Updating Weights\n",
    "    w_changes_output_layer=output_hidden_layer.T.dot(first_two_output_layer)#np.dot(output_hidden_layer.T,first_two_output_layer)#\n",
    "    b_changes_output_layer=np.sum(first_two_output_layer,axis=0,keepdims=True)\n",
    "\n",
    "    w_changes_hidden_layer=output0.T.dot(first_two_hidden_layer) #np.dot(output0.T,first_term_hidden_layer)#\n",
    "    b_changes_hidden_layer=np.sum(first_two_hidden_layer,axis=0,keepdims=True)\n",
    "\n",
    "    wo=wo-lr*w_changes_output_layer\n",
    "    bo=bo-lr*b_changes_output_layer\n",
    "\n",
    "    wh=wh-lr*w_changes_hidden_layer\n",
    "    bh=bh-lr*b_changes_hidden_layer"
   ]
  },
  {
   "cell_type": "code",
   "execution_count": null,
   "metadata": {},
   "outputs": [],
   "source": [
    "output"
   ]
  }
 ],
 "metadata": {
  "kernelspec": {
   "display_name": "Python 3.9.12 ('base')",
   "language": "python",
   "name": "python3"
  },
  "language_info": {
   "codemirror_mode": {
    "name": "ipython",
    "version": 3
   },
   "file_extension": ".py",
   "mimetype": "text/x-python",
   "name": "python",
   "nbconvert_exporter": "python",
   "pygments_lexer": "ipython3",
   "version": "3.9.12"
  },
  "orig_nbformat": 4,
  "vscode": {
   "interpreter": {
    "hash": "c19b36fe549fe2dce1ac32d0dd317d0a363043eb1c14a547f46436cb05190cdf"
   }
  }
 },
 "nbformat": 4,
 "nbformat_minor": 2
}
