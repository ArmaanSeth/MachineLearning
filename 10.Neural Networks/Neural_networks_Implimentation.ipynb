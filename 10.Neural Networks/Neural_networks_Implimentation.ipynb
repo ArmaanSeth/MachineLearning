{
 "cells": [
  {
   "cell_type": "code",
   "execution_count": 316,
   "metadata": {},
   "outputs": [],
   "source": [
    "import numpy as np"
   ]
  },
  {
   "cell_type": "code",
   "execution_count": 317,
   "metadata": {},
   "outputs": [
    {
     "data": {
      "text/plain": [
       "((4, 2), (4, 1))"
      ]
     },
     "execution_count": 317,
     "metadata": {},
     "output_type": "execute_result"
    }
   ],
   "source": [
    "x=np.array([[0,0],[1,0],[0,1],[1,1]])\n",
    "y=np.array([[0,1,1,1]]).T\n",
    "x.shape,y.shape "
   ]
  },
  {
   "cell_type": "code",
   "execution_count": 318,
   "metadata": {},
   "outputs": [
    {
     "data": {
      "text/plain": [
       "array([[0],\n",
       "       [1],\n",
       "       [1],\n",
       "       [1]])"
      ]
     },
     "execution_count": 318,
     "metadata": {},
     "output_type": "execute_result"
    }
   ],
   "source": [
    "y"
   ]
  },
  {
   "cell_type": "code",
   "execution_count": 319,
   "metadata": {},
   "outputs": [],
   "source": [
    "def sigmoid(z):\n",
    "    return 1/(1+np.exp(-z))"
   ]
  },
  {
   "cell_type": "code",
   "execution_count": 320,
   "metadata": {},
   "outputs": [],
   "source": [
    "def derivative_sigmoid(z):\n",
    "    return sigmoid(z)*(1-sigmoid(z))"
   ]
  },
  {
   "cell_type": "code",
   "execution_count": 321,
   "metadata": {},
   "outputs": [],
   "source": [
    "#no hidden layer weights\n",
    "#weights=2*np.random.random((2,1))-1 # in range -1 to 1\n",
    "#bias=2*np.random.random(1)-1\n",
    "#weights,bias"
   ]
  },
  {
   "cell_type": "markdown",
   "metadata": {},
   "source": [
    "Forward Propagation\n"
   ]
  },
  {
   "cell_type": "code",
   "execution_count": 322,
   "metadata": {},
   "outputs": [],
   "source": [
    "#output0=x\n",
    "#output=sigmoid(np.dot(output0,weights)+bias)\n",
    "#output"
   ]
  },
  {
   "cell_type": "markdown",
   "metadata": {},
   "source": [
    "With Hidden Layers"
   ]
  },
  {
   "cell_type": "code",
   "execution_count": 323,
   "metadata": {},
   "outputs": [],
   "source": [
    "# 1       1\n",
    "#         O\n",
    "# X1             0\n",
    "#         0   \n",
    "# X2\n",
    "#HIDDEN LAYED NEURAL NETWORK\n",
    "\n",
    "wh=(2*np.random.random((2,2)))-1\n",
    "bh=(2*np.random.random((1,2)))-1\n",
    "\n",
    "wo=(2*np.random.random((2,1)))-1\n",
    "bo=(2*np.random.random((1,1)))-1"
   ]
  },
  {
   "cell_type": "markdown",
   "metadata": {},
   "source": [
    "Back Tracking\\Back Propagation with Hidden Layer"
   ]
  },
  {
   "cell_type": "code",
   "execution_count": 324,
   "metadata": {},
   "outputs": [
    {
     "data": {
      "text/plain": [
       "(array([[0.46329394],\n",
       "        [0.98705909],\n",
       "        [0.9869969 ],\n",
       "        [0.99173879]]),\n",
       " array([[-3.30531005,  2.7245906 ],\n",
       "        [-2.67547383,  3.41842396]]),\n",
       " array([[ 1.37174651, -1.41714895]]),\n",
       " array([[-5.10524856],\n",
       "        [ 4.81107086]]),\n",
       " array([[0.19517066]]))"
      ]
     },
     "execution_count": 324,
     "metadata": {},
     "output_type": "execute_result"
    }
   ],
   "source": [
    "lr=0.05\n",
    "for i in range(10000):\n",
    "    \n",
    "    output0=x\n",
    "    inputhidden=np.dot(output0,wh)+bh\n",
    "    outputhidden=sigmoid(inputhidden)\n",
    "    input_for_outputlayer=np.dot(outputhidden,wo)+bo\n",
    "    output=sigmoid(input_for_outputlayer)\n",
    "\n",
    "    first_term_output_layer=output-y\n",
    "    second_term_output_layer=derivative_sigmoid(input_for_outputlayer)\n",
    "    first_two_output_layer=first_term_output_layer*second_term_output_layer\n",
    "\n",
    "    first_term_hidden_layer=first_two_output_layer.dot(wo.T)\n",
    "    second_term_hidden_layer=derivative_sigmoid(inputhidden)\n",
    "    first_two_hidden_layer=first_term_hidden_layer*second_term_hidden_layer\n",
    "\n",
    "    changes_output=outputhidden.T.dot(first_two_output_layer)\n",
    "    changes_output_bias=np.sum(first_two_output_layer,axis=0,keepdims=True)\n",
    "\n",
    "    changes_hidden=output0.T.dot(first_two_hidden_layer)\n",
    "    changes_hidden_bias=np.sum(first_two_hidden_layer,axis=0,keepdims=True)\n",
    "\n",
    "    wo=wo-lr*changes_output\n",
    "    bo=bo-lr*changes_output_bias\n",
    "\n",
    "    wh=wh-lr*changes_hidden\n",
    "    bh=bh-lr*changes_hidden_bias\n",
    "    \n",
    "output0=x\n",
    "inputhidden=np.dot(output0,wh)\n",
    "outputhidden=sigmoid(inputhidden)\n",
    "input_for_outputlayer=np.dot(outputhidden,wo)\n",
    "output=sigmoid(input_for_outputlayer) \n",
    "output,wh,bh,wo,bo\n"
   ]
  }
 ],
 "metadata": {
  "kernelspec": {
   "display_name": "Python 3.9.12 ('base')",
   "language": "python",
   "name": "python3"
  },
  "language_info": {
   "codemirror_mode": {
    "name": "ipython",
    "version": 3
   },
   "file_extension": ".py",
   "mimetype": "text/x-python",
   "name": "python",
   "nbconvert_exporter": "python",
   "pygments_lexer": "ipython3",
   "version": "3.9.12"
  },
  "orig_nbformat": 4,
  "vscode": {
   "interpreter": {
    "hash": "c19b36fe549fe2dce1ac32d0dd317d0a363043eb1c14a547f46436cb05190cdf"
   }
  }
 },
 "nbformat": 4,
 "nbformat_minor": 2
}
