{
 "cells": [
  {
   "cell_type": "markdown",
   "metadata": {},
   "source": [
    "# SkLearn Neural Networs\n",
    "not efficient and optimised"
   ]
  },
  {
   "cell_type": "code",
   "execution_count": 1,
   "metadata": {},
   "outputs": [],
   "source": [
    "from sklearn.datasets import load_iris\n",
    "from sklearn.model_selection import train_test_split\n",
    "from sklearn.neural_network import MLPClassifier #MultiLayeredPerceptron"
   ]
  },
  {
   "cell_type": "code",
   "execution_count": 3,
   "metadata": {},
   "outputs": [],
   "source": [
    "iris=load_iris()\n",
    "x=iris.data\n",
    "y=iris.target\n",
    "x_train,x_test,y_train,y_test=train_test_split(x,y,random_state=0)"
   ]
  },
  {
   "cell_type": "code",
   "execution_count": 18,
   "metadata": {},
   "outputs": [
    {
     "data": {
      "text/plain": [
       "MLPClassifier(hidden_layer_sizes=(20,), max_iter=3000)"
      ]
     },
     "execution_count": 18,
     "metadata": {},
     "output_type": "execute_result"
    }
   ],
   "source": [
    "clf=MLPClassifier(hidden_layer_sizes=(20,),max_iter=3000)\n",
    "clf.fit(x_train,y_train)"
   ]
  },
  {
   "cell_type": "code",
   "execution_count": 19,
   "metadata": {},
   "outputs": [
    {
     "data": {
      "text/plain": [
       "0.9736842105263158"
      ]
     },
     "execution_count": 19,
     "metadata": {},
     "output_type": "execute_result"
    }
   ],
   "source": [
    "clf.score(x_test,y_test)"
   ]
  },
  {
   "cell_type": "code",
   "execution_count": 9,
   "metadata": {},
   "outputs": [
    {
     "data": {
      "text/plain": [
       "[array([[ 2.50161477e-01,  5.04445657e-01, -5.10423135e-02,\n",
       "         -7.41046535e-04, -7.01258444e-11,  4.59159428e-01,\n",
       "         -2.53196310e-03,  1.57272106e-01,  5.21894699e-01,\n",
       "          1.64104990e-01,  2.26838840e-01,  5.50107751e-01,\n",
       "         -2.44617618e-01,  7.55943069e-01,  2.23856960e-01,\n",
       "         -2.43804189e-02, -1.25528253e-01, -4.13439223e-08,\n",
       "         -5.66658883e-02,  3.64812414e-01],\n",
       "        [ 1.03492783e-02, -7.91855295e-02, -1.42088261e-02,\n",
       "         -1.06288102e-09, -4.84766151e-29,  2.05204899e-01,\n",
       "         -2.29118154e-01, -4.24960192e-01,  7.69829928e-01,\n",
       "          4.18151715e-01,  7.53206211e-01,  4.33104825e-01,\n",
       "          8.96401523e-02,  6.50590713e-01, -4.88814069e-01,\n",
       "         -1.04119583e-01, -1.55739075e-01, -2.37549775e-04,\n",
       "         -2.39270380e-02, -3.42595232e-01],\n",
       "        [ 1.02846468e-01, -3.71127442e-01, -9.31413530e-03,\n",
       "          2.95320419e-03, -5.78909392e-05, -4.31879848e-01,\n",
       "          5.21019406e-01,  6.07289387e-01, -7.64450685e-01,\n",
       "          2.74934984e-01, -4.84067714e-01, -6.51862301e-01,\n",
       "          5.63353908e-01, -9.63326571e-01,  5.51252894e-01,\n",
       "         -5.91867715e-02,  3.48993702e-01,  5.47170580e-07,\n",
       "         -1.48413968e-02,  1.90153262e-01],\n",
       "        [ 6.99517269e-01, -5.31335777e-01, -1.55405769e-04,\n",
       "         -6.12992373e-03, -3.14344963e-04, -3.56613741e-02,\n",
       "          4.80959565e-01,  1.09566098e+00, -8.90910931e-01,\n",
       "         -2.98180850e-01, -8.73975036e-01, -7.73892014e-01,\n",
       "          3.25191137e-01, -8.87319262e-01,  4.79913318e-01,\n",
       "         -1.00485777e-02, -2.60969733e-01,  2.53916472e-05,\n",
       "         -5.82266370e-04,  3.75095698e-01]]),\n",
       " array([[-4.22495062e-01, -2.09642148e-01,  4.12827045e-01],\n",
       "        [-6.80114673e-02,  9.59859489e-01, -7.73958957e-01],\n",
       "        [ 1.59622347e-16,  9.38342052e-04,  2.53643747e-03],\n",
       "        [ 3.12440446e-07,  6.42209880e-06,  3.76781250e-07],\n",
       "        [-7.59558764e-03, -5.95421923e-09, -1.20023581e-03],\n",
       "        [ 3.17469390e-01,  4.35196428e-01, -3.56381309e-01],\n",
       "        [-6.04201367e-01, -1.40498110e-01,  2.76530470e-01],\n",
       "        [-7.38476581e-01,  2.42507541e-01,  7.37400763e-01],\n",
       "        [ 4.88032780e-01, -3.07679339e-01, -4.94343049e-01],\n",
       "        [ 2.92369449e-01,  1.75805826e-01,  3.44469795e-01],\n",
       "        [ 8.54453784e-01,  2.23373549e-01, -1.09099990e+00],\n",
       "        [ 4.38629950e-01,  3.08299518e-01, -6.51402698e-01],\n",
       "        [-5.38462812e-01,  1.85777269e-01,  1.86762964e-01],\n",
       "        [ 9.65595459e-01,  7.82958669e-01, -9.50635034e-01],\n",
       "        [-4.84424961e-01,  6.87687474e-02, -9.62008440e-02],\n",
       "        [-4.47799642e-04, -1.39321927e-05,  7.35753793e-06],\n",
       "        [-3.14398098e-08,  8.00518867e-02,  3.19760171e-02],\n",
       "        [-3.43361474e-10,  2.33432262e-03, -4.88705211e-13],\n",
       "        [-2.00739571e-03, -1.08022613e-07,  2.59512482e-19],\n",
       "        [-4.04823124e-02, -3.37256130e-01,  3.69318739e-01]])]"
      ]
     },
     "execution_count": 9,
     "metadata": {},
     "output_type": "execute_result"
    }
   ],
   "source": [
    "clf.coefs_ # not include biases"
   ]
  },
  {
   "cell_type": "code",
   "execution_count": 20,
   "metadata": {},
   "outputs": [
    {
     "data": {
      "text/plain": [
       "2"
      ]
     },
     "execution_count": 20,
     "metadata": {},
     "output_type": "execute_result"
    }
   ],
   "source": [
    "len(clf.coefs_)  # for two layers hidden and output"
   ]
  },
  {
   "cell_type": "code",
   "execution_count": 21,
   "metadata": {},
   "outputs": [
    {
     "data": {
      "text/plain": [
       "((4, 20), (20, 3))"
      ]
     },
     "execution_count": 21,
     "metadata": {},
     "output_type": "execute_result"
    }
   ],
   "source": [
    "clf.coefs_[0].shape,clf.coefs_[1].shape"
   ]
  },
  {
   "cell_type": "code",
   "execution_count": 23,
   "metadata": {},
   "outputs": [
    {
     "data": {
      "text/plain": [
       "((20,), (3,))"
      ]
     },
     "execution_count": 23,
     "metadata": {},
     "output_type": "execute_result"
    }
   ],
   "source": [
    "clf.intercepts_[0].shape,clf.intercepts_[1].shape"
   ]
  }
 ],
 "metadata": {
  "kernelspec": {
   "display_name": "Python 3.9.12 ('base')",
   "language": "python",
   "name": "python3"
  },
  "language_info": {
   "codemirror_mode": {
    "name": "ipython",
    "version": 3
   },
   "file_extension": ".py",
   "mimetype": "text/x-python",
   "name": "python",
   "nbconvert_exporter": "python",
   "pygments_lexer": "ipython3",
   "version": "3.9.12"
  },
  "orig_nbformat": 4,
  "vscode": {
   "interpreter": {
    "hash": "c19b36fe549fe2dce1ac32d0dd317d0a363043eb1c14a547f46436cb05190cdf"
   }
  }
 },
 "nbformat": 4,
 "nbformat_minor": 2
}
