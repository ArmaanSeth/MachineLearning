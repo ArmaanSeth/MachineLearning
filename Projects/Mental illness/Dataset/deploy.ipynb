{
 "cells": [
  {
   "cell_type": "code",
   "execution_count": 23,
   "id": "227e1493",
   "metadata": {
    "id": "227e1493"
   },
   "outputs": [],
   "source": [
    "import numpy as np \n",
    "import pandas as pd"
   ]
  },
  {
   "cell_type": "code",
   "execution_count": 24,
   "id": "7846083f",
   "metadata": {
    "colab": {
     "base_uri": "https://localhost:8080/",
     "height": 328
    },
    "id": "7846083f",
    "outputId": "69c885df-816b-4f39-e1af-d34e6d70f7d2"
   },
   "outputs": [],
   "source": [
    "df=pd.read_csv(\"survey.csv\")"
   ]
  },
  {
   "cell_type": "code",
   "execution_count": 25,
   "id": "cc2918a5",
   "metadata": {
    "id": "cc2918a5"
   },
   "outputs": [],
   "source": [
    "df.drop(['comments'], axis=1, inplace=True)\n",
    "df.drop(['state'], axis=1, inplace=True)\n",
    "\n",
    "df.drop(['Timestamp'], axis=1, inplace=True)\n",
    "df.drop(['Country'], axis=1, inplace=True)"
   ]
  },
  {
   "cell_type": "code",
   "execution_count": 26,
   "id": "77f08ea2",
   "metadata": {
    "id": "77f08ea2"
   },
   "outputs": [],
   "source": [
    "df['self_employed'] = df['self_employed'].fillna(df['self_employed'].mode()[0])\n",
    "df['work_interfere'] = df['work_interfere'].fillna(df['work_interfere'].mode()[0])"
   ]
  },
  {
   "cell_type": "code",
   "execution_count": 27,
   "id": "WqcaYOBlUcWa",
   "metadata": {
    "id": "WqcaYOBlUcWa"
   },
   "outputs": [],
   "source": [
    "unique_values_per_column = {}\n",
    "for column in df.columns:\n",
    "    unique_values_per_column[column] = df[column].unique()"
   ]
  },
  {
   "cell_type": "code",
   "execution_count": 28,
   "id": "KcPBN94_UUVl",
   "metadata": {
    "id": "KcPBN94_UUVl"
   },
   "outputs": [
    {
     "data": {
      "text/plain": [
       "array([         37,          44,          32,          31,          33,\n",
       "                35,          39,          42,          23,          29,\n",
       "                36,          27,          46,          41,          34,\n",
       "                30,          40,          38,          50,          24,\n",
       "                18,          28,          26,          22,          19,\n",
       "                25,          45,          21,         -29,          43,\n",
       "                56,          60,          54,         329,          55,\n",
       "       99999999999,          48,          20,          57,          58,\n",
       "                47,          62,          51,          65,          49,\n",
       "             -1726,           5,          53,          61,           8,\n",
       "                11,          -1,          72], dtype=int64)"
      ]
     },
     "execution_count": 28,
     "metadata": {},
     "output_type": "execute_result"
    }
   ],
   "source": [
    "unique_values_per_column['Age']"
   ]
  },
  {
   "cell_type": "code",
   "execution_count": 29,
   "id": "7hRR4qbQUxlc",
   "metadata": {
    "id": "7hRR4qbQUxlc"
   },
   "outputs": [
    {
     "data": {
      "text/plain": [
       "Int64Index([  18,   22,   38,   43,   75,   93,  112,  118,  129,  143,  150,\n",
       "             178,  183,  282,  287,  292,  294,  297,  333,  335,  347,  364,\n",
       "             372,  375,  390,  396,  419,  437,  466,  471,  475,  478,  482,\n",
       "             484,  498,  505,  508,  516,  520,  527,  560,  574,  581,  592,\n",
       "             606,  631,  639,  643,  652,  660,  679,  682,  687,  715,  734,\n",
       "             749,  825,  826,  837,  856,  864,  870,  895,  898,  904,  905,\n",
       "             909,  910,  911,  946,  952,  964,  968,  973,  989,  991,  994,\n",
       "            1017, 1020, 1027, 1068, 1090, 1104, 1106, 1117, 1123, 1126, 1127,\n",
       "            1159, 1164, 1174, 1182, 1186, 1211, 1220, 1221, 1236, 1257],\n",
       "           dtype='int64')"
      ]
     },
     "execution_count": 29,
     "metadata": {},
     "output_type": "execute_result"
    }
   ],
   "source": [
    "uncleaned_age_df = df[(df['Age'] < 21) | (df['Age'] > 44)]\n",
    "len(uncleaned_age_df)\n",
    "uncleaned_age_df['Age'].index"
   ]
  },
  {
   "cell_type": "code",
   "execution_count": 30,
   "id": "dBPtcrWFU2_U",
   "metadata": {
    "id": "dBPtcrWFU2_U"
   },
   "outputs": [],
   "source": [
    "df = df.drop(uncleaned_age_df['Age'].index)"
   ]
  },
  {
   "cell_type": "code",
   "execution_count": 31,
   "id": "n02tUkGoU6iG",
   "metadata": {
    "id": "n02tUkGoU6iG"
   },
   "outputs": [
    {
     "data": {
      "text/plain": [
       "array([37, 44, 32, 31, 33, 35, 39, 42, 23, 29, 36, 27, 41, 34, 30, 40, 38,\n",
       "       24, 28, 26, 22, 25, 21, 43], dtype=int64)"
      ]
     },
     "execution_count": 31,
     "metadata": {},
     "output_type": "execute_result"
    }
   ],
   "source": [
    "df['Age'].unique()"
   ]
  },
  {
   "cell_type": "code",
   "execution_count": 32,
   "id": "21fb5a0c",
   "metadata": {},
   "outputs": [
    {
     "name": "stdout",
     "output_type": "stream",
     "text": [
      "Age [37 44 32 31 33 35 39 42 23 29 36 27 41 34 30 40 38 24 28 26 22 25 21 43]\n",
      "Gender ['Female' 'M' 'Male' 'male' 'female' 'm' 'Male-ish' 'maile' 'Trans-female'\n",
      " 'Cis Female' 'F' 'Cis Male' 'Woman' 'f' 'Mal' 'Male (CIS)'\n",
      " 'queer/she/they' 'non-binary' 'Femake' 'woman' 'Make' 'Nah' 'Enby'\n",
      " 'fluid' 'Genderqueer' 'Female ' 'Androgyne' 'Agender' 'cis-female/femme'\n",
      " 'Guy (-ish) ^_^' 'male leaning androgynous' 'Man' 'msle' 'Neuter'\n",
      " 'Female (trans)' 'queer' 'Mail' 'cis male' 'Malr' 'Male ' 'femail'\n",
      " 'Cis Man' 'ostensibly male, unsure what that really means']\n",
      "self_employed ['No' 'Yes']\n",
      "family_history ['No' 'Yes']\n",
      "treatment ['Yes' 'No']\n",
      "work_interfere ['Often' 'Rarely' 'Never' 'Sometimes']\n",
      "no_employees ['6-25' 'More than 1000' '26-100' '100-500' '1-5' '500-1000']\n",
      "remote_work ['No' 'Yes']\n",
      "tech_company ['Yes' 'No']\n",
      "benefits ['Yes' \"Don't know\" 'No']\n",
      "care_options ['Not sure' 'No' 'Yes']\n",
      "wellness_program ['No' \"Don't know\" 'Yes']\n",
      "seek_help ['Yes' \"Don't know\" 'No']\n",
      "anonymity ['Yes' \"Don't know\" 'No']\n",
      "leave ['Somewhat easy' \"Don't know\" 'Somewhat difficult' 'Very difficult'\n",
      " 'Very easy']\n",
      "mental_health_consequence ['No' 'Maybe' 'Yes']\n",
      "phys_health_consequence ['No' 'Yes' 'Maybe']\n",
      "coworkers ['Some of them' 'No' 'Yes']\n",
      "supervisor ['Yes' 'No' 'Some of them']\n",
      "mental_health_interview ['No' 'Yes' 'Maybe']\n",
      "phys_health_interview ['Maybe' 'No' 'Yes']\n",
      "mental_vs_physical ['Yes' \"Don't know\" 'No']\n",
      "obs_consequence ['No' 'Yes']\n"
     ]
    }
   ],
   "source": [
    "for i in df.columns:\n",
    "  print(i,df[i].unique())"
   ]
  },
  {
   "cell_type": "code",
   "execution_count": 33,
   "id": "xZNrz5j5TXBA",
   "metadata": {
    "id": "xZNrz5j5TXBA"
   },
   "outputs": [],
   "source": [
    "def clean_gender(g):\n",
    "  male = ['male', 'Male','M', 'm', 'Male-ish', 'maile','Cis Male','Mal', 'Male (CIS)','Make','Male ', 'Man',\n",
    "        'msle','cis male', 'Cis Man','Malr','Mail']\n",
    "  female = ['Female', 'female','Cis Female', 'F','f','Femake', 'woman','Female ','cis-female/femme','Female (cis)','femail','Woman','female']\n",
    "  # trans = ['Trans-female','something kinda male?','queer/she/they','non-binary','All','fluid', 'Genderqueer','Androgyne', 'Agender','Guy (-ish) ^_^',\n",
    "  #       'male leaning androgynous','Trans woman','Neuter', 'Female (trans)','queer','ostensibly male, unsure what that really means','trans']\n",
    "  if g in male:\n",
    "    return \"male\"\n",
    "  elif g in female:\n",
    "    return \"female\"\n",
    "  else:\n",
    "    return \"female\"\n",
    "  \n",
    "def clean_employee(n):\n",
    "  types=['1-5','6-25','26-100','100-500','500-1000','More than 1000']\n",
    "  for i in range(len(types)):\n",
    "    if types[i]==n:\n",
    "      return i+1\n",
    "  return 7\n",
    "    \n",
    "def ordinal_encoding(n,k=[]):\n",
    "  for i in range(len(k)):\n",
    "    if(n==k[i]):\n",
    "      return i\n",
    "\n",
    "def neumeric_yes_no(n):\n",
    "\n",
    "  if n.lower()==\"yes\":\n",
    "    return 0\n",
    "  else:\n",
    "    return 1"
   ]
  },
  {
   "cell_type": "code",
   "execution_count": 35,
   "id": "6de57acf",
   "metadata": {},
   "outputs": [],
   "source": [
    "df[\"Gender\"]=df[\"Gender\"].apply(lambda x:clean_gender(x))\n",
    "list=[\"Age\",\"phys_health_interview\",\"mental_vs_physical\",\"mental_health_interview\",\"supervisor\",\"obs_consequence\",\"phys_health_consequence\"]\n",
    "details=[]\n",
    "for i in df.columns:\n",
    "    dict={}\n",
    "    if i not in list:\n",
    "        dict[i]=df[i].unique()\n",
    "        details.append(dict)\n",
    "    if i!=\"Age\":\n",
    "        df[i]=df[i].apply(lambda x:ordinal_encoding(x,df[i].unique()))\n",
    "    "
   ]
  },
  {
   "cell_type": "code",
   "execution_count": null,
   "id": "cc630232",
   "metadata": {},
   "outputs": [
    {
     "data": {
      "text/plain": [
       "[{'Gender': array(['female', 'male'], dtype=object)},\n",
       " {'self_employed': array(['No', 'Yes'], dtype=object)},\n",
       " {'family_history': array(['No', 'Yes'], dtype=object)},\n",
       " {'treatment': array(['Yes', 'No'], dtype=object)},\n",
       " {'work_interfere': array(['Often', 'Rarely', 'Never', 'Sometimes'], dtype=object)},\n",
       " {'no_employees': array(['6-25', 'More than 1000', '26-100', '100-500', '1-5', '500-1000'],\n",
       "        dtype=object)},\n",
       " {'remote_work': array(['No', 'Yes'], dtype=object)},\n",
       " {'tech_company': array(['Yes', 'No'], dtype=object)},\n",
       " {'benefits': array(['Yes', \"Don't know\", 'No'], dtype=object)},\n",
       " {'care_options': array(['Not sure', 'No', 'Yes'], dtype=object)},\n",
       " {'wellness_program': array(['No', \"Don't know\", 'Yes'], dtype=object)},\n",
       " {'seek_help': array(['Yes', \"Don't know\", 'No'], dtype=object)},\n",
       " {'anonymity': array(['Yes', \"Don't know\", 'No'], dtype=object)},\n",
       " {'leave': array(['Somewhat easy', \"Don't know\", 'Somewhat difficult',\n",
       "         'Very difficult', 'Very easy'], dtype=object)},\n",
       " {'mental_health_consequence': array(['No', 'Maybe', 'Yes'], dtype=object)},\n",
       " {'coworkers': array(['Some of them', 'No', 'Yes'], dtype=object)}]"
      ]
     },
     "execution_count": 13,
     "metadata": {},
     "output_type": "execute_result"
    }
   ],
   "source": [
    "details"
   ]
  },
  {
   "cell_type": "code",
   "execution_count": null,
   "id": "erSqk3QKTW-s",
   "metadata": {
    "id": "erSqk3QKTW-s"
   },
   "outputs": [],
   "source": [
    "# df[\"Gender\"]=df[\"Gender\"].apply(lambda x:clean_gender(x))\n",
    "# df[\"self_employed\"]=df[\"self_employed\"].apply(lambda x:neumeric_yes_no(x))\n",
    "# df[\"family_history\"]=df[\"family_history\"].apply(lambda x:neumeric_yes_no(x))\n",
    "# df[\"treatment\"]=df[\"treatment\"].apply(lambda x:neumeric_yes_no(x))\n",
    "# df[\"remote_work\"]=df[\"remote_work\"].apply(lambda x:neumeric_yes_no(x))\n",
    "# df[\"tech_company\"]=df[\"tech_company\"].apply(lambda x:neumeric_yes_no(x))\n",
    "# df[\"obs_consequence\"]=df[\"obs_consequence\"].apply(lambda x:neumeric_yes_no(x))\n",
    "# df[\"no_employees\"]=df[\"no_employees\"].apply(lambda x:clean_employee(x))"
   ]
  },
  {
   "cell_type": "code",
   "execution_count": null,
   "id": "483c5476",
   "metadata": {},
   "outputs": [
    {
     "name": "stdout",
     "output_type": "stream",
     "text": [
      "29    85\n",
      "32    82\n",
      "26    75\n",
      "27    71\n",
      "33    70\n",
      "28    68\n",
      "31    67\n",
      "34    65\n",
      "30    63\n",
      "25    61\n",
      "35    55\n",
      "23    51\n",
      "24    46\n",
      "37    43\n",
      "38    39\n",
      "36    37\n",
      "39    33\n",
      "40    33\n",
      "43    28\n",
      "22    21\n",
      "41    21\n",
      "42    20\n",
      "21    16\n",
      "44    11\n",
      "Name: Age, dtype: int64\n",
      "1    910\n",
      "0    251\n",
      "Name: Gender, dtype: int64\n",
      "0    1030\n",
      "1     131\n",
      "Name: self_employed, dtype: int64\n",
      "0    697\n",
      "1    464\n",
      "Name: family_history, dtype: int64\n",
      "0    582\n",
      "1    579\n",
      "Name: treatment, dtype: int64\n",
      "3    683\n",
      "2    191\n",
      "1    158\n",
      "0    129\n",
      "Name: work_interfere, dtype: int64\n",
      "0    277\n",
      "2    267\n",
      "1    255\n",
      "3    165\n",
      "4    140\n",
      "5     57\n",
      "Name: no_employees, dtype: int64\n",
      "0    829\n",
      "1    332\n",
      "Name: remote_work, dtype: int64\n",
      "0    950\n",
      "1    211\n",
      "Name: tech_company, dtype: int64\n",
      "0    434\n",
      "1    374\n",
      "2    353\n",
      "Name: benefits, dtype: int64\n",
      "1    470\n",
      "2    402\n",
      "0    289\n",
      "Name: care_options, dtype: int64\n",
      "0    786\n",
      "2    204\n",
      "1    171\n",
      "Name: wellness_program, dtype: int64\n",
      "2    606\n",
      "1    337\n",
      "0    218\n",
      "Name: seek_help, dtype: int64\n",
      "1    753\n",
      "0    347\n",
      "2     61\n",
      "Name: anonymity, dtype: int64\n",
      "1    516\n",
      "0    251\n",
      "4    188\n",
      "2    114\n",
      "3     92\n",
      "Name: leave, dtype: int64\n",
      "0    450\n",
      "1    450\n",
      "2    261\n",
      "Name: mental_health_consequence, dtype: int64\n",
      "0    861\n",
      "2    249\n",
      "1     51\n",
      "Name: phys_health_consequence, dtype: int64\n",
      "0    721\n",
      "1    232\n",
      "2    208\n",
      "Name: coworkers, dtype: int64\n",
      "0    477\n",
      "1    358\n",
      "2    326\n",
      "Name: supervisor, dtype: int64\n",
      "0    929\n",
      "2    196\n",
      "1     36\n",
      "Name: mental_health_interview, dtype: int64\n",
      "0    507\n",
      "1    463\n",
      "2    191\n",
      "Name: phys_health_interview, dtype: int64\n",
      "1    533\n",
      "0    314\n",
      "2    314\n",
      "Name: mental_vs_physical, dtype: int64\n",
      "0    995\n",
      "1    166\n",
      "Name: obs_consequence, dtype: int64\n"
     ]
    }
   ],
   "source": [
    "for i in df.columns:\n",
    "    print(df[i].value_counts())"
   ]
  },
  {
   "cell_type": "code",
   "execution_count": null,
   "id": "DH1xXxRs4Vim",
   "metadata": {
    "id": "DH1xXxRs4Vim"
   },
   "outputs": [],
   "source": [
    "# df=pd.get_dummies(df,columns=[\"Gender\",\"work_interfere\",\"seek_help\",\"benefits\",\"care_options\",\"wellness_program\",\"anonymity\",\"leave\",\"mental_health_consequence\",\"coworkers\",\"phys_health_consequence\",\"supervisor\",\"mental_health_interview\",\"phys_health_interview\",\"mental_vs_physical\"])"
   ]
  },
  {
   "cell_type": "code",
   "execution_count": 36,
   "id": "09744948",
   "metadata": {},
   "outputs": [],
   "source": [
    "df[\"Age\"]=df[\"Age\"].apply(lambda x:x/100)"
   ]
  },
  {
   "cell_type": "code",
   "execution_count": 37,
   "id": "dea8e9e4",
   "metadata": {},
   "outputs": [
    {
     "name": "stdout",
     "output_type": "stream",
     "text": [
      "Age [0.37 0.44 0.32 0.31 0.33 0.35 0.39 0.42 0.23 0.29 0.36 0.27 0.41 0.34\n",
      " 0.3  0.4  0.38 0.24 0.28 0.26 0.22 0.25 0.21 0.43]\n",
      "Gender [0]\n",
      "self_employed [0 1]\n",
      "family_history [0 1]\n",
      "treatment [0 1]\n",
      "work_interfere [0 1 2 3]\n",
      "no_employees [0 1 2 3 4 5]\n",
      "remote_work [0 1]\n",
      "tech_company [0 1]\n",
      "benefits [0 1 2]\n",
      "care_options [0 1 2]\n",
      "wellness_program [0 1 2]\n",
      "seek_help [0 1 2]\n",
      "anonymity [0 1 2]\n",
      "leave [0 1 2 3 4]\n",
      "mental_health_consequence [0 1 2]\n",
      "phys_health_consequence [0 1 2]\n",
      "coworkers [0 1 2]\n",
      "supervisor [0 1 2]\n",
      "mental_health_interview [0 1 2]\n",
      "phys_health_interview [0 1 2]\n",
      "mental_vs_physical [0 1 2]\n",
      "obs_consequence [0 1]\n"
     ]
    }
   ],
   "source": [
    "for i in df.columns:\n",
    "  print(i,df[i].unique())"
   ]
  },
  {
   "cell_type": "code",
   "execution_count": null,
   "id": "f38d2570",
   "metadata": {},
   "outputs": [],
   "source": [
    "# y=df[\"treatment\"]\n",
    "# x=df.drop([\"treatment\",\"Gender_female\",\"work_interfere_Often\",\"seek_help_Don't know\",\"benefits_Don't know\",\"care_options_Not sure\",\"wellness_program_Don't know\",\"anonymity_Don't know\",\"leave_Don't know\",\"mental_health_consequence_Maybe\",\"coworkers_No\",\"phys_health_consequence_Maybe\",\"supervisor_Some of them\",\"mental_health_interview_Maybe\",\"phys_health_interview_Maybe\",\"mental_vs_physical_Don't know\",\"mental_vs_physical_No\"],axis=1)"
   ]
  },
  {
   "cell_type": "code",
   "execution_count": 38,
   "id": "e2945784",
   "metadata": {},
   "outputs": [],
   "source": [
    "y=df[\"treatment\"]\n",
    "x=df.drop([\"treatment\",\"phys_health_interview\",\"mental_vs_physical\",\"mental_health_interview\",\"supervisor\",\"obs_consequence\",\"phys_health_consequence\"],axis=1)"
   ]
  },
  {
   "cell_type": "code",
   "execution_count": 39,
   "id": "ba6b162b",
   "metadata": {},
   "outputs": [
    {
     "data": {
      "text/html": [
       "<div>\n",
       "<style scoped>\n",
       "    .dataframe tbody tr th:only-of-type {\n",
       "        vertical-align: middle;\n",
       "    }\n",
       "\n",
       "    .dataframe tbody tr th {\n",
       "        vertical-align: top;\n",
       "    }\n",
       "\n",
       "    .dataframe thead th {\n",
       "        text-align: right;\n",
       "    }\n",
       "</style>\n",
       "<table border=\"1\" class=\"dataframe\">\n",
       "  <thead>\n",
       "    <tr style=\"text-align: right;\">\n",
       "      <th></th>\n",
       "      <th>Age</th>\n",
       "      <th>Gender</th>\n",
       "      <th>self_employed</th>\n",
       "      <th>family_history</th>\n",
       "      <th>work_interfere</th>\n",
       "      <th>no_employees</th>\n",
       "      <th>remote_work</th>\n",
       "      <th>tech_company</th>\n",
       "      <th>benefits</th>\n",
       "      <th>care_options</th>\n",
       "      <th>wellness_program</th>\n",
       "      <th>seek_help</th>\n",
       "      <th>anonymity</th>\n",
       "      <th>leave</th>\n",
       "      <th>mental_health_consequence</th>\n",
       "      <th>coworkers</th>\n",
       "    </tr>\n",
       "  </thead>\n",
       "  <tbody>\n",
       "    <tr>\n",
       "      <th>0</th>\n",
       "      <td>0.37</td>\n",
       "      <td>0</td>\n",
       "      <td>0</td>\n",
       "      <td>0</td>\n",
       "      <td>0</td>\n",
       "      <td>0</td>\n",
       "      <td>0</td>\n",
       "      <td>0</td>\n",
       "      <td>0</td>\n",
       "      <td>0</td>\n",
       "      <td>0</td>\n",
       "      <td>0</td>\n",
       "      <td>0</td>\n",
       "      <td>0</td>\n",
       "      <td>0</td>\n",
       "      <td>0</td>\n",
       "    </tr>\n",
       "    <tr>\n",
       "      <th>1</th>\n",
       "      <td>0.44</td>\n",
       "      <td>0</td>\n",
       "      <td>0</td>\n",
       "      <td>0</td>\n",
       "      <td>1</td>\n",
       "      <td>1</td>\n",
       "      <td>0</td>\n",
       "      <td>1</td>\n",
       "      <td>1</td>\n",
       "      <td>1</td>\n",
       "      <td>1</td>\n",
       "      <td>1</td>\n",
       "      <td>1</td>\n",
       "      <td>1</td>\n",
       "      <td>1</td>\n",
       "      <td>1</td>\n",
       "    </tr>\n",
       "    <tr>\n",
       "      <th>2</th>\n",
       "      <td>0.32</td>\n",
       "      <td>0</td>\n",
       "      <td>0</td>\n",
       "      <td>0</td>\n",
       "      <td>1</td>\n",
       "      <td>0</td>\n",
       "      <td>0</td>\n",
       "      <td>0</td>\n",
       "      <td>2</td>\n",
       "      <td>1</td>\n",
       "      <td>0</td>\n",
       "      <td>2</td>\n",
       "      <td>1</td>\n",
       "      <td>2</td>\n",
       "      <td>0</td>\n",
       "      <td>2</td>\n",
       "    </tr>\n",
       "    <tr>\n",
       "      <th>3</th>\n",
       "      <td>0.31</td>\n",
       "      <td>0</td>\n",
       "      <td>0</td>\n",
       "      <td>1</td>\n",
       "      <td>0</td>\n",
       "      <td>2</td>\n",
       "      <td>0</td>\n",
       "      <td>0</td>\n",
       "      <td>2</td>\n",
       "      <td>2</td>\n",
       "      <td>0</td>\n",
       "      <td>2</td>\n",
       "      <td>2</td>\n",
       "      <td>2</td>\n",
       "      <td>2</td>\n",
       "      <td>0</td>\n",
       "    </tr>\n",
       "    <tr>\n",
       "      <th>4</th>\n",
       "      <td>0.31</td>\n",
       "      <td>0</td>\n",
       "      <td>0</td>\n",
       "      <td>0</td>\n",
       "      <td>2</td>\n",
       "      <td>3</td>\n",
       "      <td>1</td>\n",
       "      <td>0</td>\n",
       "      <td>0</td>\n",
       "      <td>1</td>\n",
       "      <td>1</td>\n",
       "      <td>1</td>\n",
       "      <td>1</td>\n",
       "      <td>1</td>\n",
       "      <td>0</td>\n",
       "      <td>0</td>\n",
       "    </tr>\n",
       "    <tr>\n",
       "      <th>...</th>\n",
       "      <td>...</td>\n",
       "      <td>...</td>\n",
       "      <td>...</td>\n",
       "      <td>...</td>\n",
       "      <td>...</td>\n",
       "      <td>...</td>\n",
       "      <td>...</td>\n",
       "      <td>...</td>\n",
       "      <td>...</td>\n",
       "      <td>...</td>\n",
       "      <td>...</td>\n",
       "      <td>...</td>\n",
       "      <td>...</td>\n",
       "      <td>...</td>\n",
       "      <td>...</td>\n",
       "      <td>...</td>\n",
       "    </tr>\n",
       "    <tr>\n",
       "      <th>1253</th>\n",
       "      <td>0.36</td>\n",
       "      <td>0</td>\n",
       "      <td>0</td>\n",
       "      <td>1</td>\n",
       "      <td>1</td>\n",
       "      <td>1</td>\n",
       "      <td>0</td>\n",
       "      <td>1</td>\n",
       "      <td>1</td>\n",
       "      <td>1</td>\n",
       "      <td>2</td>\n",
       "      <td>0</td>\n",
       "      <td>1</td>\n",
       "      <td>0</td>\n",
       "      <td>1</td>\n",
       "      <td>0</td>\n",
       "    </tr>\n",
       "    <tr>\n",
       "      <th>1254</th>\n",
       "      <td>0.26</td>\n",
       "      <td>0</td>\n",
       "      <td>0</td>\n",
       "      <td>0</td>\n",
       "      <td>3</td>\n",
       "      <td>2</td>\n",
       "      <td>0</td>\n",
       "      <td>0</td>\n",
       "      <td>2</td>\n",
       "      <td>1</td>\n",
       "      <td>0</td>\n",
       "      <td>2</td>\n",
       "      <td>1</td>\n",
       "      <td>0</td>\n",
       "      <td>0</td>\n",
       "      <td>0</td>\n",
       "    </tr>\n",
       "    <tr>\n",
       "      <th>1255</th>\n",
       "      <td>0.32</td>\n",
       "      <td>0</td>\n",
       "      <td>0</td>\n",
       "      <td>1</td>\n",
       "      <td>0</td>\n",
       "      <td>2</td>\n",
       "      <td>1</td>\n",
       "      <td>0</td>\n",
       "      <td>0</td>\n",
       "      <td>2</td>\n",
       "      <td>0</td>\n",
       "      <td>2</td>\n",
       "      <td>0</td>\n",
       "      <td>2</td>\n",
       "      <td>0</td>\n",
       "      <td>0</td>\n",
       "    </tr>\n",
       "    <tr>\n",
       "      <th>1256</th>\n",
       "      <td>0.34</td>\n",
       "      <td>0</td>\n",
       "      <td>0</td>\n",
       "      <td>1</td>\n",
       "      <td>3</td>\n",
       "      <td>1</td>\n",
       "      <td>0</td>\n",
       "      <td>0</td>\n",
       "      <td>0</td>\n",
       "      <td>2</td>\n",
       "      <td>0</td>\n",
       "      <td>2</td>\n",
       "      <td>1</td>\n",
       "      <td>2</td>\n",
       "      <td>2</td>\n",
       "      <td>1</td>\n",
       "    </tr>\n",
       "    <tr>\n",
       "      <th>1258</th>\n",
       "      <td>0.25</td>\n",
       "      <td>0</td>\n",
       "      <td>0</td>\n",
       "      <td>1</td>\n",
       "      <td>3</td>\n",
       "      <td>2</td>\n",
       "      <td>0</td>\n",
       "      <td>1</td>\n",
       "      <td>0</td>\n",
       "      <td>2</td>\n",
       "      <td>0</td>\n",
       "      <td>2</td>\n",
       "      <td>0</td>\n",
       "      <td>1</td>\n",
       "      <td>1</td>\n",
       "      <td>0</td>\n",
       "    </tr>\n",
       "  </tbody>\n",
       "</table>\n",
       "<p>1161 rows × 16 columns</p>\n",
       "</div>"
      ],
      "text/plain": [
       "       Age  Gender  self_employed  family_history  work_interfere  \\\n",
       "0     0.37       0              0               0               0   \n",
       "1     0.44       0              0               0               1   \n",
       "2     0.32       0              0               0               1   \n",
       "3     0.31       0              0               1               0   \n",
       "4     0.31       0              0               0               2   \n",
       "...    ...     ...            ...             ...             ...   \n",
       "1253  0.36       0              0               1               1   \n",
       "1254  0.26       0              0               0               3   \n",
       "1255  0.32       0              0               1               0   \n",
       "1256  0.34       0              0               1               3   \n",
       "1258  0.25       0              0               1               3   \n",
       "\n",
       "      no_employees  remote_work  tech_company  benefits  care_options  \\\n",
       "0                0            0             0         0             0   \n",
       "1                1            0             1         1             1   \n",
       "2                0            0             0         2             1   \n",
       "3                2            0             0         2             2   \n",
       "4                3            1             0         0             1   \n",
       "...            ...          ...           ...       ...           ...   \n",
       "1253             1            0             1         1             1   \n",
       "1254             2            0             0         2             1   \n",
       "1255             2            1             0         0             2   \n",
       "1256             1            0             0         0             2   \n",
       "1258             2            0             1         0             2   \n",
       "\n",
       "      wellness_program  seek_help  anonymity  leave  \\\n",
       "0                    0          0          0      0   \n",
       "1                    1          1          1      1   \n",
       "2                    0          2          1      2   \n",
       "3                    0          2          2      2   \n",
       "4                    1          1          1      1   \n",
       "...                ...        ...        ...    ...   \n",
       "1253                 2          0          1      0   \n",
       "1254                 0          2          1      0   \n",
       "1255                 0          2          0      2   \n",
       "1256                 0          2          1      2   \n",
       "1258                 0          2          0      1   \n",
       "\n",
       "      mental_health_consequence  coworkers  \n",
       "0                             0          0  \n",
       "1                             1          1  \n",
       "2                             0          2  \n",
       "3                             2          0  \n",
       "4                             0          0  \n",
       "...                         ...        ...  \n",
       "1253                          1          0  \n",
       "1254                          0          0  \n",
       "1255                          0          0  \n",
       "1256                          2          1  \n",
       "1258                          1          0  \n",
       "\n",
       "[1161 rows x 16 columns]"
      ]
     },
     "execution_count": 39,
     "metadata": {},
     "output_type": "execute_result"
    }
   ],
   "source": [
    "x"
   ]
  },
  {
   "cell_type": "code",
   "execution_count": 40,
   "id": "9d861dda",
   "metadata": {
    "scrolled": false
   },
   "outputs": [],
   "source": [
    "import joblib\n",
    "import pickle\n",
    "import tensorflow as tf\n",
    "from sklearn.model_selection import train_test_split\n",
    "import matplotlib.pyplot as plt"
   ]
  },
  {
   "cell_type": "code",
   "execution_count": 71,
   "id": "0902a4ea",
   "metadata": {},
   "outputs": [],
   "source": [
    "x_train,x_test,y_train,y_test=train_test_split(x,y,random_state=42)"
   ]
  },
  {
   "cell_type": "code",
   "execution_count": 76,
   "id": "be5e8373",
   "metadata": {},
   "outputs": [
    {
     "name": "stdout",
     "output_type": "stream",
     "text": [
      "28/28 [==============================] - 0s 1ms/step - loss: 0.3462 - accuracy: 0.8299\n",
      "10/10 [==============================] - 0s 1ms/step - loss: 1.0334 - accuracy: 0.7388\n"
     ]
    },
    {
     "data": {
      "text/plain": [
       "([0.3462185859680176, 0.8298850655555725],\n",
       " [1.0334320068359375, 0.738831639289856])"
      ]
     },
     "execution_count": 76,
     "metadata": {},
     "output_type": "execute_result"
    }
   ],
   "source": [
    "model=tf.keras.Sequential([\n",
    "    tf.keras.layers.Dense(64,activation=\"relu\"),\n",
    "    # tf.keras.layers.Dense(10,activation=\"relu\"),\n",
    "    tf.keras.layers.Dense(1,activation=\"relu\")\n",
    "])\n",
    "model.compile(optimizer=tf.optimizers.Adam(learning_rate=0.001),loss=tf.losses.BinaryCrossentropy(),metrics=[\"accuracy\"])\n",
    "\n",
    "# lr_scheduler=tf.keras.callbacks.LearningRateScheduler(lambda x: 1e-4*10**(x/20))\n",
    "history=model.fit(x_train,y_train,epochs=150,verbose=0)#,callbacks=lr_scheduler)\n",
    "model.evaluate(x_train,y_train),model.evaluate(x_test,y_test)"
   ]
  },
  {
   "cell_type": "code",
   "execution_count": null,
   "id": "b63384d5",
   "metadata": {},
   "outputs": [
    {
     "name": "stdout",
     "output_type": "stream",
     "text": [
      "INFO:tensorflow:Assets written to: ram://35913bbe-43ff-4f06-bc6b-57c107485537/assets\n"
     ]
    },
    {
     "data": {
      "text/plain": [
       "['model.pkl']"
      ]
     },
     "execution_count": 25,
     "metadata": {},
     "output_type": "execute_result"
    }
   ],
   "source": [
    "# joblib.dump(model,\"model.pkl\")"
   ]
  },
  {
   "cell_type": "code",
   "execution_count": 77,
   "id": "101eb654",
   "metadata": {},
   "outputs": [],
   "source": [
    "# pickle.dump(model,open(\"Model.pkl\",\"wb\"))\n",
    "model.save(\"Model_new.h5\")"
   ]
  },
  {
   "cell_type": "code",
   "execution_count": 110,
   "id": "11eaab41",
   "metadata": {},
   "outputs": [
    {
     "data": {
      "text/plain": [
       "array([[0.28, 0.  , 0.  , 0.  , 3.  , 1.  , 0.  , 0.  , 1.  , 1.  , 0.  ,\n",
       "        1.  , 1.  , 1.  , 1.  , 0.  ]])"
      ]
     },
     "execution_count": 110,
     "metadata": {},
     "output_type": "execute_result"
    }
   ],
   "source": [
    "k=np.array(x_test)[12]\n",
    "k=k[np.newaxis,:]\n",
    "k"
   ]
  },
  {
   "cell_type": "code",
   "execution_count": 108,
   "id": "524e1e7f",
   "metadata": {},
   "outputs": [
    {
     "ename": "ValueError",
     "evalue": "in user code:\n\n    File \"c:\\Users\\Armaan\\anaconda3\\lib\\site-packages\\keras\\engine\\training.py\", line 2041, in predict_function  *\n        return step_function(self, iterator)\n    File \"c:\\Users\\Armaan\\anaconda3\\lib\\site-packages\\keras\\engine\\training.py\", line 2027, in step_function  **\n        outputs = model.distribute_strategy.run(run_step, args=(data,))\n    File \"c:\\Users\\Armaan\\anaconda3\\lib\\site-packages\\keras\\engine\\training.py\", line 2015, in run_step  **\n        outputs = model.predict_step(data)\n    File \"c:\\Users\\Armaan\\anaconda3\\lib\\site-packages\\keras\\engine\\training.py\", line 1983, in predict_step\n        return self(x, training=False)\n    File \"c:\\Users\\Armaan\\anaconda3\\lib\\site-packages\\keras\\utils\\traceback_utils.py\", line 70, in error_handler\n        raise e.with_traceback(filtered_tb) from None\n\n    ValueError: Exception encountered when calling layer \"sequential_32\" \"                 f\"(type Sequential).\n    \n    Cannot iterate over a shape with unknown rank.\n    \n    Call arguments received by layer \"sequential_32\" \"                 f\"(type Sequential):\n      • inputs=tf.Tensor(shape=<unknown>, dtype=float32)\n      • training=False\n      • mask=None\n",
     "output_type": "error",
     "traceback": [
      "\u001b[1;31m---------------------------------------------------------------------------\u001b[0m",
      "\u001b[1;31mValueError\u001b[0m                                Traceback (most recent call last)",
      "\u001b[1;32m~\\AppData\\Local\\Temp\\ipykernel_1668\\2405786442.py\u001b[0m in \u001b[0;36m<module>\u001b[1;34m\u001b[0m\n\u001b[1;32m----> 1\u001b[1;33m \u001b[0my_pred\u001b[0m\u001b[1;33m=\u001b[0m\u001b[0mmodel\u001b[0m\u001b[1;33m.\u001b[0m\u001b[0mpredict\u001b[0m\u001b[1;33m(\u001b[0m\u001b[0mk\u001b[0m\u001b[1;33m[\u001b[0m\u001b[0mnp\u001b[0m\u001b[1;33m.\u001b[0m\u001b[0mnewaxis\u001b[0m\u001b[1;33m,\u001b[0m\u001b[1;33m:\u001b[0m\u001b[1;33m]\u001b[0m\u001b[1;33m)\u001b[0m\u001b[1;33m\u001b[0m\u001b[1;33m\u001b[0m\u001b[0m\n\u001b[0m\u001b[0;32m      2\u001b[0m \u001b[0my_pred\u001b[0m\u001b[1;33m[\u001b[0m\u001b[1;36m0\u001b[0m\u001b[1;33m]\u001b[0m\u001b[1;33m[\u001b[0m\u001b[1;36m0\u001b[0m\u001b[1;33m]\u001b[0m\u001b[1;33m\u001b[0m\u001b[1;33m\u001b[0m\u001b[0m\n",
      "\u001b[1;32mc:\\Users\\Armaan\\anaconda3\\lib\\site-packages\\keras\\utils\\traceback_utils.py\u001b[0m in \u001b[0;36merror_handler\u001b[1;34m(*args, **kwargs)\u001b[0m\n\u001b[0;32m     68\u001b[0m             \u001b[1;31m# To get the full stack trace, call:\u001b[0m\u001b[1;33m\u001b[0m\u001b[1;33m\u001b[0m\u001b[0m\n\u001b[0;32m     69\u001b[0m             \u001b[1;31m# `tf.debugging.disable_traceback_filtering()`\u001b[0m\u001b[1;33m\u001b[0m\u001b[1;33m\u001b[0m\u001b[0m\n\u001b[1;32m---> 70\u001b[1;33m             \u001b[1;32mraise\u001b[0m \u001b[0me\u001b[0m\u001b[1;33m.\u001b[0m\u001b[0mwith_traceback\u001b[0m\u001b[1;33m(\u001b[0m\u001b[0mfiltered_tb\u001b[0m\u001b[1;33m)\u001b[0m \u001b[1;32mfrom\u001b[0m \u001b[1;32mNone\u001b[0m\u001b[1;33m\u001b[0m\u001b[1;33m\u001b[0m\u001b[0m\n\u001b[0m\u001b[0;32m     71\u001b[0m         \u001b[1;32mfinally\u001b[0m\u001b[1;33m:\u001b[0m\u001b[1;33m\u001b[0m\u001b[1;33m\u001b[0m\u001b[0m\n\u001b[0;32m     72\u001b[0m             \u001b[1;32mdel\u001b[0m \u001b[0mfiltered_tb\u001b[0m\u001b[1;33m\u001b[0m\u001b[1;33m\u001b[0m\u001b[0m\n",
      "\u001b[1;32mc:\\Users\\Armaan\\anaconda3\\lib\\site-packages\\keras\\engine\\training.py\u001b[0m in \u001b[0;36mtf__predict_function\u001b[1;34m(iterator)\u001b[0m\n\u001b[0;32m     13\u001b[0m                 \u001b[1;32mtry\u001b[0m\u001b[1;33m:\u001b[0m\u001b[1;33m\u001b[0m\u001b[1;33m\u001b[0m\u001b[0m\n\u001b[0;32m     14\u001b[0m                     \u001b[0mdo_return\u001b[0m \u001b[1;33m=\u001b[0m \u001b[1;32mTrue\u001b[0m\u001b[1;33m\u001b[0m\u001b[1;33m\u001b[0m\u001b[0m\n\u001b[1;32m---> 15\u001b[1;33m                     \u001b[0mretval_\u001b[0m \u001b[1;33m=\u001b[0m \u001b[0mag__\u001b[0m\u001b[1;33m.\u001b[0m\u001b[0mconverted_call\u001b[0m\u001b[1;33m(\u001b[0m\u001b[0mag__\u001b[0m\u001b[1;33m.\u001b[0m\u001b[0mld\u001b[0m\u001b[1;33m(\u001b[0m\u001b[0mstep_function\u001b[0m\u001b[1;33m)\u001b[0m\u001b[1;33m,\u001b[0m \u001b[1;33m(\u001b[0m\u001b[0mag__\u001b[0m\u001b[1;33m.\u001b[0m\u001b[0mld\u001b[0m\u001b[1;33m(\u001b[0m\u001b[0mself\u001b[0m\u001b[1;33m)\u001b[0m\u001b[1;33m,\u001b[0m \u001b[0mag__\u001b[0m\u001b[1;33m.\u001b[0m\u001b[0mld\u001b[0m\u001b[1;33m(\u001b[0m\u001b[0miterator\u001b[0m\u001b[1;33m)\u001b[0m\u001b[1;33m)\u001b[0m\u001b[1;33m,\u001b[0m \u001b[1;32mNone\u001b[0m\u001b[1;33m,\u001b[0m \u001b[0mfscope\u001b[0m\u001b[1;33m)\u001b[0m\u001b[1;33m\u001b[0m\u001b[1;33m\u001b[0m\u001b[0m\n\u001b[0m\u001b[0;32m     16\u001b[0m                 \u001b[1;32mexcept\u001b[0m\u001b[1;33m:\u001b[0m\u001b[1;33m\u001b[0m\u001b[1;33m\u001b[0m\u001b[0m\n\u001b[0;32m     17\u001b[0m                     \u001b[0mdo_return\u001b[0m \u001b[1;33m=\u001b[0m \u001b[1;32mFalse\u001b[0m\u001b[1;33m\u001b[0m\u001b[1;33m\u001b[0m\u001b[0m\n",
      "\u001b[1;31mValueError\u001b[0m: in user code:\n\n    File \"c:\\Users\\Armaan\\anaconda3\\lib\\site-packages\\keras\\engine\\training.py\", line 2041, in predict_function  *\n        return step_function(self, iterator)\n    File \"c:\\Users\\Armaan\\anaconda3\\lib\\site-packages\\keras\\engine\\training.py\", line 2027, in step_function  **\n        outputs = model.distribute_strategy.run(run_step, args=(data,))\n    File \"c:\\Users\\Armaan\\anaconda3\\lib\\site-packages\\keras\\engine\\training.py\", line 2015, in run_step  **\n        outputs = model.predict_step(data)\n    File \"c:\\Users\\Armaan\\anaconda3\\lib\\site-packages\\keras\\engine\\training.py\", line 1983, in predict_step\n        return self(x, training=False)\n    File \"c:\\Users\\Armaan\\anaconda3\\lib\\site-packages\\keras\\utils\\traceback_utils.py\", line 70, in error_handler\n        raise e.with_traceback(filtered_tb) from None\n\n    ValueError: Exception encountered when calling layer \"sequential_32\" \"                 f\"(type Sequential).\n    \n    Cannot iterate over a shape with unknown rank.\n    \n    Call arguments received by layer \"sequential_32\" \"                 f\"(type Sequential):\n      • inputs=tf.Tensor(shape=<unknown>, dtype=float32)\n      • training=False\n      • mask=None\n"
     ]
    }
   ],
   "source": [
    "y_pred=model.predict(k[np.newaxis,:])\n",
    "y_pred[0][0]"
   ]
  },
  {
   "cell_type": "code",
   "execution_count": null,
   "id": "22e469f7",
   "metadata": {},
   "outputs": [],
   "source": [
    "# lrs=1e-4*(10**(tf.range(100)/20))\n",
    "# plt.figure(figsize=(7,4))\n",
    "# plt.semilogx(lrs,history.history[\"loss\"])\n",
    "# plt.xlabel(\"learning_rate\")\n",
    "# plt.ylabel(\"Loss\")"
   ]
  },
  {
   "cell_type": "code",
   "execution_count": 123,
   "id": "6e27aa4d",
   "metadata": {},
   "outputs": [
    {
     "data": {
      "text/plain": [
       "array([0.01, 2.  , 3.  ], dtype=float16)"
      ]
     },
     "execution_count": 123,
     "metadata": {},
     "output_type": "execute_result"
    }
   ],
   "source": [
    "x=[1,2,3]\n",
    "x=np.array(x).astype(np.float16)\n",
    "# x[0]=x[0]/100\n",
    "x[0]=x[0]/100\n",
    "# x[0]=4\n",
    "x"
   ]
  },
  {
   "cell_type": "code",
   "execution_count": 103,
   "id": "d4054917",
   "metadata": {},
   "outputs": [],
   "source": [
    "model2=tf.keras.models.load_model('C:\\\\Users\\\\Armaan\\\\OneDrive\\\\Desktop\\\\WORKSPACE\\\\Machine_Learning\\\\Projects\\\\Mental illness\\\\Dataset\\\\Model_new.h5')"
   ]
  },
  {
   "cell_type": "code",
   "execution_count": 109,
   "id": "08129c46",
   "metadata": {},
   "outputs": [
    {
     "name": "stdout",
     "output_type": "stream",
     "text": [
      "1/1 [==============================] - 0s 19ms/step\n"
     ]
    },
    {
     "data": {
      "text/plain": [
       "0.5939277"
      ]
     },
     "execution_count": 109,
     "metadata": {},
     "output_type": "execute_result"
    }
   ],
   "source": [
    "model2.predict(k)[0][0]"
   ]
  }
 ],
 "metadata": {
  "colab": {
   "provenance": []
  },
  "kernelspec": {
   "display_name": "Python 3 (ipykernel)",
   "language": "python",
   "name": "python3"
  },
  "language_info": {
   "codemirror_mode": {
    "name": "ipython",
    "version": 3
   },
   "file_extension": ".py",
   "mimetype": "text/x-python",
   "name": "python",
   "nbconvert_exporter": "python",
   "pygments_lexer": "ipython3",
   "version": "3.9.16"
  }
 },
 "nbformat": 4,
 "nbformat_minor": 5
}
