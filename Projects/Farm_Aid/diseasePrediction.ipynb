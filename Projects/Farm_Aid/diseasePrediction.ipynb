{
 "cells": [
  {
   "cell_type": "code",
   "execution_count": 1,
   "metadata": {},
   "outputs": [],
   "source": [
    "import numpy as np\n",
    "import pandas as pd\n",
    "import matplotlib.pyplot as plt\n",
    "import os\n",
    "import imageio as iio"
   ]
  },
  {
   "cell_type": "code",
   "execution_count": 5,
   "metadata": {},
   "outputs": [
    {
     "data": {
      "text/plain": [
       "38"
      ]
     },
     "execution_count": 5,
     "metadata": {},
     "output_type": "execute_result"
    }
   ],
   "source": [
    "classes=[\"healthy apple\",\"apple black rot\",\"apple cedar rust\",\"apple scab\",\n",
    "         \"healthy blueberry\",\n",
    "         \"healthy cherry\",\"cherry powdery mildew\",\n",
    "         \"healthy corn\",\"corn cercospora leaf spot\",\"corn common rust\",\"northern corn leaf blight\",\n",
    "         \"healthy grape\",\"grape black rot\",\"grape esca / black measles\",\"grape leaf blight / Isariopsis leaf spot\",\n",
    "         \"orange haunglongbing / citrus greening\",\n",
    "         \"healthy peach\",\"peach bacterial spot\",\n",
    "         \"healthy pepperbell\",\"pepper bell bacterial spot\",\n",
    "         \"healthy potato\",\"potato early blight\",\"potato late blight\",\n",
    "         \"healthy rasberry\",\n",
    "         \"healthy soybean\",\n",
    "         \"squash powdery mildew\",\n",
    "         \"healthy strawberry\",\"strawberry leaf scorch\",\n",
    "         \"healthy tomato\",\"tomato bacterial spot\",\"tomato early blight\",\"tomato late blight\",\"tomato leaf mold\",\"tomato mosaic virus\",\"tomato septoria leaf spot\",\"tomato spider mites\",\"tomato target spot\",\"tomato yellow leaf curl virus\"]\n",
    "len(classes)"
   ]
  },
  {
   "cell_type": "code",
   "execution_count": 6,
   "metadata": {},
   "outputs": [
    {
     "name": "stderr",
     "output_type": "stream",
     "text": [
      "C:\\Users\\Armaan\\AppData\\Local\\Temp\\ipykernel_19060\\2288800241.py:16: DeprecationWarning: Starting with ImageIO v3 the behavior of this function will switch to that of iio.v3.imread. To keep the current behavior (and make this warning disappear) use `import imageio.v2 as imageio` or call `imageio.v2.imread` directly.\n",
      "  x.append(iio.imread(imgPath))\n"
     ]
    },
    {
     "ename": "KeyboardInterrupt",
     "evalue": "",
     "output_type": "error",
     "traceback": [
      "\u001b[1;31m---------------------------------------------------------------------------\u001b[0m",
      "\u001b[1;31mKeyboardInterrupt\u001b[0m                         Traceback (most recent call last)",
      "\u001b[1;32mc:\\Users\\Armaan\\OneDrive\\Desktop\\Workspace\\Machine_Learning\\Projects\\Farm_Aid\\diseasePrediction.ipynb Cell 3\u001b[0m in \u001b[0;36m1\n\u001b[0;32m     <a href='vscode-notebook-cell:/c%3A/Users/Armaan/OneDrive/Desktop/Workspace/Machine_Learning/Projects/Farm_Aid/diseasePrediction.ipynb#W2sZmlsZQ%3D%3D?line=13'>14</a>\u001b[0m \u001b[39mfor\u001b[39;00m i \u001b[39min\u001b[39;00m \u001b[39mrange\u001b[39m(\u001b[39m0\u001b[39m,\u001b[39mlen\u001b[39m(imgs),m):\n\u001b[0;32m     <a href='vscode-notebook-cell:/c%3A/Users/Armaan/OneDrive/Desktop/Workspace/Machine_Learning/Projects/Farm_Aid/diseasePrediction.ipynb#W2sZmlsZQ%3D%3D?line=14'>15</a>\u001b[0m     imgPath\u001b[39m=\u001b[39mpath\u001b[39m+\u001b[39mimgs[i]\n\u001b[1;32m---> <a href='vscode-notebook-cell:/c%3A/Users/Armaan/OneDrive/Desktop/Workspace/Machine_Learning/Projects/Farm_Aid/diseasePrediction.ipynb#W2sZmlsZQ%3D%3D?line=15'>16</a>\u001b[0m     x\u001b[39m.\u001b[39mappend(iio\u001b[39m.\u001b[39mimread(imgPath))\n\u001b[0;32m     <a href='vscode-notebook-cell:/c%3A/Users/Armaan/OneDrive/Desktop/Workspace/Machine_Learning/Projects/Farm_Aid/diseasePrediction.ipynb#W2sZmlsZQ%3D%3D?line=16'>17</a>\u001b[0m     y\u001b[39m.\u001b[39mappend(n)\n\u001b[0;32m     <a href='vscode-notebook-cell:/c%3A/Users/Armaan/OneDrive/Desktop/Workspace/Machine_Learning/Projects/Farm_Aid/diseasePrediction.ipynb#W2sZmlsZQ%3D%3D?line=17'>18</a>\u001b[0m n\u001b[39m+\u001b[39m\u001b[39m=\u001b[39m\u001b[39m1\u001b[39m\n",
      "File \u001b[1;32mc:\\Users\\Armaan\\anaconda3\\envs\\main\\lib\\site-packages\\imageio\\__init__.py:97\u001b[0m, in \u001b[0;36mimread\u001b[1;34m(uri, format, **kwargs)\u001b[0m\n\u001b[0;32m     68\u001b[0m \u001b[39m\"\"\"imread(uri, format=None, **kwargs)\u001b[39;00m\n\u001b[0;32m     69\u001b[0m \n\u001b[0;32m     70\u001b[0m \u001b[39mReads an image from the specified file. Returns a numpy array, which\u001b[39;00m\n\u001b[1;32m   (...)\u001b[0m\n\u001b[0;32m     86\u001b[0m \u001b[39m    to see what arguments are available for a particular format.\u001b[39;00m\n\u001b[0;32m     87\u001b[0m \u001b[39m\"\"\"\u001b[39;00m\n\u001b[0;32m     89\u001b[0m warnings\u001b[39m.\u001b[39mwarn(\n\u001b[0;32m     90\u001b[0m     \u001b[39m\"\u001b[39m\u001b[39mStarting with ImageIO v3 the behavior of this function will switch to that of\u001b[39m\u001b[39m\"\u001b[39m\n\u001b[0;32m     91\u001b[0m     \u001b[39m\"\u001b[39m\u001b[39m iio.v3.imread. To keep the current behavior (and make this warning disappear)\u001b[39m\u001b[39m\"\u001b[39m\n\u001b[1;32m   (...)\u001b[0m\n\u001b[0;32m     94\u001b[0m     stacklevel\u001b[39m=\u001b[39m\u001b[39m2\u001b[39m,\n\u001b[0;32m     95\u001b[0m )\n\u001b[1;32m---> 97\u001b[0m \u001b[39mreturn\u001b[39;00m imread_v2(uri, \u001b[39mformat\u001b[39m\u001b[39m=\u001b[39m\u001b[39mformat\u001b[39m, \u001b[39m*\u001b[39m\u001b[39m*\u001b[39mkwargs)\n",
      "File \u001b[1;32mc:\\Users\\Armaan\\anaconda3\\envs\\main\\lib\\site-packages\\imageio\\v2.py:349\u001b[0m, in \u001b[0;36mimread\u001b[1;34m(uri, format, **kwargs)\u001b[0m\n\u001b[0;32m    346\u001b[0m imopen_args[\u001b[39m\"\u001b[39m\u001b[39mlegacy_mode\u001b[39m\u001b[39m\"\u001b[39m] \u001b[39m=\u001b[39m \u001b[39mTrue\u001b[39;00m\n\u001b[0;32m    348\u001b[0m \u001b[39mwith\u001b[39;00m imopen(uri, \u001b[39m\"\u001b[39m\u001b[39mri\u001b[39m\u001b[39m\"\u001b[39m, \u001b[39m*\u001b[39m\u001b[39m*\u001b[39mimopen_args) \u001b[39mas\u001b[39;00m file:\n\u001b[1;32m--> 349\u001b[0m     result \u001b[39m=\u001b[39m file\u001b[39m.\u001b[39mread(index\u001b[39m=\u001b[39m\u001b[39m0\u001b[39m, \u001b[39m*\u001b[39m\u001b[39m*\u001b[39mkwargs)\n\u001b[0;32m    351\u001b[0m \u001b[39mreturn\u001b[39;00m result\n",
      "File \u001b[1;32mc:\\Users\\Armaan\\anaconda3\\envs\\main\\lib\\site-packages\\imageio\\plugins\\pillow.py:220\u001b[0m, in \u001b[0;36mPillowPlugin.read\u001b[1;34m(self, index, mode, rotate, apply_gamma, writeable_output, pilmode, exifrotate, as_gray)\u001b[0m\n\u001b[0;32m    217\u001b[0m \u001b[39mif\u001b[39;00m \u001b[39misinstance\u001b[39m(index, \u001b[39mint\u001b[39m):\n\u001b[0;32m    218\u001b[0m     \u001b[39m# will raise IO error if index >= number of frames in image\u001b[39;00m\n\u001b[0;32m    219\u001b[0m     \u001b[39mself\u001b[39m\u001b[39m.\u001b[39m_image\u001b[39m.\u001b[39mseek(index)\n\u001b[1;32m--> 220\u001b[0m     image \u001b[39m=\u001b[39m \u001b[39mself\u001b[39;49m\u001b[39m.\u001b[39;49m_apply_transforms(\n\u001b[0;32m    221\u001b[0m         \u001b[39mself\u001b[39;49m\u001b[39m.\u001b[39;49m_image, mode, rotate, apply_gamma, writeable_output\n\u001b[0;32m    222\u001b[0m     )\n\u001b[0;32m    223\u001b[0m \u001b[39melse\u001b[39;00m:\n\u001b[0;32m    224\u001b[0m     iterator \u001b[39m=\u001b[39m \u001b[39mself\u001b[39m\u001b[39m.\u001b[39miter(\n\u001b[0;32m    225\u001b[0m         mode\u001b[39m=\u001b[39mmode,\n\u001b[0;32m    226\u001b[0m         rotate\u001b[39m=\u001b[39mrotate,\n\u001b[0;32m    227\u001b[0m         apply_gamma\u001b[39m=\u001b[39mapply_gamma,\n\u001b[0;32m    228\u001b[0m         writeable_output\u001b[39m=\u001b[39mwriteable_output,\n\u001b[0;32m    229\u001b[0m     )\n",
      "File \u001b[1;32mc:\\Users\\Armaan\\anaconda3\\envs\\main\\lib\\site-packages\\imageio\\plugins\\pillow.py:278\u001b[0m, in \u001b[0;36mPillowPlugin._apply_transforms\u001b[1;34m(self, image, mode, rotate, apply_gamma, writeable_output)\u001b[0m\n\u001b[0;32m    274\u001b[0m \u001b[39melif\u001b[39;00m image\u001b[39m.\u001b[39mmode \u001b[39m==\u001b[39m \u001b[39m\"\u001b[39m\u001b[39mP\u001b[39m\u001b[39m\"\u001b[39m:\n\u001b[0;32m    275\u001b[0m     \u001b[39m# adjust for pillow9 changes\u001b[39;00m\n\u001b[0;32m    276\u001b[0m     \u001b[39m# see: https://github.com/python-pillow/Pillow/issues/5929\u001b[39;00m\n\u001b[0;32m    277\u001b[0m     image \u001b[39m=\u001b[39m image\u001b[39m.\u001b[39mconvert(image\u001b[39m.\u001b[39mpalette\u001b[39m.\u001b[39mmode)\n\u001b[1;32m--> 278\u001b[0m image \u001b[39m=\u001b[39m np\u001b[39m.\u001b[39;49masarray(image)\n\u001b[0;32m    280\u001b[0m meta \u001b[39m=\u001b[39m \u001b[39mself\u001b[39m\u001b[39m.\u001b[39mmetadata(index\u001b[39m=\u001b[39m\u001b[39mself\u001b[39m\u001b[39m.\u001b[39m_image\u001b[39m.\u001b[39mtell(), exclude_applied\u001b[39m=\u001b[39m\u001b[39mFalse\u001b[39;00m)\n\u001b[0;32m    281\u001b[0m \u001b[39mif\u001b[39;00m rotate \u001b[39mand\u001b[39;00m \u001b[39m\"\u001b[39m\u001b[39mOrientation\u001b[39m\u001b[39m\"\u001b[39m \u001b[39min\u001b[39;00m meta:\n",
      "File \u001b[1;32mc:\\Users\\Armaan\\anaconda3\\envs\\main\\lib\\site-packages\\PIL\\Image.py:696\u001b[0m, in \u001b[0;36mImage.__array_interface__\u001b[1;34m(self)\u001b[0m\n\u001b[0;32m    694\u001b[0m         new[\u001b[39m\"\u001b[39m\u001b[39mdata\u001b[39m\u001b[39m\"\u001b[39m] \u001b[39m=\u001b[39m \u001b[39mself\u001b[39m\u001b[39m.\u001b[39mtobytes(\u001b[39m\"\u001b[39m\u001b[39mraw\u001b[39m\u001b[39m\"\u001b[39m, \u001b[39m\"\u001b[39m\u001b[39mL\u001b[39m\u001b[39m\"\u001b[39m)\n\u001b[0;32m    695\u001b[0m     \u001b[39melse\u001b[39;00m:\n\u001b[1;32m--> 696\u001b[0m         new[\u001b[39m\"\u001b[39m\u001b[39mdata\u001b[39m\u001b[39m\"\u001b[39m] \u001b[39m=\u001b[39m \u001b[39mself\u001b[39;49m\u001b[39m.\u001b[39;49mtobytes()\n\u001b[0;32m    697\u001b[0m \u001b[39mexcept\u001b[39;00m \u001b[39mException\u001b[39;00m \u001b[39mas\u001b[39;00m e:\n\u001b[0;32m    698\u001b[0m     \u001b[39mif\u001b[39;00m \u001b[39mnot\u001b[39;00m \u001b[39misinstance\u001b[39m(e, (\u001b[39mMemoryError\u001b[39;00m, \u001b[39mRecursionError\u001b[39;00m)):\n",
      "File \u001b[1;32mc:\\Users\\Armaan\\anaconda3\\envs\\main\\lib\\site-packages\\PIL\\Image.py:754\u001b[0m, in \u001b[0;36mImage.tobytes\u001b[1;34m(self, encoder_name, *args)\u001b[0m\n\u001b[0;32m    751\u001b[0m \u001b[39mif\u001b[39;00m encoder_name \u001b[39m==\u001b[39m \u001b[39m\"\u001b[39m\u001b[39mraw\u001b[39m\u001b[39m\"\u001b[39m \u001b[39mand\u001b[39;00m args \u001b[39m==\u001b[39m ():\n\u001b[0;32m    752\u001b[0m     args \u001b[39m=\u001b[39m \u001b[39mself\u001b[39m\u001b[39m.\u001b[39mmode\n\u001b[1;32m--> 754\u001b[0m \u001b[39mself\u001b[39;49m\u001b[39m.\u001b[39;49mload()\n\u001b[0;32m    756\u001b[0m \u001b[39mif\u001b[39;00m \u001b[39mself\u001b[39m\u001b[39m.\u001b[39mwidth \u001b[39m==\u001b[39m \u001b[39m0\u001b[39m \u001b[39mor\u001b[39;00m \u001b[39mself\u001b[39m\u001b[39m.\u001b[39mheight \u001b[39m==\u001b[39m \u001b[39m0\u001b[39m:\n\u001b[0;32m    757\u001b[0m     \u001b[39mreturn\u001b[39;00m \u001b[39mb\u001b[39m\u001b[39m\"\u001b[39m\u001b[39m\"\u001b[39m\n",
      "File \u001b[1;32mc:\\Users\\Armaan\\anaconda3\\envs\\main\\lib\\site-packages\\PIL\\ImageFile.py:269\u001b[0m, in \u001b[0;36mImageFile.load\u001b[1;34m(self)\u001b[0m\n\u001b[0;32m    266\u001b[0m         \u001b[39mraise\u001b[39;00m \u001b[39mOSError\u001b[39;00m(msg)\n\u001b[0;32m    268\u001b[0m b \u001b[39m=\u001b[39m b \u001b[39m+\u001b[39m s\n\u001b[1;32m--> 269\u001b[0m n, err_code \u001b[39m=\u001b[39m decoder\u001b[39m.\u001b[39;49mdecode(b)\n\u001b[0;32m    270\u001b[0m \u001b[39mif\u001b[39;00m n \u001b[39m<\u001b[39m \u001b[39m0\u001b[39m:\n\u001b[0;32m    271\u001b[0m     \u001b[39mbreak\u001b[39;00m\n",
      "\u001b[1;31mKeyboardInterrupt\u001b[0m: "
     ]
    }
   ],
   "source": [
    "root=\"C:/Users/Armaan/OneDrive/Desktop/Workspace/Machine_Learning/Datasets/farmAid/cropDisease/trainVal/train/\"\n",
    "n=0\n",
    "k=0\n",
    "x=[]\n",
    "y=[]\n",
    "dirNames=os.listdir(root)\n",
    "for dirName in dirNames:\n",
    "    dirPath=root+dirName+\"/\"\n",
    "    subclasses=os.listdir(dirPath)\n",
    "    for subclass in subclasses:\n",
    "        path=dirPath+subclass+\"/\"\n",
    "        imgs=os.listdir(path)\n",
    "        m=int(len(imgs)/800)\n",
    "        for i in range(0,len(imgs),m):\n",
    "            imgPath=path+imgs[i]\n",
    "            x.append(iio.imread(imgPath))\n",
    "            y.append(n)\n",
    "        n+=1\n",
    "    "
   ]
  },
  {
   "cell_type": "code",
   "execution_count": null,
   "metadata": {},
   "outputs": [],
   "source": [
    "from sklearn.model_selection import train_test_split\n",
    "xTrain,xTest,yTrain,yTest=train_test_split(x,y,random_state=0,train_size=0.95,shuffle=True)\n",
    "# xTest,xVal,yTest,yVal=train_test_split(xTest,yTest,random_state=0,train_size=0.5,shuffle=True)"
   ]
  },
  {
   "cell_type": "code",
   "execution_count": null,
   "metadata": {},
   "outputs": [
    {
     "ename": "MemoryError",
     "evalue": "Unable to allocate 24.5 GiB for an array with shape (33396, 256, 256, 3) and data type float32",
     "output_type": "error",
     "traceback": [
      "\u001b[1;31m---------------------------------------------------------------------------\u001b[0m",
      "\u001b[1;31mMemoryError\u001b[0m                               Traceback (most recent call last)",
      "\u001b[1;32mc:\\Users\\Armaan\\OneDrive\\Desktop\\Workspace\\Machine_Learning\\Projects\\Farm_Aid\\diseasePrediction.ipynb Cell 5\u001b[0m in \u001b[0;36m1\n\u001b[1;32m----> <a href='vscode-notebook-cell:/c%3A/Users/Armaan/OneDrive/Desktop/Workspace/Machine_Learning/Projects/Farm_Aid/diseasePrediction.ipynb#W4sZmlsZQ%3D%3D?line=0'>1</a>\u001b[0m xTrain\u001b[39m=\u001b[39mnp\u001b[39m.\u001b[39marray(xTrain,dtype\u001b[39m=\u001b[39mnp\u001b[39m.\u001b[39mfloat32)\u001b[39m/\u001b[39m\u001b[39m255\u001b[39m\n",
      "\u001b[1;31mMemoryError\u001b[0m: Unable to allocate 24.5 GiB for an array with shape (33396, 256, 256, 3) and data type float32"
     ]
    }
   ],
   "source": [
    "xTrain=np.array(xTrain,dtype=np.float32)/255"
   ]
  },
  {
   "cell_type": "code",
   "execution_count": null,
   "metadata": {},
   "outputs": [],
   "source": [
    "yTrain=np.array(yTrain)"
   ]
  },
  {
   "cell_type": "code",
   "execution_count": null,
   "metadata": {},
   "outputs": [],
   "source": [
    "xTest=np.array(xTest,dtype=np.float32)/255\n",
    "yTest=np.array(yTest)"
   ]
  },
  {
   "cell_type": "code",
   "execution_count": null,
   "metadata": {},
   "outputs": [],
   "source": [
    "# xVal=np.array(xVal,dtype=np.float32)/255\n",
    "# yVal=np.array(yVal)"
   ]
  },
  {
   "cell_type": "code",
   "execution_count": null,
   "metadata": {},
   "outputs": [],
   "source": [
    "# xVal.shape"
   ]
  },
  {
   "cell_type": "code",
   "execution_count": 2,
   "metadata": {},
   "outputs": [],
   "source": [
    "import tensorflow as tf\n",
    "# tf.compat.v1.enable_eager_execution"
   ]
  },
  {
   "cell_type": "code",
   "execution_count": null,
   "metadata": {},
   "outputs": [],
   "source": [
    "model=tf.keras.Sequential([\n",
    "    tf.keras.layers.Input(shape=(256,256,3),dtype=tf.float32),\n",
    "    tf.keras.layers.Conv2D(32,(3,3),activation=\"relu\"),\n",
    "    tf.keras.layers.MaxPooling2D((2,2)),\n",
    "    tf.keras.layers.Conv2D(64,(3,3),activation=\"relu\"),\n",
    "    tf.keras.layers.MaxPooling2D((2,2)),\n",
    "    tf.keras.layers.Conv2D(64,(3,3),activation=\"relu\"),\n",
    "    tf.keras.layers.MaxPooling2D((2,2)),\n",
    "    tf.keras.layers.Flatten(),\n",
    "    tf.keras.layers.Dense(128,activation=\"relu\"),\n",
    "    tf.keras.layers.Dense(64,activation=\"relu\"),\n",
    "    tf.keras.layers.Dense(38,activation=\"softmax\")\n",
    "])\n",
    "model.compile(optimizer=tf.optimizers.Adam(),loss=tf.losses.CategoricalCrossentropy(),metrics=[\"accuracy\",tf.metrics.RootMeanSquaredError()])"
   ]
  },
  {
   "cell_type": "code",
   "execution_count": null,
   "metadata": {},
   "outputs": [],
   "source": [
    "model.fit(xTrain,tf.one_hot(yTrain,depth=38),shuffle=True,validation_data=(xTest,tf.one_hot(yTest,depth=38)),epochs=7)"
   ]
  },
  {
   "cell_type": "code",
   "execution_count": null,
   "metadata": {},
   "outputs": [],
   "source": [
    "model.evaluate(xTest,tf.one_hot(yTest,depth=n))"
   ]
  },
  {
   "cell_type": "code",
   "execution_count": 3,
   "metadata": {},
   "outputs": [],
   "source": [
    "model=tf.keras.models.load_model(\"DP_Model.h5\")"
   ]
  },
  {
   "cell_type": "code",
   "execution_count": null,
   "metadata": {},
   "outputs": [],
   "source": [
    "model.save(\"DP_Model.h5\") #0.85"
   ]
  },
  {
   "cell_type": "code",
   "execution_count": 4,
   "metadata": {},
   "outputs": [
    {
     "ename": "NameError",
     "evalue": "name 'xTest' is not defined",
     "output_type": "error",
     "traceback": [
      "\u001b[1;31m---------------------------------------------------------------------------\u001b[0m",
      "\u001b[1;31mNameError\u001b[0m                                 Traceback (most recent call last)",
      "\u001b[1;32mc:\\Users\\Armaan\\OneDrive\\Desktop\\Workspace\\Machine_Learning\\Projects\\Farm_Aid\\diseasePrediction.ipynb Cell 16\u001b[0m in \u001b[0;36m1\n\u001b[1;32m----> <a href='vscode-notebook-cell:/c%3A/Users/Armaan/OneDrive/Desktop/Workspace/Machine_Learning/Projects/Farm_Aid/diseasePrediction.ipynb#X21sZmlsZQ%3D%3D?line=0'>1</a>\u001b[0m yPred\u001b[39m=\u001b[39mmodel\u001b[39m.\u001b[39mpredict(xTest)\n",
      "\u001b[1;31mNameError\u001b[0m: name 'xTest' is not defined"
     ]
    }
   ],
   "source": [
    "yPred=model.predict(xTest)"
   ]
  },
  {
   "cell_type": "code",
   "execution_count": null,
   "metadata": {},
   "outputs": [],
   "source": [
    "y_pred=yPred"
   ]
  },
  {
   "cell_type": "code",
   "execution_count": null,
   "metadata": {},
   "outputs": [],
   "source": [
    "y_pred=np.argmax(y_pred,axis=1)\n",
    "y_pred"
   ]
  },
  {
   "cell_type": "code",
   "execution_count": null,
   "metadata": {},
   "outputs": [],
   "source": [
    "y_pred.shape"
   ]
  },
  {
   "cell_type": "code",
   "execution_count": null,
   "metadata": {},
   "outputs": [],
   "source": [
    "from sklearn.metrics import confusion_matrix,classification_report"
   ]
  },
  {
   "cell_type": "code",
   "execution_count": null,
   "metadata": {},
   "outputs": [],
   "source": [
    "confusion_matrix(yTest,y_pred)"
   ]
  },
  {
   "cell_type": "code",
   "execution_count": null,
   "metadata": {},
   "outputs": [],
   "source": [
    "print(classification_report(yTest,y_pred))"
   ]
  }
 ],
 "metadata": {
  "kernelspec": {
   "display_name": "Python 3 (ipykernel)",
   "language": "python",
   "name": "python3"
  },
  "language_info": {
   "codemirror_mode": {
    "name": "ipython",
    "version": 3
   },
   "file_extension": ".py",
   "mimetype": "text/x-python",
   "name": "python",
   "nbconvert_exporter": "python",
   "pygments_lexer": "ipython3",
   "version": "3.10.11"
  }
 },
 "nbformat": 4,
 "nbformat_minor": 2
}
