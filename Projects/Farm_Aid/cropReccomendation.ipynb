{
 "cells": [
  {
   "attachments": {},
   "cell_type": "markdown",
   "metadata": {},
   "source": [
    "# Crop Reccomendation"
   ]
  },
  {
   "cell_type": "code",
   "execution_count": 1,
   "metadata": {},
   "outputs": [],
   "source": [
    "# import libraries\n",
    "import numpy as np\n",
    "import pandas as pd\n",
    "import matplotlib.pyplot as plt\n",
    "import seaborn as sns\n",
    "from sklearn.model_selection import train_test_split,cross_val_score,GridSearchCV\n",
    "from sklearn.metrics import confusion_matrix,classification_report"
   ]
  },
  {
   "cell_type": "code",
   "execution_count": null,
   "metadata": {},
   "outputs": [],
   "source": []
  },
  {
   "cell_type": "code",
   "execution_count": 11,
   "metadata": {},
   "outputs": [
    {
     "data": {
      "text/html": [
       "<div>\n",
       "<style scoped>\n",
       "    .dataframe tbody tr th:only-of-type {\n",
       "        vertical-align: middle;\n",
       "    }\n",
       "\n",
       "    .dataframe tbody tr th {\n",
       "        vertical-align: top;\n",
       "    }\n",
       "\n",
       "    .dataframe thead th {\n",
       "        text-align: right;\n",
       "    }\n",
       "</style>\n",
       "<table border=\"1\" class=\"dataframe\">\n",
       "  <thead>\n",
       "    <tr style=\"text-align: right;\">\n",
       "      <th></th>\n",
       "      <th>N</th>\n",
       "      <th>P</th>\n",
       "      <th>K</th>\n",
       "      <th>temperature</th>\n",
       "      <th>humidity</th>\n",
       "      <th>ph</th>\n",
       "      <th>rainfall</th>\n",
       "      <th>label</th>\n",
       "    </tr>\n",
       "  </thead>\n",
       "  <tbody>\n",
       "    <tr>\n",
       "      <th>0</th>\n",
       "      <td>90</td>\n",
       "      <td>42</td>\n",
       "      <td>43</td>\n",
       "      <td>20.879744</td>\n",
       "      <td>82.002744</td>\n",
       "      <td>6.502985</td>\n",
       "      <td>202.935536</td>\n",
       "      <td>rice</td>\n",
       "    </tr>\n",
       "    <tr>\n",
       "      <th>1</th>\n",
       "      <td>85</td>\n",
       "      <td>58</td>\n",
       "      <td>41</td>\n",
       "      <td>21.770462</td>\n",
       "      <td>80.319644</td>\n",
       "      <td>7.038096</td>\n",
       "      <td>226.655537</td>\n",
       "      <td>rice</td>\n",
       "    </tr>\n",
       "    <tr>\n",
       "      <th>2</th>\n",
       "      <td>60</td>\n",
       "      <td>55</td>\n",
       "      <td>44</td>\n",
       "      <td>23.004459</td>\n",
       "      <td>82.320763</td>\n",
       "      <td>7.840207</td>\n",
       "      <td>263.964248</td>\n",
       "      <td>rice</td>\n",
       "    </tr>\n",
       "    <tr>\n",
       "      <th>3</th>\n",
       "      <td>74</td>\n",
       "      <td>35</td>\n",
       "      <td>40</td>\n",
       "      <td>26.491096</td>\n",
       "      <td>80.158363</td>\n",
       "      <td>6.980401</td>\n",
       "      <td>242.864034</td>\n",
       "      <td>rice</td>\n",
       "    </tr>\n",
       "    <tr>\n",
       "      <th>4</th>\n",
       "      <td>78</td>\n",
       "      <td>42</td>\n",
       "      <td>42</td>\n",
       "      <td>20.130175</td>\n",
       "      <td>81.604873</td>\n",
       "      <td>7.628473</td>\n",
       "      <td>262.717340</td>\n",
       "      <td>rice</td>\n",
       "    </tr>\n",
       "    <tr>\n",
       "      <th>...</th>\n",
       "      <td>...</td>\n",
       "      <td>...</td>\n",
       "      <td>...</td>\n",
       "      <td>...</td>\n",
       "      <td>...</td>\n",
       "      <td>...</td>\n",
       "      <td>...</td>\n",
       "      <td>...</td>\n",
       "    </tr>\n",
       "    <tr>\n",
       "      <th>2195</th>\n",
       "      <td>107</td>\n",
       "      <td>34</td>\n",
       "      <td>32</td>\n",
       "      <td>26.774637</td>\n",
       "      <td>66.413269</td>\n",
       "      <td>6.780064</td>\n",
       "      <td>177.774507</td>\n",
       "      <td>coffee</td>\n",
       "    </tr>\n",
       "    <tr>\n",
       "      <th>2196</th>\n",
       "      <td>99</td>\n",
       "      <td>15</td>\n",
       "      <td>27</td>\n",
       "      <td>27.417112</td>\n",
       "      <td>56.636362</td>\n",
       "      <td>6.086922</td>\n",
       "      <td>127.924610</td>\n",
       "      <td>coffee</td>\n",
       "    </tr>\n",
       "    <tr>\n",
       "      <th>2197</th>\n",
       "      <td>118</td>\n",
       "      <td>33</td>\n",
       "      <td>30</td>\n",
       "      <td>24.131797</td>\n",
       "      <td>67.225123</td>\n",
       "      <td>6.362608</td>\n",
       "      <td>173.322839</td>\n",
       "      <td>coffee</td>\n",
       "    </tr>\n",
       "    <tr>\n",
       "      <th>2198</th>\n",
       "      <td>117</td>\n",
       "      <td>32</td>\n",
       "      <td>34</td>\n",
       "      <td>26.272418</td>\n",
       "      <td>52.127394</td>\n",
       "      <td>6.758793</td>\n",
       "      <td>127.175293</td>\n",
       "      <td>coffee</td>\n",
       "    </tr>\n",
       "    <tr>\n",
       "      <th>2199</th>\n",
       "      <td>104</td>\n",
       "      <td>18</td>\n",
       "      <td>30</td>\n",
       "      <td>23.603016</td>\n",
       "      <td>60.396475</td>\n",
       "      <td>6.779833</td>\n",
       "      <td>140.937041</td>\n",
       "      <td>coffee</td>\n",
       "    </tr>\n",
       "  </tbody>\n",
       "</table>\n",
       "<p>2200 rows × 8 columns</p>\n",
       "</div>"
      ],
      "text/plain": [
       "        N   P   K  temperature   humidity        ph    rainfall   label\n",
       "0      90  42  43    20.879744  82.002744  6.502985  202.935536    rice\n",
       "1      85  58  41    21.770462  80.319644  7.038096  226.655537    rice\n",
       "2      60  55  44    23.004459  82.320763  7.840207  263.964248    rice\n",
       "3      74  35  40    26.491096  80.158363  6.980401  242.864034    rice\n",
       "4      78  42  42    20.130175  81.604873  7.628473  262.717340    rice\n",
       "...   ...  ..  ..          ...        ...       ...         ...     ...\n",
       "2195  107  34  32    26.774637  66.413269  6.780064  177.774507  coffee\n",
       "2196   99  15  27    27.417112  56.636362  6.086922  127.924610  coffee\n",
       "2197  118  33  30    24.131797  67.225123  6.362608  173.322839  coffee\n",
       "2198  117  32  34    26.272418  52.127394  6.758793  127.175293  coffee\n",
       "2199  104  18  30    23.603016  60.396475  6.779833  140.937041  coffee\n",
       "\n",
       "[2200 rows x 8 columns]"
      ]
     },
     "execution_count": 11,
     "metadata": {},
     "output_type": "execute_result"
    }
   ],
   "source": [
    "data=pd.read_csv(\"C:\\\\Users\\\\Armaan\\\\OneDrive\\\\Desktop\\\\WORKSPACE\\\\Machine_Learning\\\\Datasets\\\\farmAid\\\\cropReccomendation\\\\Crop_recommendation.csv\",index_col=False)\n",
    "data"
   ]
  },
  {
   "cell_type": "code",
   "execution_count": 12,
   "metadata": {},
   "outputs": [],
   "source": [
    "labels=np.array(data.label)\n",
    "labels=set(labels)\n",
    "labels=list(labels)\n",
    "labels=np.array(labels)"
   ]
  },
  {
   "cell_type": "code",
   "execution_count": 13,
   "metadata": {},
   "outputs": [
    {
     "data": {
      "text/plain": [
       "array(['grapes', 'papaya', 'cotton', 'chickpea', 'lentil', 'pigeonpeas',\n",
       "       'coffee', 'maize', 'rice', 'orange', 'jute', 'coconut',\n",
       "       'blackgram', 'mungbean', 'mothbeans', 'banana', 'kidneybeans',\n",
       "       'mango', 'watermelon', 'pomegranate', 'apple', 'muskmelon'],\n",
       "      dtype='<U11')"
      ]
     },
     "execution_count": 13,
     "metadata": {},
     "output_type": "execute_result"
    }
   ],
   "source": [
    "(labels)"
   ]
  },
  {
   "cell_type": "code",
   "execution_count": 14,
   "metadata": {},
   "outputs": [],
   "source": [
    "def get_label(x):\n",
    "    for i in range(len(labels)):\n",
    "        if (labels[i]==x):\n",
    "            return i"
   ]
  },
  {
   "cell_type": "code",
   "execution_count": 15,
   "metadata": {},
   "outputs": [],
   "source": [
    "data.label=data.label.apply(lambda x:get_label(x))"
   ]
  },
  {
   "cell_type": "code",
   "execution_count": 16,
   "metadata": {},
   "outputs": [
    {
     "data": {
      "image/png": "[encoded data removed]",
      "text/plain": [
       "<Figure size 448x336 with 2 Axes>"
      ]
     },
     "metadata": {},
     "output_type": "display_data"
    }
   ],
   "source": [
    "fig=plt.figure(dpi=70)\n",
    "heatmap=sns.heatmap(data.corr())\n",
    "plt.show()"
   ]
  },
  {
   "cell_type": "code",
   "execution_count": 17,
   "metadata": {},
   "outputs": [],
   "source": [
    "x=data.iloc[:,:-1]\n",
    "y=data.iloc[:,-1]\n",
    "x_train,x_test,y_train,y_test=train_test_split(x,y,random_state=0)"
   ]
  },
  {
   "cell_type": "code",
   "execution_count": 23,
   "metadata": {},
   "outputs": [],
   "source": [
    "# def fn(x):\n",
    "#     return labels\n",
    "d=x_test\n",
    "d[\"label\"]=y_test.apply(lambda x: labels[x])"
   ]
  },
  {
   "cell_type": "code",
   "execution_count": 24,
   "metadata": {},
   "outputs": [
    {
     "data": {
      "text/html": [
       "<div>\n",
       "<style scoped>\n",
       "    .dataframe tbody tr th:only-of-type {\n",
       "        vertical-align: middle;\n",
       "    }\n",
       "\n",
       "    .dataframe tbody tr th {\n",
       "        vertical-align: top;\n",
       "    }\n",
       "\n",
       "    .dataframe thead th {\n",
       "        text-align: right;\n",
       "    }\n",
       "</style>\n",
       "<table border=\"1\" class=\"dataframe\">\n",
       "  <thead>\n",
       "    <tr style=\"text-align: right;\">\n",
       "      <th></th>\n",
       "      <th>N</th>\n",
       "      <th>P</th>\n",
       "      <th>K</th>\n",
       "      <th>temperature</th>\n",
       "      <th>humidity</th>\n",
       "      <th>ph</th>\n",
       "      <th>rainfall</th>\n",
       "      <th>label</th>\n",
       "    </tr>\n",
       "  </thead>\n",
       "  <tbody>\n",
       "    <tr>\n",
       "      <th>1320</th>\n",
       "      <td>105</td>\n",
       "      <td>14</td>\n",
       "      <td>50</td>\n",
       "      <td>26.214884</td>\n",
       "      <td>87.688398</td>\n",
       "      <td>6.419052</td>\n",
       "      <td>59.655908</td>\n",
       "      <td>watermelon</td>\n",
       "    </tr>\n",
       "    <tr>\n",
       "      <th>1367</th>\n",
       "      <td>91</td>\n",
       "      <td>12</td>\n",
       "      <td>46</td>\n",
       "      <td>24.644585</td>\n",
       "      <td>85.499382</td>\n",
       "      <td>6.343943</td>\n",
       "      <td>48.312190</td>\n",
       "      <td>watermelon</td>\n",
       "    </tr>\n",
       "    <tr>\n",
       "      <th>1291</th>\n",
       "      <td>14</td>\n",
       "      <td>121</td>\n",
       "      <td>203</td>\n",
       "      <td>9.724458</td>\n",
       "      <td>83.747656</td>\n",
       "      <td>6.158689</td>\n",
       "      <td>74.464111</td>\n",
       "      <td>grapes</td>\n",
       "    </tr>\n",
       "    <tr>\n",
       "      <th>264</th>\n",
       "      <td>52</td>\n",
       "      <td>73</td>\n",
       "      <td>79</td>\n",
       "      <td>17.257695</td>\n",
       "      <td>18.749440</td>\n",
       "      <td>7.840339</td>\n",
       "      <td>94.002872</td>\n",
       "      <td>chickpea</td>\n",
       "    </tr>\n",
       "    <tr>\n",
       "      <th>728</th>\n",
       "      <td>32</td>\n",
       "      <td>66</td>\n",
       "      <td>17</td>\n",
       "      <td>34.946616</td>\n",
       "      <td>65.267740</td>\n",
       "      <td>7.162358</td>\n",
       "      <td>70.141514</td>\n",
       "      <td>blackgram</td>\n",
       "    </tr>\n",
       "    <tr>\n",
       "      <th>...</th>\n",
       "      <td>...</td>\n",
       "      <td>...</td>\n",
       "      <td>...</td>\n",
       "      <td>...</td>\n",
       "      <td>...</td>\n",
       "      <td>...</td>\n",
       "      <td>...</td>\n",
       "      <td>...</td>\n",
       "    </tr>\n",
       "    <tr>\n",
       "      <th>1999</th>\n",
       "      <td>120</td>\n",
       "      <td>60</td>\n",
       "      <td>15</td>\n",
       "      <td>22.318719</td>\n",
       "      <td>83.861300</td>\n",
       "      <td>7.288377</td>\n",
       "      <td>65.357470</td>\n",
       "      <td>cotton</td>\n",
       "    </tr>\n",
       "    <tr>\n",
       "      <th>1171</th>\n",
       "      <td>9</td>\n",
       "      <td>21</td>\n",
       "      <td>32</td>\n",
       "      <td>32.269353</td>\n",
       "      <td>53.560928</td>\n",
       "      <td>5.870116</td>\n",
       "      <td>95.940354</td>\n",
       "      <td>mango</td>\n",
       "    </tr>\n",
       "    <tr>\n",
       "      <th>2136</th>\n",
       "      <td>84</td>\n",
       "      <td>27</td>\n",
       "      <td>29</td>\n",
       "      <td>23.322932</td>\n",
       "      <td>53.003663</td>\n",
       "      <td>7.167093</td>\n",
       "      <td>168.264429</td>\n",
       "      <td>coffee</td>\n",
       "    </tr>\n",
       "    <tr>\n",
       "      <th>1882</th>\n",
       "      <td>31</td>\n",
       "      <td>13</td>\n",
       "      <td>33</td>\n",
       "      <td>29.699523</td>\n",
       "      <td>95.212244</td>\n",
       "      <td>6.342464</td>\n",
       "      <td>148.300369</td>\n",
       "      <td>coconut</td>\n",
       "    </tr>\n",
       "    <tr>\n",
       "      <th>938</th>\n",
       "      <td>5</td>\n",
       "      <td>24</td>\n",
       "      <td>40</td>\n",
       "      <td>24.692258</td>\n",
       "      <td>93.870301</td>\n",
       "      <td>6.297908</td>\n",
       "      <td>104.673545</td>\n",
       "      <td>pomegranate</td>\n",
       "    </tr>\n",
       "  </tbody>\n",
       "</table>\n",
       "<p>550 rows × 8 columns</p>\n",
       "</div>"
      ],
      "text/plain": [
       "        N    P    K  temperature   humidity        ph    rainfall        label\n",
       "1320  105   14   50    26.214884  87.688398  6.419052   59.655908   watermelon\n",
       "1367   91   12   46    24.644585  85.499382  6.343943   48.312190   watermelon\n",
       "1291   14  121  203     9.724458  83.747656  6.158689   74.464111       grapes\n",
       "264    52   73   79    17.257695  18.749440  7.840339   94.002872     chickpea\n",
       "728    32   66   17    34.946616  65.267740  7.162358   70.141514    blackgram\n",
       "...   ...  ...  ...          ...        ...       ...         ...          ...\n",
       "1999  120   60   15    22.318719  83.861300  7.288377   65.357470       cotton\n",
       "1171    9   21   32    32.269353  53.560928  5.870116   95.940354        mango\n",
       "2136   84   27   29    23.322932  53.003663  7.167093  168.264429       coffee\n",
       "1882   31   13   33    29.699523  95.212244  6.342464  148.300369      coconut\n",
       "938     5   24   40    24.692258  93.870301  6.297908  104.673545  pomegranate\n",
       "\n",
       "[550 rows x 8 columns]"
      ]
     },
     "execution_count": 24,
     "metadata": {},
     "output_type": "execute_result"
    }
   ],
   "source": [
    "d"
   ]
  },
  {
   "cell_type": "code",
   "execution_count": 10,
   "metadata": {},
   "outputs": [],
   "source": [
    "from sklearn import svm\n",
    "from sklearn.neighbors import KNeighborsClassifier"
   ]
  },
  {
   "cell_type": "code",
   "execution_count": 11,
   "metadata": {},
   "outputs": [],
   "source": [
    "clf=svm.SVC(kernel='rbf')"
   ]
  },
  {
   "cell_type": "code",
   "execution_count": 12,
   "metadata": {},
   "outputs": [
    {
     "data": {
      "text/plain": [
       "SVC()"
      ]
     },
     "execution_count": 12,
     "metadata": {},
     "output_type": "execute_result"
    }
   ],
   "source": [
    "clf.fit(x_train,y_train)"
   ]
  },
  {
   "cell_type": "code",
   "execution_count": 13,
   "metadata": {},
   "outputs": [],
   "source": [
    "y_pred=clf.predict(x_test)"
   ]
  },
  {
   "cell_type": "code",
   "execution_count": 14,
   "metadata": {},
   "outputs": [
    {
     "name": "stdout",
     "output_type": "stream",
     "text": [
      "              precision    recall  f1-score   support\n",
      "\n",
      "           0       1.00      1.00      1.00        19\n",
      "           1       0.85      1.00      0.92        28\n",
      "           2       1.00      0.85      0.92        27\n",
      "           3       1.00      1.00      1.00        24\n",
      "           4       1.00      1.00      1.00        27\n",
      "           5       1.00      0.95      0.98        22\n",
      "           6       1.00      1.00      1.00        28\n",
      "           7       1.00      1.00      1.00        27\n",
      "           8       1.00      1.00      1.00        24\n",
      "           9       0.94      1.00      0.97        17\n",
      "          10       1.00      0.93      0.96        29\n",
      "          11       1.00      1.00      1.00        24\n",
      "          12       1.00      0.83      0.91        29\n",
      "          13       0.95      1.00      0.98        21\n",
      "          14       1.00      1.00      1.00        24\n",
      "          15       1.00      1.00      1.00        24\n",
      "          16       1.00      1.00      1.00        24\n",
      "          17       0.85      1.00      0.92        23\n",
      "          18       0.96      1.00      0.98        26\n",
      "          19       1.00      1.00      1.00        27\n",
      "          20       1.00      1.00      1.00        28\n",
      "          21       1.00      1.00      1.00        28\n",
      "\n",
      "    accuracy                           0.98       550\n",
      "   macro avg       0.98      0.98      0.98       550\n",
      "weighted avg       0.98      0.98      0.98       550\n",
      "\n"
     ]
    }
   ],
   "source": [
    "print(classification_report(y_test,y_pred))"
   ]
  },
  {
   "cell_type": "code",
   "execution_count": 15,
   "metadata": {},
   "outputs": [
    {
     "name": "stdout",
     "output_type": "stream",
     "text": [
      "[[19  0  0  0  0  0  0  0  0  0  0  0  0  0  0  0  0  0  0  0  0  0]\n",
      " [ 0 28  0  0  0  0  0  0  0  0  0  0  0  0  0  0  0  0  0  0  0  0]\n",
      " [ 0  0 23  0  0  0  0  0  0  0  0  0  0  0  0  0  0  4  0  0  0  0]\n",
      " [ 0  0  0 24  0  0  0  0  0  0  0  0  0  0  0  0  0  0  0  0  0  0]\n",
      " [ 0  0  0  0 27  0  0  0  0  0  0  0  0  0  0  0  0  0  0  0  0  0]\n",
      " [ 0  0  0  0  0 21  0  0  0  0  0  0  0  1  0  0  0  0  0  0  0  0]\n",
      " [ 0  0  0  0  0  0 28  0  0  0  0  0  0  0  0  0  0  0  0  0  0  0]\n",
      " [ 0  0  0  0  0  0  0 27  0  0  0  0  0  0  0  0  0  0  0  0  0  0]\n",
      " [ 0  0  0  0  0  0  0  0 24  0  0  0  0  0  0  0  0  0  0  0  0  0]\n",
      " [ 0  0  0  0  0  0  0  0  0 17  0  0  0  0  0  0  0  0  0  0  0  0]\n",
      " [ 0  0  0  0  0  0  0  0  0  1 27  0  0  0  0  0  0  0  1  0  0  0]\n",
      " [ 0  0  0  0  0  0  0  0  0  0  0 24  0  0  0  0  0  0  0  0  0  0]\n",
      " [ 0  5  0  0  0  0  0  0  0  0  0  0 24  0  0  0  0  0  0  0  0  0]\n",
      " [ 0  0  0  0  0  0  0  0  0  0  0  0  0 21  0  0  0  0  0  0  0  0]\n",
      " [ 0  0  0  0  0  0  0  0  0  0  0  0  0  0 24  0  0  0  0  0  0  0]\n",
      " [ 0  0  0  0  0  0  0  0  0  0  0  0  0  0  0 24  0  0  0  0  0  0]\n",
      " [ 0  0  0  0  0  0  0  0  0  0  0  0  0  0  0  0 24  0  0  0  0  0]\n",
      " [ 0  0  0  0  0  0  0  0  0  0  0  0  0  0  0  0  0 23  0  0  0  0]\n",
      " [ 0  0  0  0  0  0  0  0  0  0  0  0  0  0  0  0  0  0 26  0  0  0]\n",
      " [ 0  0  0  0  0  0  0  0  0  0  0  0  0  0  0  0  0  0  0 27  0  0]\n",
      " [ 0  0  0  0  0  0  0  0  0  0  0  0  0  0  0  0  0  0  0  0 28  0]\n",
      " [ 0  0  0  0  0  0  0  0  0  0  0  0  0  0  0  0  0  0  0  0  0 28]]\n"
     ]
    }
   ],
   "source": [
    "print(confusion_matrix(y_test,y_pred))"
   ]
  },
  {
   "cell_type": "code",
   "execution_count": 16,
   "metadata": {},
   "outputs": [],
   "source": [
    "import tensorflow as tf\n",
    "# tf.keras.backend.set_floatx('float32')"
   ]
  },
  {
   "cell_type": "code",
   "execution_count": 17,
   "metadata": {},
   "outputs": [
    {
     "data": {
      "text/plain": [
       "(7,)"
      ]
     },
     "execution_count": 17,
     "metadata": {},
     "output_type": "execute_result"
    }
   ],
   "source": [
    "np.array(x_train)[0].shape"
   ]
  },
  {
   "cell_type": "code",
   "execution_count": 18,
   "metadata": {},
   "outputs": [],
   "source": [
    "model=tf.keras.Sequential([\n",
    "    tf.keras.layers.Input(shape=[7],dtype=tf.float32),\n",
    "    tf.keras.layers.Dense(64,activation=\"relu\"),\n",
    "    tf.keras.layers.Dense(48,activation=\"relu\"),\n",
    "    tf.keras.layers.Dense(32,activation=\"relu\"),\n",
    "    tf.keras.layers.Dense(len(labels),activation=\"sigmoid\")\n",
    "])\n",
    "model.compile(optimizer=tf.optimizers.RMSprop(learning_rate=0.005),loss=tf.losses.CategoricalCrossentropy(),metrics=[tf.metrics.RootMeanSquaredError(),\"accuracy\"])"
   ]
  },
  {
   "cell_type": "code",
   "execution_count": 19,
   "metadata": {},
   "outputs": [
    {
     "name": "stdout",
     "output_type": "stream",
     "text": [
      "Epoch 1/50\n",
      "52/52 [==============================] - 2s 5ms/step - loss: 2.5197 - root_mean_squared_error: 0.5212 - accuracy: 0.4194\n",
      "Epoch 2/50\n",
      "52/52 [==============================] - 0s 5ms/step - loss: 0.8559 - root_mean_squared_error: 0.4526 - accuracy: 0.7152\n",
      "Epoch 3/50\n",
      "52/52 [==============================] - 0s 5ms/step - loss: 0.5465 - root_mean_squared_error: 0.4019 - accuracy: 0.8121\n",
      "Epoch 4/50\n",
      "52/52 [==============================] - 0s 5ms/step - loss: 0.4267 - root_mean_squared_error: 0.3672 - accuracy: 0.8436\n",
      "Epoch 5/50\n",
      "52/52 [==============================] - 1s 20ms/step - loss: 0.3745 - root_mean_squared_error: 0.3331 - accuracy: 0.8612\n",
      "Epoch 6/50\n",
      "52/52 [==============================] - 0s 7ms/step - loss: 0.3593 - root_mean_squared_error: 0.3040 - accuracy: 0.8764\n",
      "Epoch 7/50\n",
      "52/52 [==============================] - 0s 6ms/step - loss: 0.3232 - root_mean_squared_error: 0.2801 - accuracy: 0.8994\n",
      "Epoch 8/50\n",
      "52/52 [==============================] - 0s 5ms/step - loss: 0.3248 - root_mean_squared_error: 0.2524 - accuracy: 0.9018\n",
      "Epoch 9/50\n",
      "52/52 [==============================] - 0s 5ms/step - loss: 0.2637 - root_mean_squared_error: 0.2339 - accuracy: 0.9164\n",
      "Epoch 10/50\n",
      "52/52 [==============================] - 0s 5ms/step - loss: 0.2602 - root_mean_squared_error: 0.2132 - accuracy: 0.9133\n",
      "Epoch 11/50\n",
      "52/52 [==============================] - 0s 5ms/step - loss: 0.2429 - root_mean_squared_error: 0.2100 - accuracy: 0.9103\n",
      "Epoch 12/50\n",
      "52/52 [==============================] - 0s 5ms/step - loss: 0.2439 - root_mean_squared_error: 0.1953 - accuracy: 0.9158\n",
      "Epoch 13/50\n",
      "52/52 [==============================] - 0s 5ms/step - loss: 0.2121 - root_mean_squared_error: 0.1851 - accuracy: 0.9303\n",
      "Epoch 14/50\n",
      "52/52 [==============================] - 0s 5ms/step - loss: 0.2196 - root_mean_squared_error: 0.1844 - accuracy: 0.9291\n",
      "Epoch 15/50\n",
      "52/52 [==============================] - 0s 5ms/step - loss: 0.2825 - root_mean_squared_error: 0.1770 - accuracy: 0.9248\n",
      "Epoch 16/50\n",
      "52/52 [==============================] - 0s 5ms/step - loss: 0.2234 - root_mean_squared_error: 0.1729 - accuracy: 0.9297\n",
      "Epoch 17/50\n",
      "52/52 [==============================] - 0s 5ms/step - loss: 0.2222 - root_mean_squared_error: 0.1654 - accuracy: 0.9285\n",
      "Epoch 18/50\n",
      "52/52 [==============================] - 0s 5ms/step - loss: 0.2518 - root_mean_squared_error: 0.1511 - accuracy: 0.9315\n",
      "Epoch 19/50\n",
      "52/52 [==============================] - 0s 5ms/step - loss: 0.1780 - root_mean_squared_error: 0.1529 - accuracy: 0.9382\n",
      "Epoch 20/50\n",
      "52/52 [==============================] - 0s 5ms/step - loss: 0.2332 - root_mean_squared_error: 0.1511 - accuracy: 0.9261\n",
      "Epoch 21/50\n",
      "52/52 [==============================] - 0s 5ms/step - loss: 0.1766 - root_mean_squared_error: 0.1441 - accuracy: 0.9376\n",
      "Epoch 22/50\n",
      "52/52 [==============================] - 0s 5ms/step - loss: 0.2143 - root_mean_squared_error: 0.1443 - accuracy: 0.9327\n",
      "Epoch 23/50\n",
      "52/52 [==============================] - 0s 6ms/step - loss: 0.1701 - root_mean_squared_error: 0.1415 - accuracy: 0.9412\n",
      "Epoch 24/50\n",
      "52/52 [==============================] - 1s 22ms/step - loss: 0.2162 - root_mean_squared_error: 0.1443 - accuracy: 0.9321\n",
      "Epoch 25/50\n",
      "52/52 [==============================] - 2s 33ms/step - loss: 0.1925 - root_mean_squared_error: 0.1291 - accuracy: 0.9364\n",
      "Epoch 26/50\n",
      "52/52 [==============================] - 0s 9ms/step - loss: 0.1928 - root_mean_squared_error: 0.1289 - accuracy: 0.9418\n",
      "Epoch 27/50\n",
      "52/52 [==============================] - 0s 9ms/step - loss: 0.1832 - root_mean_squared_error: 0.1286 - accuracy: 0.9382\n",
      "Epoch 28/50\n",
      "52/52 [==============================] - 1s 10ms/step - loss: 0.1796 - root_mean_squared_error: 0.1273 - accuracy: 0.9388\n",
      "Epoch 29/50\n",
      "52/52 [==============================] - 0s 8ms/step - loss: 0.1808 - root_mean_squared_error: 0.1235 - accuracy: 0.9412\n",
      "Epoch 30/50\n",
      "52/52 [==============================] - 0s 8ms/step - loss: 0.1769 - root_mean_squared_error: 0.1402 - accuracy: 0.9370\n",
      "Epoch 31/50\n",
      "52/52 [==============================] - 0s 8ms/step - loss: 0.2113 - root_mean_squared_error: 0.1329 - accuracy: 0.9339\n",
      "Epoch 32/50\n",
      "52/52 [==============================] - 0s 7ms/step - loss: 0.1859 - root_mean_squared_error: 0.1276 - accuracy: 0.9473\n",
      "Epoch 33/50\n",
      "52/52 [==============================] - 0s 7ms/step - loss: 0.1942 - root_mean_squared_error: 0.1342 - accuracy: 0.9400\n",
      "Epoch 34/50\n",
      "52/52 [==============================] - 0s 7ms/step - loss: 0.1704 - root_mean_squared_error: 0.1212 - accuracy: 0.9376\n",
      "Epoch 35/50\n",
      "52/52 [==============================] - 0s 7ms/step - loss: 0.1810 - root_mean_squared_error: 0.1153 - accuracy: 0.9461\n",
      "Epoch 36/50\n",
      "52/52 [==============================] - 0s 7ms/step - loss: 0.1581 - root_mean_squared_error: 0.1186 - accuracy: 0.9497\n",
      "Epoch 37/50\n",
      "52/52 [==============================] - 0s 7ms/step - loss: 0.1434 - root_mean_squared_error: 0.1218 - accuracy: 0.9545\n",
      "Epoch 38/50\n",
      "52/52 [==============================] - 0s 6ms/step - loss: 0.1840 - root_mean_squared_error: 0.1278 - accuracy: 0.9412\n",
      "Epoch 39/50\n",
      "52/52 [==============================] - 0s 7ms/step - loss: 0.1782 - root_mean_squared_error: 0.1213 - accuracy: 0.9424\n",
      "Epoch 40/50\n",
      "52/52 [==============================] - 0s 7ms/step - loss: 0.1384 - root_mean_squared_error: 0.1266 - accuracy: 0.9497\n",
      "Epoch 41/50\n",
      "52/52 [==============================] - 0s 7ms/step - loss: 0.1841 - root_mean_squared_error: 0.1208 - accuracy: 0.9491\n",
      "Epoch 42/50\n",
      "52/52 [==============================] - 0s 7ms/step - loss: 0.1765 - root_mean_squared_error: 0.1186 - accuracy: 0.9503\n",
      "Epoch 43/50\n",
      "52/52 [==============================] - 0s 7ms/step - loss: 0.1770 - root_mean_squared_error: 0.1168 - accuracy: 0.9418\n",
      "Epoch 44/50\n",
      "52/52 [==============================] - 0s 7ms/step - loss: 0.1596 - root_mean_squared_error: 0.1141 - accuracy: 0.9485\n",
      "Epoch 45/50\n",
      "52/52 [==============================] - 0s 7ms/step - loss: 0.1876 - root_mean_squared_error: 0.1188 - accuracy: 0.9479\n",
      "Epoch 46/50\n",
      "52/52 [==============================] - 0s 7ms/step - loss: 0.1697 - root_mean_squared_error: 0.1158 - accuracy: 0.9442\n",
      "Epoch 47/50\n",
      "52/52 [==============================] - 0s 7ms/step - loss: 0.1977 - root_mean_squared_error: 0.1087 - accuracy: 0.9485\n",
      "Epoch 48/50\n",
      "52/52 [==============================] - 0s 7ms/step - loss: 0.1544 - root_mean_squared_error: 0.1205 - accuracy: 0.9485\n",
      "Epoch 49/50\n",
      "52/52 [==============================] - 0s 7ms/step - loss: 0.2056 - root_mean_squared_error: 0.1218 - accuracy: 0.9382\n",
      "Epoch 50/50\n",
      "52/52 [==============================] - 0s 7ms/step - loss: 0.1555 - root_mean_squared_error: 0.1213 - accuracy: 0.9539\n"
     ]
    },
    {
     "data": {
      "text/plain": [
       "<keras.callbacks.History at 0x2df02a59490>"
      ]
     },
     "execution_count": 19,
     "metadata": {},
     "output_type": "execute_result"
    }
   ],
   "source": [
    "model.fit(x_train,tf.one_hot(y_train,depth=len(labels)),epochs=50)"
   ]
  },
  {
   "cell_type": "code",
   "execution_count": 20,
   "metadata": {},
   "outputs": [
    {
     "name": "stdout",
     "output_type": "stream",
     "text": [
      "18/18 [==============================] - 0s 4ms/step - loss: 0.3498 - root_mean_squared_error: 0.1299 - accuracy: 0.9091\n"
     ]
    },
    {
     "data": {
      "text/plain": [
       "[0.3498033881187439, 0.1299189031124115, 0.9090909361839294]"
      ]
     },
     "execution_count": 20,
     "metadata": {},
     "output_type": "execute_result"
    }
   ],
   "source": [
    "model.evaluate(x_test,tf.one_hot(y_test,depth=len(labels)))"
   ]
  },
  {
   "cell_type": "code",
   "execution_count": 21,
   "metadata": {},
   "outputs": [
    {
     "name": "stdout",
     "output_type": "stream",
     "text": [
      "18/18 [==============================] - 0s 1ms/step\n"
     ]
    }
   ],
   "source": [
    "y_pred=tf.argmax(model.predict(x_test),axis=1)"
   ]
  },
  {
   "cell_type": "code",
   "execution_count": 22,
   "metadata": {},
   "outputs": [
    {
     "name": "stdout",
     "output_type": "stream",
     "text": [
      "1/1 [==============================] - 0s 54ms/step\n"
     ]
    },
    {
     "data": {
      "text/plain": [
       "0.9999832"
      ]
     },
     "execution_count": 22,
     "metadata": {},
     "output_type": "execute_result"
    }
   ],
   "source": [
    "model.predict(np.array(x_test)[0][np.newaxis,:]).sum()"
   ]
  },
  {
   "cell_type": "code",
   "execution_count": 23,
   "metadata": {},
   "outputs": [
    {
     "data": {
      "text/plain": [
       "(array([105.        ,  14.        ,  50.        ,  26.2148837 ,\n",
       "         87.6883982 ,   6.41905219,  59.65590798]),\n",
       " 'watermelon')"
      ]
     },
     "execution_count": 23,
     "metadata": {},
     "output_type": "execute_result"
    }
   ],
   "source": [
    "np.array(x_test)[0],labels[np.array(y_test)[0]]"
   ]
  },
  {
   "cell_type": "code",
   "execution_count": 24,
   "metadata": {},
   "outputs": [
    {
     "name": "stdout",
     "output_type": "stream",
     "text": [
      "[[19  0  0  0  0  0  0  0  0  0  0  0  0  0  0  0  0  0  0  0  0  0]\n",
      " [ 0 25  0  0  0  0  0  0  0  0  0  0  3  0  0  0  0  0  0  0  0  0]\n",
      " [ 0  0 19  0  0  0  0  0  0  0  0  0  0  0  0  0  0  8  0  0  0  0]\n",
      " [ 0  0  0 24  0  0  0  0  0  0  0  0  0  0  0  0  0  0  0  0  0  0]\n",
      " [ 0  0  0  0 27  0  0  0  0  0  0  0  0  0  0  0  0  0  0  0  0  0]\n",
      " [ 0  0  0  0  0 17  0  0  0  0  0  0  0  5  0  0  0  0  0  0  0  0]\n",
      " [ 0  5  0  1  0  0 20  0  0  0  0  0  0  0  0  0  0  0  0  0  2  0]\n",
      " [ 0  0  0  0  0  0  0 27  0  0  0  0  0  0  0  0  0  0  0  0  0  0]\n",
      " [ 0  0  0  0  0  0  0  0 24  0  0  0  0  0  0  0  0  0  0  0  0  0]\n",
      " [ 0  0  0  0  0  0  0  0  0 16  0  0  0  0  0  0  0  0  1  0  0  0]\n",
      " [ 0  0  4  0  0  0  0  0  0  0 19  0  0  0  0  2  0  0  4  0  0  0]\n",
      " [ 0  0  0  0  0  0  0  0  0  0  0 17  0  0  7  0  0  0  0  0  0  0]\n",
      " [ 0  3  0  0  0  0  0  0  0  0  0  0 26  0  0  0  0  0  0  0  0  0]\n",
      " [ 0  0  0  0  0  0  0  0  0  0  0  0  0 21  0  0  0  0  0  0  0  0]\n",
      " [ 0  0  0  0  0  0  0  0  0  0  0  0  0  0 24  0  0  0  0  0  0  0]\n",
      " [ 0  0  0  0  0  0  0  0  0  0  0  0  0  0  0 24  0  0  0  0  0  0]\n",
      " [ 0  0  0  0  0  0  0  0  0  0  0  0  0  0  0  0 24  0  0  0  0  0]\n",
      " [ 0  0  0  0  0  0  0  0  0  0  0  0  0  0  0  0  0 23  0  0  0  0]\n",
      " [ 0  0  0  0  0  4  0  0  0  1  0  0  0  0  0  0  0  0 21  0  0  0]\n",
      " [ 0  0  0  0  0  0  0  0  0  0  0  0  0  0  0  0  0  0  0 27  0  0]\n",
      " [ 0  0  0  0  0  0  0  0  0  0  0  0  0  0  0  0  0  0  0  0 28  0]\n",
      " [ 0  0  0  0  0  0  0  0  0  0  0  0  0  0  0  0  0  0  0  0  0 28]]\n"
     ]
    }
   ],
   "source": [
    "print(confusion_matrix(y_test,y_pred))"
   ]
  },
  {
   "cell_type": "code",
   "execution_count": 25,
   "metadata": {},
   "outputs": [],
   "source": [
    "# model.save(\"cR.h5\")"
   ]
  },
  {
   "cell_type": "code",
   "execution_count": 26,
   "metadata": {},
   "outputs": [],
   "source": [
    "# model2=tf.keras.models.load_model(\"cR.h5\")"
   ]
  },
  {
   "cell_type": "code",
   "execution_count": 27,
   "metadata": {},
   "outputs": [],
   "source": [
    "# y_pred=tf.argmax(model2.predict(x_test),axis=1)\n",
    "# print(confusion_matrix(y_test,y_pred))"
   ]
  },
  {
   "cell_type": "code",
   "execution_count": 28,
   "metadata": {},
   "outputs": [],
   "source": [
    "# import tensorflowjs as tfjs"
   ]
  },
  {
   "cell_type": "code",
   "execution_count": 29,
   "metadata": {},
   "outputs": [],
   "source": [
    "# tfjs.converters.save_keras_model(model,\"./Model/\")"
   ]
  },
  {
   "cell_type": "code",
   "execution_count": 30,
   "metadata": {},
   "outputs": [],
   "source": [
    "# a=[1,2,0]\n",
    "# tf.one_hot(a,3)"
   ]
  }
 ],
 "metadata": {
  "kernelspec": {
   "display_name": "base",
   "language": "python",
   "name": "python3"
  },
  "language_info": {
   "codemirror_mode": {
    "name": "ipython",
    "version": 3
   },
   "file_extension": ".py",
   "mimetype": "text/x-python",
   "name": "python",
   "nbconvert_exporter": "python",
   "pygments_lexer": "ipython3",
   "version": "3.9.16"
  },
  "orig_nbformat": 4,
  "vscode": {
   "interpreter": {
    "hash": "c19b36fe549fe2dce1ac32d0dd317d0a363043eb1c14a547f46436cb05190cdf"
   }
  }
 },
 "nbformat": 4,
 "nbformat_minor": 2
}
