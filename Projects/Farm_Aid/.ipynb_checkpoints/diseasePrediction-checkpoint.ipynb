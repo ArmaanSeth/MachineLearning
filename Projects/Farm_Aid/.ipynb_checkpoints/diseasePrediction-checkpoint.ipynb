{
 "cells": [
  {
   "cell_type": "code",
   "execution_count": 1,
   "metadata": {},
   "outputs": [],
   "source": [
    "import numpy as np\n",
    "import pandas as pd\n",
    "import matplotlib.pyplot as plt\n",
    "import os\n",
    "import imageio as iio"
   ]
  },
  {
   "cell_type": "code",
   "execution_count": 2,
   "metadata": {},
   "outputs": [],
   "source": [
    "classes=[\"healthy apple\",\"apple black rot\",\"apple cedar rust\",\"apple scab\",\n",
    "         \"healthy blueberry\",\n",
    "         \"healthy cherry\",\"cherry powdery mildew\",\n",
    "         \"healthy corn\",\"corn cercospora leaf spot\",\"corn common rust\",\"northern corn leaf blight\",\n",
    "         \"healthy grape\",\"grape black rot\",\"grape esca / black measles\",\"grape leaf blight / Isariopsis leaf spot\",\n",
    "         \"orange haunglongbing / citrus greening\",\n",
    "         \"healthy peach\",\"peach bacterial spot\",\n",
    "         \"healthy pepperbell\",\"pepper bell bacterial spot\",\n",
    "         \"healthy potato\",\"potato early blight\",\"potato late blight\",\n",
    "         \"healthy rasberry\",\n",
    "         \"healthy soybean\",\n",
    "         \"squash powdery mildew\",\n",
    "         \"healthy strawberry\",\"strawberry leaf scorch\",\n",
    "         \"healthy tomato\",\"tomato bacterial spot\",\"tomato early blight\",\"tomato late blight\",\"tomato leaf mold\",\"tomato mosaic virus\",\"tomato septoria leaf spot\",\"tomato spider mites\",\"tomato target spot\",\"tomato yellow leaf curl virus\"]"
   ]
  },
  {
   "cell_type": "code",
   "execution_count": null,
   "metadata": {},
   "outputs": [],
   "source": [
    "len(classes)"
   ]
  },
  {
   "cell_type": "code",
   "execution_count": 5,
   "metadata": {},
   "outputs": [],
   "source": [
    "root=\"C:/Users/Armaan/OneDrive/Desktop/Workspace/Machine_Learning/Datasets/farmAid/cropDisease/trainVal/train/\""
   ]
  },
  {
   "cell_type": "code",
   "execution_count": 4,
   "metadata": {},
   "outputs": [
    {
     "name": "stderr",
     "output_type": "stream",
     "text": [
      "C:\\Users\\Armaan\\AppData\\Local\\Temp\\ipykernel_16476\\2164449682.py:19: DeprecationWarning: Starting with ImageIO v3 the behavior of this function will switch to that of iio.v3.imread. To keep the current behavior (and make this warning dissapear) use `import imageio.v2 as imageio` or call `imageio.v2.imread` directly.\n",
      "  xTrain.append(iio.imread(imgPath))\n",
      "C:\\Users\\Armaan\\AppData\\Local\\Temp\\ipykernel_16476\\2164449682.py:23: DeprecationWarning: Starting with ImageIO v3 the behavior of this function will switch to that of iio.v3.imread. To keep the current behavior (and make this warning dissapear) use `import imageio.v2 as imageio` or call `imageio.v2.imread` directly.\n",
      "  xTest.append(iio.imread(imgPath))\n",
      "C:\\Users\\Armaan\\AppData\\Local\\Temp\\ipykernel_16476\\2164449682.py:26: DeprecationWarning: Starting with ImageIO v3 the behavior of this function will switch to that of iio.v3.imread. To keep the current behavior (and make this warning dissapear) use `import imageio.v2 as imageio` or call `imageio.v2.imread` directly.\n",
      "  xVal.append(iio.imread(imgPath))\n"
     ]
    }
   ],
   "source": [
    "n=0\n",
    "xTrain=[]\n",
    "yTrain=[]\n",
    "xTest=[]\n",
    "yTest=[]\n",
    "xVal=[]\n",
    "yVal=[]\n",
    "dirNames=os.listdir(root)\n",
    "for dirName in dirNames:\n",
    "    dirPath=root+dirName+\"/\"\n",
    "    subclasses=os.listdir(dirPath)\n",
    "    for subclass in subclasses:\n",
    "        path=dirPath+subclass+\"/\"\n",
    "        imgs=os.listdir(path)\n",
    "        k=0\n",
    "        for img in imgs:\n",
    "            imgPath=path+img\n",
    "            if k<500:\n",
    "                xTrain.append(iio.imread(imgPath))\n",
    "                yTrain.append(n)\n",
    "            else:\n",
    "                if k<600:\n",
    "                    xTest.append(iio.imread(imgPath))\n",
    "                    yTest.append(n)\n",
    "                elif k<650:\n",
    "                    xVal.append(iio.imread(imgPath))\n",
    "                    yVal.append(n)\n",
    "                else:\n",
    "                    break\n",
    "            k+=1\n",
    "        n+=1"
   ]
  },
  {
   "cell_type": "code",
   "execution_count": null,
   "metadata": {},
   "outputs": [],
   "source": [
    "xTrain=np.array(xTrain)/255\n",
    "yTrain=np.array(yTrain)"
   ]
  },
  {
   "cell_type": "code",
   "execution_count": null,
   "metadata": {},
   "outputs": [],
   "source": [
    "xTest=np.array(xTest)/255\n",
    "yTest=np.array(yTest)"
   ]
  },
  {
   "cell_type": "code",
   "execution_count": null,
   "metadata": {},
   "outputs": [],
   "source": [
    "xVal=np.array(xVal)/255\n",
    "yVal=np.array(yVal)"
   ]
  },
  {
   "cell_type": "code",
   "execution_count": null,
   "metadata": {},
   "outputs": [],
   "source": [
    "xVal[0].shape"
   ]
  },
  {
   "cell_type": "code",
   "execution_count": null,
   "metadata": {},
   "outputs": [],
   "source": [
    "import tensorflow as tf"
   ]
  },
  {
   "cell_type": "code",
   "execution_count": null,
   "metadata": {},
   "outputs": [],
   "source": [
    "model=tf.keras.Sequential([\n",
    "    tf.keras.layers.Conv2D(32,(3,3),activation=\"relu\",input_shape=(256,256,3)),\n",
    "    tf.keras.layers.MaxPooling2D((2,2)),\n",
    "    tf.keras.layers.Conv2D(64,(3,3),activation=\"relu\"),\n",
    "    tf.keras.layers.MaxPooling2D((2,2)),\n",
    "    tf.keras.layers.Conv2D(64,(3,3),activation=\"relu\"),\n",
    "    tf.keras.layers.MaxPooling2D((2,2)),\n",
    "    tf.keras.layers.Flatten(),\n",
    "    tf.keras.layers.Dense(128,activation=\"relu\"),\n",
    "    tf.keras.layers.Dense(64,activation=\"relu\"),\n",
    "    tf.keras.layers.Dense(38,activation=\"softmax\")\n",
    "])\n",
    "model.compile(optimizer=tf.optimizers.Adam(),loss=tf.losses.CategoricalCrossentropy(),metrics=[tf.metrics.RootMeanSquaredError(),\"accuracy\"])"
   ]
  },
  {
   "cell_type": "code",
   "execution_count": null,
   "metadata": {},
   "outputs": [],
   "source": [
    "model.fit(xTrain,tf.one_hot(yTrain,depth=38),shuffle=True,validation_data=(xVal,tf.one_hot(yVal,depth=38)),epochs=5,batch_size=32)"
   ]
  },
  {
   "cell_type": "code",
   "execution_count": null,
   "metadata": {},
   "outputs": [],
   "source": [
    "model.save(\"DP_Model3\")"
   ]
  },
  {
   "cell_type": "code",
   "execution_count": null,
   "metadata": {},
   "outputs": [],
   "source": [
    "model2=tf.keras.models.load_model(\"DP_Model2.h5\")"
   ]
  },
  {
   "cell_type": "code",
   "execution_count": null,
   "metadata": {},
   "outputs": [],
   "source": [
    "model2.summary()"
   ]
  },
  {
   "cell_type": "code",
   "execution_count": null,
   "metadata": {},
   "outputs": [],
   "source": [
    "model2.evaluate(xTest,tf.one_hot(yTest,depth=n))"
   ]
  },
  {
   "cell_type": "code",
   "execution_count": null,
   "metadata": {},
   "outputs": [],
   "source": [
    "model2.fit(xTrain,tf.one_hot(yTrain,depth=38),shuffle=True,validation_data=(xVal,tf.one_hot(yVal,depth=38)),epochs=5)"
   ]
  },
  {
   "cell_type": "code",
   "execution_count": null,
   "metadata": {},
   "outputs": [],
   "source": [
    "model2.evaluate(xTest,tf.one_hot(yTest,depth=n))"
   ]
  },
  {
   "cell_type": "code",
   "execution_count": null,
   "metadata": {},
   "outputs": [],
   "source": [
    "model1=tf.keras.models.load_model(\"DP_Model1.h5\")"
   ]
  },
  {
   "cell_type": "code",
   "execution_count": null,
   "metadata": {},
   "outputs": [],
   "source": [
    "yPred=model1.predict(xTest)"
   ]
  },
  {
   "cell_type": "code",
   "execution_count": null,
   "metadata": {},
   "outputs": [],
   "source": [
    "y_pred=yPred"
   ]
  },
  {
   "cell_type": "code",
   "execution_count": null,
   "metadata": {},
   "outputs": [],
   "source": [
    "y_pred=np.argmax(y_pred,axis=1)\n",
    "y_pred"
   ]
  },
  {
   "cell_type": "code",
   "execution_count": null,
   "metadata": {},
   "outputs": [],
   "source": [
    "y_pred.shape"
   ]
  },
  {
   "cell_type": "code",
   "execution_count": null,
   "metadata": {},
   "outputs": [],
   "source": [
    "k=0\n",
    "for i in range(y_pred.shape[0]):\n",
    "    if y_pred[i]==yTest[i]:\n",
    "        k+=1\n",
    "k/3800"
   ]
  },
  {
   "cell_type": "code",
   "execution_count": null,
   "metadata": {},
   "outputs": [],
   "source": [
    "model3=tf.keras.load"
   ]
  }
 ],
 "metadata": {
  "kernelspec": {
   "display_name": "Python 3 (ipykernel)",
   "language": "python",
   "name": "python3"
  },
  "language_info": {
   "codemirror_mode": {
    "name": "ipython",
    "version": 3
   },
   "file_extension": ".py",
   "mimetype": "text/x-python",
   "name": "python",
   "nbconvert_exporter": "python",
   "pygments_lexer": "ipython3",
   "version": "3.9.16"
  }
 },
 "nbformat": 4,
 "nbformat_minor": 2
}
