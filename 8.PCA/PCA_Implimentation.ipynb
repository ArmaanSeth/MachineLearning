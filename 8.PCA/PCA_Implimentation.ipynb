{
 "cells": [
  {
   "cell_type": "code",
   "execution_count": 15,
   "metadata": {},
   "outputs": [],
   "source": [
    "import numpy as np\n",
    "import matplotlib.pyplot as plt\n",
    "from sklearn.decomposition import PCA"
   ]
  },
  {
   "cell_type": "code",
   "execution_count": 16,
   "metadata": {},
   "outputs": [],
   "source": [
    "np.random.seed(2343243)"
   ]
  },
  {
   "cell_type": "code",
   "execution_count": 17,
   "metadata": {},
   "outputs": [],
   "source": [
    "mean_vec1=np.array([0,0,0])\n",
    "cov_mat1=np.array([[1,0,0],[0,1,0],[0,0,1]])\n",
    "class1=np.random.multivariate_normal(mean_vec1,cov_mat1,100)"
   ]
  },
  {
   "cell_type": "code",
   "execution_count": 18,
   "metadata": {},
   "outputs": [],
   "source": [
    "mean_vec2=np.array([1,1,1])\n",
    "cov_mat2=np.array([[1,0,0],[0,1,0],[0,0,1]])\n",
    "class2=np.random.multivariate_normal(mean_vec2,cov_mat2,100)"
   ]
  },
  {
   "cell_type": "code",
   "execution_count": 20,
   "metadata": {},
   "outputs": [],
   "source": [
    "all_data=np.concatenate((class1,class2))"
   ]
  },
  {
   "cell_type": "code",
   "execution_count": 25,
   "metadata": {},
   "outputs": [
    {
     "data": {
      "text/plain": [
       "array([[1.14139998, 0.1061989 , 0.0918139 ],\n",
       "       [0.1061989 , 1.11579657, 0.27166986],\n",
       "       [0.0918139 , 0.27166986, 1.11826602]])"
      ]
     },
     "execution_count": 25,
     "metadata": {},
     "output_type": "execute_result"
    }
   ],
   "source": [
    "all_data_t=all_data.T\n",
    "cov=np.cov(all_data_t)\n",
    "cov"
   ]
  },
  {
   "cell_type": "code",
   "execution_count": null,
   "metadata": {},
   "outputs": [
    {
     "data": {
      "text/plain": [
       "array([[1.14139998, 0.1061989 , 0.0918139 ],\n",
       "       [0.1061989 , 1.11579657, 0.27166986],\n",
       "       [0.0918139 , 0.27166986, 1.11826602]])"
      ]
     },
     "metadata": {},
     "output_type": "display_data"
    }
   ],
   "source": [
    "all_data_t=all_data.T\n",
    "cov=np.cov(all_data_t)\n",
    "cov"
   ]
  },
  {
   "cell_type": "code",
   "execution_count": null,
   "metadata": {},
   "outputs": [
    {
     "data": {
      "text/plain": [
       "array([[1.14139998, 0.1061989 , 0.0918139 ],\n",
       "       [0.1061989 , 1.11579657, 0.27166986],\n",
       "       [0.0918139 , 0.27166986, 1.11826602]])"
      ]
     },
     "metadata": {},
     "output_type": "display_data"
    }
   ],
   "source": [
    "all_data_t=all_data.T\n",
    "cov=np.cov(all_data_t)\n",
    "cov"
   ]
  },
  {
   "cell_type": "code",
   "execution_count": null,
   "metadata": {},
   "outputs": [
    {
     "data": {
      "text/plain": [
       "array([[1.14139998, 0.1061989 , 0.0918139 ],\n",
       "       [0.1061989 , 1.11579657, 0.27166986],\n",
       "       [0.0918139 , 0.27166986, 1.11826602]])"
      ]
     },
     "metadata": {},
     "output_type": "display_data"
    }
   ],
   "source": [
    "all_data_t=all_data.T\n",
    "cov=np.cov(all_data_t)\n",
    "cov"
   ]
  },
  {
   "cell_type": "code",
   "execution_count": null,
   "metadata": {},
   "outputs": [
    {
     "data": {
      "text/plain": [
       "array([[1.14139998, 0.1061989 , 0.0918139 ],\n",
       "       [0.1061989 , 1.11579657, 0.27166986],\n",
       "       [0.0918139 , 0.27166986, 1.11826602]])"
      ]
     },
     "metadata": {},
     "output_type": "display_data"
    }
   ],
   "source": [
    "all_data_t=all_data.T\n",
    "cov=np.cov(all_data_t)\n",
    "cov"
   ]
  },
  {
   "cell_type": "code",
   "execution_count": null,
   "metadata": {},
   "outputs": [
    {
     "data": {
      "text/plain": [
       "array([[1.14139998, 0.1061989 , 0.0918139 ],\n",
       "       [0.1061989 , 1.11579657, 0.27166986],\n",
       "       [0.0918139 , 0.27166986, 1.11826602]])"
      ]
     },
     "metadata": {},
     "output_type": "display_data"
    }
   ],
   "source": [
    "all_data_t=all_data.T\n",
    "cov=np.cov(all_data_t)\n",
    "cov"
   ]
  },
  {
   "cell_type": "code",
   "execution_count": null,
   "metadata": {},
   "outputs": [
    {
     "data": {
      "text/plain": [
       "array([[1.14139998, 0.1061989 , 0.0918139 ],\n",
       "       [0.1061989 , 1.11579657, 0.27166986],\n",
       "       [0.0918139 , 0.27166986, 1.11826602]])"
      ]
     },
     "metadata": {},
     "output_type": "display_data"
    }
   ],
   "source": [
    "all_data_t=all_data.T\n",
    "cov=np.cov(all_data_t)\n",
    "cov"
   ]
  },
  {
   "cell_type": "code",
   "execution_count": 27,
   "metadata": {},
   "outputs": [],
   "source": [
    "eig_val,eig_vec=np.linalg.eig(cov)# eigen vector is column wise"
   ]
  },
  {
   "cell_type": "code",
   "execution_count": 36,
   "metadata": {},
   "outputs": [
    {
     "data": {
      "text/plain": [
       "[(1.451865341735929, array([0.41124564, 0.64810013, 0.64097055])),\n",
       " (1.0786611401978592, array([ 0.91063567, -0.26106644, -0.32029202])),\n",
       " (0.8449360955327045, array([ 0.0402454 , -0.71540934,  0.69754554]))]"
      ]
     },
     "execution_count": 36,
     "metadata": {},
     "output_type": "execute_result"
    }
   ],
   "source": [
    "eig_val_vec_pair=[]\n",
    "for i in range(len(eig_val)):\n",
    "    eig_v=eig_vec[:,i]\n",
    "    eig_val_vec_pair.append((eig_val[i],eig_v))\n",
    "eig_val_vec_pair.sort(reverse=True)\n",
    "eig_val_vec_pair"
   ]
  },
  {
   "cell_type": "code",
   "execution_count": 32,
   "metadata": {},
   "outputs": [
    {
     "data": {
      "text/plain": [
       "array([[ 0.41124564,  0.64810013,  0.64097055],\n",
       "       [ 0.91063567, -0.26106644, -0.32029202]])"
      ]
     },
     "execution_count": 32,
     "metadata": {},
     "output_type": "execute_result"
    }
   ],
   "source": [
    "pca.components_"
   ]
  },
  {
   "cell_type": "code",
   "execution_count": 35,
   "metadata": {},
   "outputs": [
    {
     "data": {
      "text/plain": [
       "array([1.45186534, 1.07866114])"
      ]
     },
     "execution_count": 35,
     "metadata": {},
     "output_type": "execute_result"
    }
   ],
   "source": [
    "pca.explained_variance_"
   ]
  }
 ],
 "metadata": {
  "kernelspec": {
   "display_name": "Python 3.9.12 ('base')",
   "language": "python",
   "name": "python3"
  },
  "language_info": {
   "codemirror_mode": {
    "name": "ipython",
    "version": 3
   },
   "file_extension": ".py",
   "mimetype": "text/x-python",
   "name": "python",
   "nbconvert_exporter": "python",
   "pygments_lexer": "ipython3",
   "version": "3.9.12"
  },
  "orig_nbformat": 4,
  "vscode": {
   "interpreter": {
    "hash": "c19b36fe549fe2dce1ac32d0dd317d0a363043eb1c14a547f46436cb05190cdf"
   }
  }
 },
 "nbformat": 4,
 "nbformat_minor": 2
}
