{
 "cells": [
  {
   "cell_type": "code",
   "execution_count": 17,
   "metadata": {},
   "outputs": [],
   "source": [
    "from sklearn.datasets import load_iris\n",
    "from sklearn.svm import SVC\n",
    "from sklearn.model_selection import train_test_split,GridSearchCV\n",
    "from sklearn.neighbors import KNeighborsClassifier"
   ]
  },
  {
   "cell_type": "code",
   "execution_count": 18,
   "metadata": {},
   "outputs": [],
   "source": [
    "iris=load_iris()\n",
    "x=iris.data\n",
    "y=iris.target"
   ]
  },
  {
   "cell_type": "code",
   "execution_count": 19,
   "metadata": {},
   "outputs": [],
   "source": [
    "x_train,x_test,y_train,y_test=train_test_split(x,y)"
   ]
  },
  {
   "cell_type": "code",
   "execution_count": 20,
   "metadata": {},
   "outputs": [
    {
     "data": {
      "text/plain": [
       "GridSearchCV(estimator=KNeighborsClassifier(),\n",
       "             param_grid={'n_neighbors': [3, 5, 7, 9, 11]})"
      ]
     },
     "execution_count": 20,
     "metadata": {},
     "output_type": "execute_result"
    }
   ],
   "source": [
    "clf=KNeighborsClassifier()\n",
    "grid={\"n_neighbors\":[3,5,7,9,11]}\n",
    "abc=GridSearchCV(clf,grid)\n",
    "abc.fit(x_train,y_train)"
   ]
  },
  {
   "cell_type": "code",
   "execution_count": 21,
   "metadata": {},
   "outputs": [
    {
     "data": {
      "text/plain": [
       "KNeighborsClassifier()"
      ]
     },
     "execution_count": 21,
     "metadata": {},
     "output_type": "execute_result"
    }
   ],
   "source": [
    "abc.best_estimator_"
   ]
  },
  {
   "cell_type": "code",
   "execution_count": 22,
   "metadata": {},
   "outputs": [
    {
     "data": {
      "text/plain": [
       "{'mean_fit_time': array([0.        , 0.        , 0.        , 0.00160007, 0.        ]),\n",
       " 'std_fit_time': array([0.        , 0.        , 0.        , 0.00320015, 0.        ]),\n",
       " 'mean_score_time': array([0.00160003, 0.00160613, 0.00160036, 0.00159998, 0.00160556]),\n",
       " 'std_score_time': array([0.00320005, 0.00321226, 0.00320072, 0.00319996, 0.00321112]),\n",
       " 'param_n_neighbors': masked_array(data=[3, 5, 7, 9, 11],\n",
       "              mask=[False, False, False, False, False],\n",
       "        fill_value='?',\n",
       "             dtype=object),\n",
       " 'params': [{'n_neighbors': 3},\n",
       "  {'n_neighbors': 5},\n",
       "  {'n_neighbors': 7},\n",
       "  {'n_neighbors': 9},\n",
       "  {'n_neighbors': 11}],\n",
       " 'split0_test_score': array([0.95652174, 1.        , 1.        , 1.        , 1.        ]),\n",
       " 'split1_test_score': array([1., 1., 1., 1., 1.]),\n",
       " 'split2_test_score': array([0.95454545, 1.        , 1.        , 1.        , 1.        ]),\n",
       " 'split3_test_score': array([1., 1., 1., 1., 1.]),\n",
       " 'split4_test_score': array([0.90909091, 0.95454545, 0.95454545, 0.90909091, 0.90909091]),\n",
       " 'mean_test_score': array([0.96403162, 0.99090909, 0.99090909, 0.98181818, 0.98181818]),\n",
       " 'std_test_score': array([0.03391848, 0.01818182, 0.01818182, 0.03636364, 0.03636364]),\n",
       " 'rank_test_score': array([5, 1, 1, 3, 3])}"
      ]
     },
     "execution_count": 22,
     "metadata": {},
     "output_type": "execute_result"
    }
   ],
   "source": [
    "abc.cv_results_"
   ]
  },
  {
   "cell_type": "code",
   "execution_count": 24,
   "metadata": {},
   "outputs": [
    {
     "data": {
      "text/plain": [
       "GridSearchCV(estimator=SVC(),\n",
       "             param_grid={'C': [100.0, 1000.0, 5000.0, 10000.0, 50000.0,\n",
       "                               100000.0],\n",
       "                         'gamma': [0.001, 0.0005, 0.0001, 0.005]})"
      ]
     },
     "execution_count": 24,
     "metadata": {},
     "output_type": "execute_result"
    }
   ],
   "source": [
    "clf=SVC()\n",
    "grid={'C':[1e2,1e3,5e3,1e4,5e4,1e5],\"gamma\":[1e-3,5e-4,1e-4,5e-3]}\n",
    "abc=GridSearchCV(clf,grid)\n",
    "abc.fit(x_train,y_train)"
   ]
  },
  {
   "cell_type": "code",
   "execution_count": 25,
   "metadata": {},
   "outputs": [
    {
     "data": {
      "text/plain": [
       "SVC(C=100.0, gamma=0.005)"
      ]
     },
     "execution_count": 25,
     "metadata": {},
     "output_type": "execute_result"
    }
   ],
   "source": [
    "abc.best_estimator_"
   ]
  },
  {
   "cell_type": "code",
   "execution_count": 26,
   "metadata": {},
   "outputs": [
    {
     "data": {
      "text/plain": [
       "{'mean_fit_time': array([0.00159736, 0.00159974, 0.00159969, 0.00159988, 0.00160241,\n",
       "        0.00160398, 0.00160007, 0.        , 0.00159335, 0.00159974,\n",
       "        0.00160713, 0.        , 0.        , 0.        , 0.        ,\n",
       "        0.        , 0.        , 0.        , 0.        , 0.        ,\n",
       "        0.        , 0.        , 0.00160675, 0.        ]),\n",
       " 'std_fit_time': array([0.00319471, 0.00319948, 0.00319939, 0.00319977, 0.00320482,\n",
       "        0.00320797, 0.00320015, 0.        , 0.0031867 , 0.00319948,\n",
       "        0.00321426, 0.        , 0.        , 0.        , 0.        ,\n",
       "        0.        , 0.        , 0.        , 0.        , 0.        ,\n",
       "        0.        , 0.        , 0.0032135 , 0.        ]),\n",
       " 'mean_score_time': array([0.        , 0.        , 0.        , 0.        , 0.        ,\n",
       "        0.        , 0.00160031, 0.        , 0.        , 0.        ,\n",
       "        0.        , 0.        , 0.        , 0.00160661, 0.        ,\n",
       "        0.        , 0.        , 0.        , 0.        , 0.00162382,\n",
       "        0.        , 0.        , 0.        , 0.        ]),\n",
       " 'std_score_time': array([0.        , 0.        , 0.        , 0.        , 0.        ,\n",
       "        0.        , 0.00320063, 0.        , 0.        , 0.        ,\n",
       "        0.        , 0.        , 0.        , 0.00321321, 0.        ,\n",
       "        0.        , 0.        , 0.        , 0.        , 0.00324764,\n",
       "        0.        , 0.        , 0.        , 0.        ]),\n",
       " 'param_C': masked_array(data=[100.0, 100.0, 100.0, 100.0, 1000.0, 1000.0, 1000.0,\n",
       "                    1000.0, 5000.0, 5000.0, 5000.0, 5000.0, 10000.0,\n",
       "                    10000.0, 10000.0, 10000.0, 50000.0, 50000.0, 50000.0,\n",
       "                    50000.0, 100000.0, 100000.0, 100000.0, 100000.0],\n",
       "              mask=[False, False, False, False, False, False, False, False,\n",
       "                    False, False, False, False, False, False, False, False,\n",
       "                    False, False, False, False, False, False, False, False],\n",
       "        fill_value='?',\n",
       "             dtype=object),\n",
       " 'param_gamma': masked_array(data=[0.001, 0.0005, 0.0001, 0.005, 0.001, 0.0005, 0.0001,\n",
       "                    0.005, 0.001, 0.0005, 0.0001, 0.005, 0.001, 0.0005,\n",
       "                    0.0001, 0.005, 0.001, 0.0005, 0.0001, 0.005, 0.001,\n",
       "                    0.0005, 0.0001, 0.005],\n",
       "              mask=[False, False, False, False, False, False, False, False,\n",
       "                    False, False, False, False, False, False, False, False,\n",
       "                    False, False, False, False, False, False, False, False],\n",
       "        fill_value='?',\n",
       "             dtype=object),\n",
       " 'params': [{'C': 100.0, 'gamma': 0.001},\n",
       "  {'C': 100.0, 'gamma': 0.0005},\n",
       "  {'C': 100.0, 'gamma': 0.0001},\n",
       "  {'C': 100.0, 'gamma': 0.005},\n",
       "  {'C': 1000.0, 'gamma': 0.001},\n",
       "  {'C': 1000.0, 'gamma': 0.0005},\n",
       "  {'C': 1000.0, 'gamma': 0.0001},\n",
       "  {'C': 1000.0, 'gamma': 0.005},\n",
       "  {'C': 5000.0, 'gamma': 0.001},\n",
       "  {'C': 5000.0, 'gamma': 0.0005},\n",
       "  {'C': 5000.0, 'gamma': 0.0001},\n",
       "  {'C': 5000.0, 'gamma': 0.005},\n",
       "  {'C': 10000.0, 'gamma': 0.001},\n",
       "  {'C': 10000.0, 'gamma': 0.0005},\n",
       "  {'C': 10000.0, 'gamma': 0.0001},\n",
       "  {'C': 10000.0, 'gamma': 0.005},\n",
       "  {'C': 50000.0, 'gamma': 0.001},\n",
       "  {'C': 50000.0, 'gamma': 0.0005},\n",
       "  {'C': 50000.0, 'gamma': 0.0001},\n",
       "  {'C': 50000.0, 'gamma': 0.005},\n",
       "  {'C': 100000.0, 'gamma': 0.001},\n",
       "  {'C': 100000.0, 'gamma': 0.0005},\n",
       "  {'C': 100000.0, 'gamma': 0.0001},\n",
       "  {'C': 100000.0, 'gamma': 0.005}],\n",
       " 'split0_test_score': array([0.91304348, 0.91304348, 0.86956522, 1.        , 1.        ,\n",
       "        1.        , 0.91304348, 1.        , 1.        , 1.        ,\n",
       "        1.        , 1.        , 1.        , 1.        , 1.        ,\n",
       "        1.        , 1.        , 1.        , 1.        , 0.95652174,\n",
       "        1.        , 1.        , 1.        , 0.95652174]),\n",
       " 'split1_test_score': array([1.        , 1.        , 0.95652174, 1.        , 1.        ,\n",
       "        1.        , 1.        , 1.        , 1.        , 1.        ,\n",
       "        1.        , 1.        , 1.        , 1.        , 1.        ,\n",
       "        1.        , 1.        , 1.        , 1.        , 1.        ,\n",
       "        1.        , 1.        , 1.        , 1.        ]),\n",
       " 'split2_test_score': array([1.        , 0.95454545, 0.81818182, 1.        , 0.95454545,\n",
       "        1.        , 1.        , 0.95454545, 0.95454545, 0.95454545,\n",
       "        1.        , 0.95454545, 0.95454545, 0.95454545, 0.95454545,\n",
       "        0.95454545, 0.95454545, 0.95454545, 0.95454545, 0.95454545,\n",
       "        0.95454545, 0.95454545, 0.95454545, 0.95454545]),\n",
       " 'split3_test_score': array([1.        , 0.95454545, 0.95454545, 0.95454545, 1.        ,\n",
       "        0.95454545, 1.        , 1.        , 1.        , 1.        ,\n",
       "        0.95454545, 1.        , 1.        , 1.        , 1.        ,\n",
       "        0.95454545, 0.95454545, 1.        , 1.        , 0.95454545,\n",
       "        0.95454545, 0.95454545, 1.        , 0.95454545]),\n",
       " 'split4_test_score': array([0.90909091, 0.90909091, 0.90909091, 0.90909091, 0.90909091,\n",
       "        0.90909091, 0.90909091, 0.90909091, 0.90909091, 0.90909091,\n",
       "        0.90909091, 0.90909091, 0.90909091, 0.90909091, 0.90909091,\n",
       "        0.90909091, 0.90909091, 0.90909091, 0.90909091, 0.90909091,\n",
       "        0.90909091, 0.90909091, 0.90909091, 0.90909091]),\n",
       " 'mean_test_score': array([0.96442688, 0.94624506, 0.90158103, 0.97272727, 0.97272727,\n",
       "        0.97272727, 0.96442688, 0.97272727, 0.97272727, 0.97272727,\n",
       "        0.97272727, 0.97272727, 0.97272727, 0.97272727, 0.97272727,\n",
       "        0.96363636, 0.96363636, 0.97272727, 0.97272727, 0.95494071,\n",
       "        0.96363636, 0.96363636, 0.97272727, 0.95494071]),\n",
       " 'std_test_score': array([0.04358592, 0.03319688, 0.05265083, 0.03636364, 0.03636364,\n",
       "        0.03636364, 0.04358592, 0.03636364, 0.03636364, 0.03636364,\n",
       "        0.03636364, 0.03636364, 0.03636364, 0.03636364, 0.03636364,\n",
       "        0.03401507, 0.03401507, 0.03636364, 0.03636364, 0.02875885,\n",
       "        0.03401507, 0.03401507, 0.03636364, 0.02875885]),\n",
       " 'rank_test_score': array([15, 23, 24,  1,  1,  1, 15,  1,  1,  1,  1,  1,  1,  1,  1, 17, 17,\n",
       "         1,  1, 21, 17, 17,  1, 21])}"
      ]
     },
     "execution_count": 26,
     "metadata": {},
     "output_type": "execute_result"
    }
   ],
   "source": [
    "abc.cv_results_"
   ]
  }
 ],
 "metadata": {
  "kernelspec": {
   "display_name": "Python 3.9.12 ('base')",
   "language": "python",
   "name": "python3"
  },
  "language_info": {
   "codemirror_mode": {
    "name": "ipython",
    "version": 3
   },
   "file_extension": ".py",
   "mimetype": "text/x-python",
   "name": "python",
   "nbconvert_exporter": "python",
   "pygments_lexer": "ipython3",
   "version": "3.9.12"
  },
  "orig_nbformat": 4,
  "vscode": {
   "interpreter": {
    "hash": "c19b36fe549fe2dce1ac32d0dd317d0a363043eb1c14a547f46436cb05190cdf"
   }
  }
 },
 "nbformat": 4,
 "nbformat_minor": 2
}
