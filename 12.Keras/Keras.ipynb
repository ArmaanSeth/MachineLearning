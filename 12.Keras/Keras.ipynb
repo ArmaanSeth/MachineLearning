{
 "cells": [
  {
   "cell_type": "code",
   "execution_count": 6,
   "metadata": {},
   "outputs": [],
   "source": [
    "from keras.models import Sequential\n",
    "from keras.layers import Dense"
   ]
  },
  {
   "cell_type": "code",
   "execution_count": 5,
   "metadata": {},
   "outputs": [],
   "source": [
    "#creating a model\n",
    "model=Sequential()"
   ]
  },
  {
   "cell_type": "code",
   "execution_count": 8,
   "metadata": {},
   "outputs": [],
   "source": [
    "# Designing Architecture\n",
    "layer1=Dense(units=32,activation=\"relu\",input_dim=30)\n",
    "model.add(layer1)\n",
    "model.add(Dense(units=16,activation='relu'))\n",
    "model.add(Dense(units=1,activation='sigmoid'))"
   ]
  },
  {
   "cell_type": "code",
   "execution_count": 9,
   "metadata": {},
   "outputs": [],
   "source": [
    "# Compiler\n",
    "model.compile(optimizer='adam',loss='binary_crossentropy',metrics=['accuracy'])"
   ]
  },
  {
   "cell_type": "code",
   "execution_count": 25,
   "metadata": {},
   "outputs": [],
   "source": [
    "# Fit function\n",
    "from sklearn.datasets import load_breast_cancer\n",
    "from sklearn.model_selection import train_test_split\n",
    "from sklearn.preprocessing import StandardScaler\n",
    "\n",
    "cancer=load_breast_cancer()\n",
    "x_train,x_test,y_train,y_test=train_test_split(cancer.data,cancer.target,test_size=0.2,random_state=0)\n",
    "\n",
    "sc=StandardScaler()\n",
    "x_train=sc.fit_transform(x_train)\n",
    "x_test=sc.fit_transform(x_test)"
   ]
  },
  {
   "cell_type": "code",
   "execution_count": 26,
   "metadata": {},
   "outputs": [
    {
     "name": "stdout",
     "output_type": "stream",
     "text": [
      "Epoch 1/20\n",
      "46/46 [==============================] - 0s 3ms/step - loss: 8.1004e-05 - accuracy: 1.0000 - val_loss: 0.0487 - val_accuracy: 0.9825\n",
      "Epoch 2/20\n",
      "46/46 [==============================] - 0s 2ms/step - loss: 7.6316e-05 - accuracy: 1.0000 - val_loss: 0.0484 - val_accuracy: 0.9825\n",
      "Epoch 3/20\n",
      "46/46 [==============================] - 0s 2ms/step - loss: 7.4713e-05 - accuracy: 1.0000 - val_loss: 0.0479 - val_accuracy: 0.9825\n",
      "Epoch 4/20\n",
      "46/46 [==============================] - 0s 3ms/step - loss: 6.9350e-05 - accuracy: 1.0000 - val_loss: 0.0482 - val_accuracy: 0.9825\n",
      "Epoch 5/20\n",
      "46/46 [==============================] - 0s 2ms/step - loss: 6.6454e-05 - accuracy: 1.0000 - val_loss: 0.0478 - val_accuracy: 0.9825\n",
      "Epoch 6/20\n",
      "46/46 [==============================] - 0s 2ms/step - loss: 6.3537e-05 - accuracy: 1.0000 - val_loss: 0.0481 - val_accuracy: 0.9825\n",
      "Epoch 7/20\n",
      "46/46 [==============================] - 0s 3ms/step - loss: 6.0981e-05 - accuracy: 1.0000 - val_loss: 0.0481 - val_accuracy: 0.9825\n",
      "Epoch 8/20\n",
      "46/46 [==============================] - 0s 3ms/step - loss: 5.8139e-05 - accuracy: 1.0000 - val_loss: 0.0489 - val_accuracy: 0.9825\n",
      "Epoch 9/20\n",
      "46/46 [==============================] - 0s 2ms/step - loss: 5.5528e-05 - accuracy: 1.0000 - val_loss: 0.0492 - val_accuracy: 0.9825\n",
      "Epoch 10/20\n",
      "46/46 [==============================] - 0s 2ms/step - loss: 5.2910e-05 - accuracy: 1.0000 - val_loss: 0.0480 - val_accuracy: 0.9825\n",
      "Epoch 11/20\n",
      "46/46 [==============================] - 0s 2ms/step - loss: 5.1407e-05 - accuracy: 1.0000 - val_loss: 0.0473 - val_accuracy: 0.9825\n",
      "Epoch 12/20\n",
      "46/46 [==============================] - 0s 2ms/step - loss: 4.9206e-05 - accuracy: 1.0000 - val_loss: 0.0466 - val_accuracy: 0.9825\n",
      "Epoch 13/20\n",
      "46/46 [==============================] - 0s 2ms/step - loss: 4.7495e-05 - accuracy: 1.0000 - val_loss: 0.0474 - val_accuracy: 0.9825\n",
      "Epoch 14/20\n",
      "46/46 [==============================] - 0s 3ms/step - loss: 4.4572e-05 - accuracy: 1.0000 - val_loss: 0.0467 - val_accuracy: 0.9825\n",
      "Epoch 15/20\n",
      "46/46 [==============================] - 0s 2ms/step - loss: 4.2966e-05 - accuracy: 1.0000 - val_loss: 0.0464 - val_accuracy: 0.9825\n",
      "Epoch 16/20\n",
      "46/46 [==============================] - 0s 2ms/step - loss: 4.0975e-05 - accuracy: 1.0000 - val_loss: 0.0463 - val_accuracy: 0.9825\n",
      "Epoch 17/20\n",
      "46/46 [==============================] - 0s 2ms/step - loss: 3.9938e-05 - accuracy: 1.0000 - val_loss: 0.0461 - val_accuracy: 0.9825\n",
      "Epoch 18/20\n",
      "46/46 [==============================] - 0s 3ms/step - loss: 3.8369e-05 - accuracy: 1.0000 - val_loss: 0.0459 - val_accuracy: 0.9825\n",
      "Epoch 19/20\n",
      "46/46 [==============================] - 0s 3ms/step - loss: 3.6568e-05 - accuracy: 1.0000 - val_loss: 0.0455 - val_accuracy: 0.9825\n",
      "Epoch 20/20\n",
      "46/46 [==============================] - 0s 2ms/step - loss: 3.4903e-05 - accuracy: 1.0000 - val_loss: 0.0449 - val_accuracy: 0.9825\n"
     ]
    },
    {
     "data": {
      "text/plain": [
       "<keras.callbacks.History at 0x233d592ffd0>"
      ]
     },
     "execution_count": 26,
     "metadata": {},
     "output_type": "execute_result"
    }
   ],
   "source": [
    "model.fit(x_train,y_train,epochs=20,batch_size=10,validation_data=(x_test,y_test))"
   ]
  },
  {
   "cell_type": "code",
   "execution_count": 30,
   "metadata": {},
   "outputs": [
    {
     "name": "stdout",
     "output_type": "stream",
     "text": [
      "4/4 [==============================] - 0s 0s/step\n",
      "4/4 [==============================] - 0s 3ms/step - loss: 0.0449 - accuracy: 0.9825\n"
     ]
    },
    {
     "data": {
      "text/plain": [
       "[0.0448887012898922, 0.9824561476707458]"
      ]
     },
     "execution_count": 30,
     "metadata": {},
     "output_type": "execute_result"
    }
   ],
   "source": [
    "# Evaluate\n",
    "predictions=model.predict(x_test)\n",
    "score=model.evaluate(x_test,y_test)\n",
    "score"
   ]
  }
 ],
 "metadata": {
  "kernelspec": {
   "display_name": "Python 3.9.12 ('base')",
   "language": "python",
   "name": "python3"
  },
  "language_info": {
   "codemirror_mode": {
    "name": "ipython",
    "version": 3
   },
   "file_extension": ".py",
   "mimetype": "text/x-python",
   "name": "python",
   "nbconvert_exporter": "python",
   "pygments_lexer": "ipython3",
   "version": "3.9.12"
  },
  "orig_nbformat": 4,
  "vscode": {
   "interpreter": {
    "hash": "c19b36fe549fe2dce1ac32d0dd317d0a363043eb1c14a547f46436cb05190cdf"
   }
  }
 },
 "nbformat": 4,
 "nbformat_minor": 2
}
