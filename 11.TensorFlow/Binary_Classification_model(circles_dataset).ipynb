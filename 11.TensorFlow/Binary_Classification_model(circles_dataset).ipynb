{
 "cells": [
  {
   "cell_type": "code",
   "execution_count": 2,
   "metadata": {},
   "outputs": [],
   "source": [
    "# import tensorflow as tf\n",
    "import numpy as np\n",
    "import pandas as pd\n",
    "import matplotlib.pyplot as plt\n",
    "from sklearn.datasets import make_circles\n",
    "from sklearn.model_selection import train_test_split"
   ]
  },
  {
   "cell_type": "code",
   "execution_count": null,
   "metadata": {},
   "outputs": [],
   "source": [
    "x,col=make_circles(n_samples=1000,noise=0.05,random_state=43)"
   ]
  },
  {
   "cell_type": "code",
   "execution_count": null,
   "metadata": {},
   "outputs": [],
   "source": [
    "col.shape[0]*0.25"
   ]
  },
  {
   "cell_type": "code",
   "execution_count": null,
   "metadata": {},
   "outputs": [],
   "source": [
    "x"
   ]
  },
  {
   "cell_type": "code",
   "execution_count": null,
   "metadata": {},
   "outputs": [],
   "source": [
    "coordinates=np.transpose(x)"
   ]
  },
  {
   "cell_type": "code",
   "execution_count": null,
   "metadata": {},
   "outputs": [],
   "source": [
    "coordinates[0][0],coordinates[1][0]"
   ]
  },
  {
   "cell_type": "code",
   "execution_count": null,
   "metadata": {},
   "outputs": [],
   "source": [
    "fig=plt.figure(figsize=[5,5])\n",
    "# plt.scatter(coordinates[0],coordinates[1],c=col)\n",
    "plt.scatter(x[:,0],x[:,1],c=col)\n",
    "plt.show"
   ]
  },
  {
   "cell_type": "code",
   "execution_count": null,
   "metadata": {},
   "outputs": [],
   "source": [
    "data=pd.DataFrame({\"x1\":x[:,0],\"x2\":x[:,1],\"labels\":col})\n",
    "data"
   ]
  },
  {
   "cell_type": "code",
   "execution_count": null,
   "metadata": {},
   "outputs": [],
   "source": [
    "x=data.drop([\"labels\"],axis=1)\n",
    "y=data.labels"
   ]
  },
  {
   "cell_type": "code",
   "execution_count": null,
   "metadata": {},
   "outputs": [],
   "source": [
    "x_train,x_test,y_train,y_test=train_test_split(x,y)"
   ]
  },
  {
   "cell_type": "code",
   "execution_count": null,
   "metadata": {},
   "outputs": [],
   "source": [
    "tf.random.set_seed(42)\n",
    "model=tf.keras.Sequential([tf.keras.layers.Dense(10,activation=\"relu\")])\n",
    "model.add(tf.keras.layers.Dense(5,activation=\"relu\"))\n",
    "model.add(tf.keras.layers.Dense(1,activation=\"sigmoid\"))\n",
    "model.compile(optimizer=tf.keras.optimizers.Adam(learning_rate=0.01),loss=tf.keras.losses.binary_crossentropy,metrics=[\"accuracy\"])"
   ]
  },
  {
   "cell_type": "code",
   "execution_count": null,
   "metadata": {},
   "outputs": [],
   "source": [
    "lr_scheduler=tf.keras.callbacks.LearningRateScheduler(lambda x: 1e-4*10**(x/20))\n",
    "history=model.fit(x_train,y_train,epochs=100,verbose=1)#,callbacks=[lr_scheduler])\n",
    "model.evaluate(x_train,y_train)"
   ]
  },
  {
   "cell_type": "code",
   "execution_count": null,
   "metadata": {},
   "outputs": [],
   "source": [
    "# look for commented code in above block\n",
    "pd.DataFrame(history.history).plot(figsize=(10,7))"
   ]
  },
  {
   "cell_type": "code",
   "execution_count": null,
   "metadata": {},
   "outputs": [],
   "source": [
    "lrs=1e-4*(10**(tf.range(100)/20))\n",
    "plt.figure(figsize=(7,4))\n",
    "plt.semilogx(lrs,history.history[\"loss\"])\n",
    "plt.xlabel(\"learning_rate\")\n",
    "plt.ylabel(\"Loss\")\n"
   ]
  },
  {
   "cell_type": "code",
   "execution_count": null,
   "metadata": {},
   "outputs": [],
   "source": [
    "def plot_decision_boundary(x,y,model):\n",
    "    x=np.array(x)\n",
    "    y=np.array(y)\n",
    "    x_min=x[:,0].min()-0.1\n",
    "    x_max=x[:,0].max()+0.1\n",
    "    y_min=x[:,1].min()-0.1\n",
    "    y_max=x[:,1].max()+0.1\n",
    "    xx,yy=np.meshgrid(np.linspace(x_min,x_max,100),np.linspace(y_min,y_max,100))\n",
    "    x_in=np.c_[xx.ravel(),yy.ravel()]\n",
    "    y_pred=model.predict(x_in)\n",
    "    if len(y_pred[0])>1:\n",
    "        print(\"Multiclass Predictions\")\n",
    "        y_pred=np.argmax(y_pred,axis=1).reshape(xx.shape)\n",
    "    else:\n",
    "        print(\"Binary Classification\")\n",
    "        y_pred=np.round(y_pred).reshape(xx.shape)\n",
    "    plt.contourf(xx,yy,y_pred,cmap=\"turbo\",alpha=0.7)\n",
    "    plt.scatter(x[:,0],x[:,1],c=y,s=40,cmap=\"jet\")\n",
    "    plt.xlim(xx.min(),xx.max())\n",
    "    plt.ylim(yy.min(),yy.max())"
   ]
  },
  {
   "cell_type": "code",
   "execution_count": null,
   "metadata": {},
   "outputs": [],
   "source": [
    "plot_decision_boundary(x_train,y_train,model)"
   ]
  },
  {
   "cell_type": "code",
   "execution_count": null,
   "metadata": {},
   "outputs": [],
   "source": [
    "model.evaluate(x_test,y_test)\n",
    "plot_decision_boundary(x_test,y_test,model)"
   ]
  }
 ],
 "metadata": {
  "kernelspec": {
   "display_name": "base",
   "language": "python",
   "name": "python3"
  },
  "language_info": {
   "codemirror_mode": {
    "name": "ipython",
    "version": 3
   },
   "file_extension": ".py",
   "mimetype": "text/x-python",
   "name": "python",
   "nbconvert_exporter": "python",
   "pygments_lexer": "ipython3",
   "version": "3.11.4"
  },
  "orig_nbformat": 4,
  "vscode": {
   "interpreter": {
    "hash": "c19b36fe549fe2dce1ac32d0dd317d0a363043eb1c14a547f46436cb05190cdf"
   }
  }
 },
 "nbformat": 4,
 "nbformat_minor": 2
}
